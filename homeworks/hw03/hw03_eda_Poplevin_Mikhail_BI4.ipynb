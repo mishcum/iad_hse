{
 "cells": [
  {
   "cell_type": "markdown",
   "metadata": {
    "id": "_-RKdv_hOz2w"
   },
   "source": [
    "## Домашнее задание 3 (10 баллов)\n",
    "\n",
    "## НИУ ВШЭ, 2024-25 учебный год"
   ]
  },
  {
   "cell_type": "markdown",
   "metadata": {
    "id": "3bE2TA5CPERz"
   },
   "source": [
    "## Формат сдачи\n",
    "\n",
    "Сам ноутбук называйте в формате hw-03-USERNAME.ipynb, где USERNAME — ваши фамилия и имя. Файл надо будет сдать в anytask."
   ]
  },
  {
   "cell_type": "markdown",
   "metadata": {
    "id": "GP_GFktdOz2y"
   },
   "source": [
    "## О задании"
   ]
  },
  {
   "cell_type": "markdown",
   "metadata": {
    "id": "2DCX1ABpOz2z"
   },
   "source": [
    "В этом домашнем задании вы получите опыт подготовки данных и EDA (Exploratory Data Analysis), приблизившись к реальной работе с данными с помощью уже знакомых вам инструментов: numpy, pandas, matplotlib и seaborn, а также познакомитесь с plotly.\n",
    "\n",
    "EDA - важный этап работы с данными. Именно в процессе EDA вы можете выяснить особенности датасета, найти зависимости в данных, протестировать гипотезы о взаимосвязях признаков и целевой переменной. В реальности вы сами будете определять, что и как проверять в рамках EDA, однако в данной работе гипотезы будут выдвинуты за вас автором задания. Также и типы графиков, которые вы будете использовать уже предопределены за вас. Выполняя задания по визуализациям, обращайте внимание на референсные картинки, которые были оставлены авторами. Они показывают, какой примерно результат от вас ожидается.\n",
    "\n",
    "Это задание будет включать в себя построение некоторого количества графиков, потому вот основные правила, в соответствии с которыми графики должны быть оформлены:\n",
    "1. Любой график всегда имеет название.\n",
    "2. Оси у графика подписаны (исключение - график делит название оси с соседним).\n",
    "3. Подписи делаются на одном языке (либо английский, либо русский), но не на их смеси.\n",
    "4. Если вы выводите несколько графиков, то они размещаются в рамках одного объекта matplotlib.pyplot.figure. Вы не выводите графики последовательно, а смотрите, как их разместить сразу все за раз.\n",
    "5. Отдельные графики (если графиков на картинке больше 1) также имеют свои названия.\n",
    "6. Если на графике есть несколько различных объектов, то для их различения используется легенда. Помещайте легенду в место, где она в наименьшей мере мешает восприятию самого графика.\n",
    "7. Если есть легенда, то она должна иметь навание, а также ее содержание должно быть адекватными (пожалейте проверяющих, они не хотят разбирать, а к чему относится зеленая линия, которая на легенде помечена меткой \"0\").\n",
    "8. Используйте цветовые гаммы, чтобы объекты на графиках отличались цветом.\n",
    "9. Текст на визуализации должен быть читаем. Если вы вывели названия категорий в качестве подписей на оси Х, а эти названия наезжают друг на друга, то вам нужно что-то с этим сделать. Нечитаемый или плохо читаемый (очень маленький, невероятно огромный) текст ведет к снижению баллов.\n",
    "\n",
    "При работе с табличными данными используйте функционал [style](https://pandas.pydata.org/docs/user_guide/style.html#Builtin-Styles), чтобы визуально выделять необходимые элементы.\n",
    "\n",
    "В этом задании будут оцениваться ваши развернутые комментарии, размышления и выводы (по построенным графикам): не скупитесь на них, но следите, чтобы выводы не были поверхностными и очевидными.\n",
    "\n",
    "*Тут правило про плагиат, которое вам итак известно - обнуляются все работы, которые подозреваются в некорректных заимствованиях!* Помните, что просто скопировать код из интернета и указать источник - это не ваша самостоятельная работа, а автора кода. Измените хоть что-нибудь в коде."
   ]
  },
  {
   "cell_type": "markdown",
   "metadata": {
    "id": "m7Qy-DhWOz20"
   },
   "source": [
    "## О данных"
   ]
  },
  {
   "cell_type": "markdown",
   "metadata": {
    "id": "ED33HtOnOz20"
   },
   "source": [
    "Будем работать с [датасетом физической активности](https://www.kaggle.com/datasets/uciml/human-activity-recognition-with-smartphones).\n",
    "\n",
    "В этом датасете собраны данные 30 человек, выполняющих различные действия со смартфоном на поясе. Данные записывались с помощью датчиков (акселерометра и гироскопа) в этом смартфоне. Были зафиксированы: \"3-осевое линейное ускорение\" (_tAcc-XYZ_) и \"3-осевая угловая скорость\" (_tGyro-XYZ_).\n",
    "\n",
    "1. Все сигналы отсортированы по времени, пропущены через фильтр шума.\n",
    "2. Все наблюдения были разделены на окна по 128 сигналов в каждом, причем окна пересекаются на 50% (грубо говоря, с 1 по 128 сигнал в 1 окно, с 64 до 192 сигнала - во 2 окно и так далее). То есть каждое окно покрывает 2.56 секунды данных (два шага человека при ходьбе, учитывая медленную походку пожилых людей).\n",
    "3. Линейное ускорение было разделено на две составляющие (с помощью низкочастотного фильтра): ускорение самого тела, а также гравитационная составляющая. Будем называть их ускорением тела и гравитационным ускорением.\n",
    "4. К получившимся окнам применяли различные функции для получения следующих показателей:\n",
    "    - max\n",
    "    - min\n",
    "    - mad (median)\n",
    "    - mean\n",
    "    - std\n",
    "    - skewness (коэффициент асимметричности распределения признака в окне)\n",
    "    - etc. (подробнее, на сколько это возможно, указано в [самой статье](https://www.esann.org/sites/default/files/proceedings/legacy/es2013-84.pdf))\n",
    "5. Величина (magnitude) сигнала также определялась через евклидову норму всех значений из вектора для одного окна.\n",
    "6. К окнам было применено преобразование Фурье, чтобы получить частоты. Из частот были извелченыте же показатели, плюс новые:\n",
    "    - bandsEnergy (энергия частотного интервала)\n",
    "7. Были посчитаны углы между векторами соответствующих окон.\n",
    "8. Для ускорений были посчитаны производные - рывки, к которым применялись те же функции.\n",
    "\n",
    "Итог: в датасете каждый признак - это какая-то операция над вектором из 128 чисел, которые соответствуют замерам определенного человека занятого какой-то активностью на протяжении 2.56 секунд.\n",
    "\n",
    "Как читать названия признаков? Примеры:\n",
    "- `tBodyAccMag-mean()` - это вектор ускорений тела (без гравитационной составляющей этого ускорения), из которого взяли евклидову норму, а затем усреднили, чтобы получить скаляр\n",
    "- `fBodyAcc-bandsEnergy()-1,8.2` - это вектор ускорения тела, к которому применили преобразование Фурье, преобразовав его в вектор частот, а затем посчитали на этом векторе энергию данного частотного интервала в определенном диапазоне частот (в данном случае 1 - 8.2)\n",
    "- `angle(X,gravityMean)` - это угол между осью Х и вектором усредненных значений гравитационного ускорения из соответствующего окна\n",
    "\n",
    "Вероятно, сначала покажется сложным, но мы разберемся с некоторыми признаками в отдельности и вы сможете понять их смысл, уже исходя из фактических соотношений."
   ]
  },
  {
   "cell_type": "markdown",
   "metadata": {
    "id": "ijfu5bqsOz21"
   },
   "source": [
    "## Предобработка данных"
   ]
  },
  {
   "cell_type": "code",
   "execution_count": null,
   "metadata": {
    "id": "tQ9hyNNyOz21"
   },
   "outputs": [],
   "source": [
    "import pandas as pd\n",
    "import numpy as np\n",
    "import matplotlib.pyplot as plt\n",
    "import seaborn as sns\n",
    "\n",
    "import warnings\n",
    "warnings.filterwarnings(\"ignore\")"
   ]
  },
  {
   "cell_type": "code",
   "execution_count": null,
   "metadata": {
    "id": "7FePFKyPOz22"
   },
   "outputs": [],
   "source": [
    "train = pd.read_csv('train.csv')\n",
    "test = pd.read_csv(\"test.csv\")"
   ]
  },
  {
   "cell_type": "code",
   "execution_count": null,
   "metadata": {
    "id": "9hOpLEFTOz22",
    "outputId": "9c50fbff-9eb0-4523-c4c7-15998280a948"
   },
   "outputs": [],
   "source": [
    "train.shape"
   ]
  },
  {
   "cell_type": "markdown",
   "metadata": {
    "id": "VR_3rsjQOz23"
   },
   "source": [
    "В датасете 563 признака, включая целевую переменную. Столько признаков нам не нужно. Мы за вас сделали подвыборку признаков для удобства работы с ними."
   ]
  },
  {
   "cell_type": "code",
   "execution_count": null,
   "metadata": {
    "id": "urwq6XUDOz24"
   },
   "outputs": [],
   "source": [
    "cols_subset = [\n",
    "    'tBodyAccMag-mean()',  # усредненная величина ускорения тела\n",
    "    'tBodyGyroJerk-mad()-X',  # медианная величина рывка тела по оси Х\n",
    "    'tGravityAcc-min()-X',  # минимум гравитационной составляющей ускорения по оси Х\n",
    "    'tBodyAcc-max()-X',  # максимальная величина ускорения тела по оси Х\n",
    "    'fBodyAcc-bandsEnergy()-1,8.2',  # энергия ускорения тела в интервале частоты\n",
    "    'angle(X,gravityMean)',  # угол между осью Х и усредненной гравитационной составляющей ускорения\n",
    "    'angle(Y,gravityMean)',  # угол между осью Y и усредненной гравитационной составляющей ускорения\n",
    "    'angle(Z,gravityMean)',  # угол между осью Z и усредненной гравитационной составляющей ускорения,\n",
    "    'fBodyAcc-skewness()-X',  # асимметричность частоты ускорения тела по оси Х\n",
    "    'subject',  # номер испытуемого\n",
    "    'Activity',  # название вида деятельности (целевая переменная)\n",
    "]"
   ]
  },
  {
   "cell_type": "code",
   "execution_count": null,
   "metadata": {
    "id": "hyZlQPlYOz24"
   },
   "outputs": [],
   "source": [
    "train = train[cols_subset]\n",
    "test = test[cols_subset]\n",
    "# train.to_csv('cut_train.csv')\n",
    "# test.to_csv('cut_test.csv')"
   ]
  },
  {
   "cell_type": "markdown",
   "metadata": {
    "id": "DXMsuR-eOz24"
   },
   "source": [
    "### Задание 1 (0.5 балла)\n",
    "\n",
    "Посмотрите на пропуски и дубли в данных train и test. Есть ли они? Если есть, напишите, с чем это может быть связано? Если нет, то просто напишите, что пропусков и/или дублей нет."
   ]
  },
  {
   "cell_type": "code",
   "execution_count": null,
   "metadata": {
    "id": "C_YpsMBfOz25"
   },
   "outputs": [],
   "source": [
    "print(\n",
    "f'''test: \n",
    "Пропуски в test: {test.isnull().sum().sum()} \n",
    "Одинаковые значения есть в столбцах: {test.agg(lambda x: x.nunique() != x.shape[0])[lambda x: x].index.tolist()} \n",
    "Одинаковых строк: {test.duplicated().sum()}\n",
    "{30 * '-'}'''\n",
    ")\n",
    "\n",
    "print(\n",
    "f'''train: \n",
    "Пропуски в train: {train.isnull().sum().sum()} \n",
    "Одинаковые значения есть в столбцах: {train.agg(lambda x: x.nunique() != x.shape[0])[lambda x: x].index.tolist()} \n",
    "Одинаковых строк: {train.duplicated().sum()}\n",
    "{30 * '-'}'''\n",
    ")"
   ]
  },
  {
   "cell_type": "markdown",
   "metadata": {},
   "source": [
    "#### Ответ\n",
    "Пропусков в данных нет, дупликатов(одинаковых строк) тоже нет. Встречаются одинаковые данные в отдельно взятых столбцах, это могло произойти из-за: \n",
    "* Наложения окон, особенно для max и min  \n",
    "* Стабильности в действии, если человек сидит или стоит  \n",
    "* Также не стоит исключать вероятность совпадения показателей у хотя бы двоих из тридцати людей.  "
   ]
  },
  {
   "cell_type": "markdown",
   "metadata": {
    "id": "TEuhVBt9Oz25"
   },
   "source": [
    "### Задание 2 (0.5 балла)\n",
    "\n",
    "Выведите основные статистики данных: среднее, медиана, перцентили (0.25, 0.5, 0.75), минимум, максимум, стандартное отклонение. Посмотрите на таблицу и напишите, видите ли вы в ней что-нибудь интересное."
   ]
  },
  {
   "cell_type": "code",
   "execution_count": null,
   "metadata": {
    "id": "0VSPMMxnOz25"
   },
   "outputs": [],
   "source": [
    "stat = train.drop('subject', axis=1).describe().merge(test.drop('subject', axis=1).describe(), how='outer', left_index=True, right_index=True, suffixes=['(train)', '(test)'])\n",
    "stat[\n",
    "    ['tBodyAccMag-mean()(train)', 'tBodyAccMag-mean()(test)', \n",
    "    'tBodyGyroJerk-mad()-X(train)', 'tBodyGyroJerk-mad()-X(test)', \n",
    "    'tGravityAcc-min()-X(train)', 'tGravityAcc-min()-X(test)', \n",
    "    'tBodyAcc-max()-X(train)', 'tBodyAcc-max()-X(test)', \n",
    "    'fBodyAcc-bandsEnergy()-1,8.2(train)', 'fBodyAcc-bandsEnergy()-1,8.2(test)', \n",
    "    'angle(X,gravityMean)(train)', 'angle(X,gravityMean)(test)', \n",
    "    'angle(Y,gravityMean)(train)', 'angle(Y,gravityMean)(test)', \n",
    "    'angle(Z,gravityMean)(train)', 'angle(Z,gravityMean)(test)', \n",
    "    'fBodyAcc-skewness()-X(train)', 'fBodyAcc-skewness()-X(test)']\n",
    "]"
   ]
  },
  {
   "cell_type": "markdown",
   "metadata": {},
   "source": [
    "#### Ответ\n",
    "В целом данные в `train` и `test`статистически схожи, но если посмотореть на max, то можно заметить, что для `tBodyAccMag-mean()`, `tBodyGyroJerk-mad()-X`, `fBodyAcc-bandsEnergy()-1,8.2` в `train` максимальные значения гораздо выше чем в `test`, обратная ситуация наблюдается в `angle(Y,gravityMean)`. Также можно заметить ассиметричность в распределении некторых признаков, например в `tBodyAccMag-mean()`"
   ]
  },
  {
   "cell_type": "markdown",
   "metadata": {
    "id": "dBR0YrMQOz25"
   },
   "source": [
    "### Задание 3 (0.5 балла)\n",
    "\n",
    "Данные сбалансированы? У вас есть 6 категорий активности (целевая переменная). Если одна из категорий представлена большим количеством наблюдений, а остальные - нет, то это обстоятельство, о котором хотелось бы знать заранее. Гиперболизированный пример: представьте, что у вас 1000 наблюдений, разделенных на два класса, и только 5 принадлежат ко второму классу. Как учить модель на такой выборке? Есть сильное подозрение, что многие модели будут склонны вырождаться в константу. Отсюда и необходимость проверять баланс классов.\n",
    "\n",
    "Выведите количество наблюдений для всех категорий активности в train и test. Посчитайте разницу в процентах между самой крупной категорией и самой маленькой (самая большая категория - это 100%). Если разница (округленная до ближайшего целого числа) не превышает 30%, то давайте для наших целей считать, что данные сбалансированы. Напишите, сбалансированы ли данные в train и test."
   ]
  },
  {
   "cell_type": "code",
   "execution_count": null,
   "metadata": {
    "id": "oXZp7YEoOz25"
   },
   "outputs": [],
   "source": [
    "train_act = train.groupby('Activity').count()['subject']\n",
    "test_act = test.groupby('Activity').count()['subject']\n",
    "\n",
    "train_act.name = 'train'\n",
    "test_act.name = 'test'\n",
    "\n",
    "act = pd.concat([train_act, test_act], axis=1)\n",
    "act"
   ]
  },
  {
   "cell_type": "code",
   "execution_count": null,
   "metadata": {},
   "outputs": [],
   "source": [
    "print(f'Разница между самой большой и маленькой в train: {round((act['train'].max() - act['train'].min()) / act['train'].max() * 100.0)}%')\n",
    "print(f'Разница между самой большой и маленькой в test: {round((act['test'].max() - act['test'].min()) / act['test'].max() * 100.0)}%')"
   ]
  },
  {
   "cell_type": "markdown",
   "metadata": {},
   "source": [
    "#### Ответ: данные в train и test сбалансированы"
   ]
  },
  {
   "cell_type": "markdown",
   "metadata": {
    "id": "OEYgOZGNOz26"
   },
   "source": [
    "### Задание 4 (0.5 балла)\n",
    "\n",
    "Посчитайте корреляции всех признаков (включая таргет) со всеми другими. Какими получились значения? Есть идеи, почему так? Напишите ваши мысли."
   ]
  },
  {
   "cell_type": "code",
   "execution_count": null,
   "metadata": {
    "id": "_R09O5A6Oz26"
   },
   "outputs": [],
   "source": [
    "train['act_code'], un_vals = pd.factorize(train['Activity'])\n",
    "train.corr(numeric_only=True)"
   ]
  },
  {
   "cell_type": "markdown",
   "metadata": {},
   "source": [
    "#### Ответ: \n",
    "Можно заметить достаточно высокий уровень корреляции между физическими признаками, так как они характеризуют показатели физической активности. Корреляция таргета высока **почти** со всеми показателями, это означает, что признаки важны. Признаки `tBodyAcc-max()-X` и `tBodyAccMag-mean()` показывают почти полную зависимость - _0.95_. Аналогично с признакми `tGravityAcc-min()-X` и `angle(X,gravityMean)` - _-0.98_, возможно, некоторые из них избыточны. Признаки `tBodyAccMag-mean()`, `tBodyAcc-max()-X`, `tBodyGyroJerk-mad()-X` и `fBodyAcc-bandsEnergy()-1,8.2` имеют самую высокую корреляцию с таргетом."
   ]
  },
  {
   "cell_type": "markdown",
   "metadata": {
    "id": "CwpKBf2hOz26"
   },
   "source": [
    "Поздравляем! Вы предобработали данные для максимально комфортного их последующего анализа. Теперь вы готовы приступить к Exploratory Data Analysis!"
   ]
  },
  {
   "cell_type": "markdown",
   "metadata": {
    "id": "NONR-ZanOz26"
   },
   "source": [
    "## Exploratory Data Analysis"
   ]
  },
  {
   "cell_type": "markdown",
   "metadata": {
    "id": "XlAKgHJwOz26"
   },
   "source": [
    "### Задание 5 (0.5 балла)\n",
    "\n",
    "Вы проверили основную информацию о данных и составили свое первое впечатление о них. Теперь визуализации.\n",
    "\n",
    "Начнем рисовать графики с небольшой разминки. Выберите две любые математические функции (отличные от линейной) и нарисуйте их на одном графике. Подпишите каждый из графиков, чтобы было понятно, какие функции вы выбрали. Ниже будет пример."
   ]
  },
  {
   "cell_type": "code",
   "execution_count": null,
   "metadata": {
    "id": "WrRha4jCOz27",
    "outputId": "b0dc12b4-8fa1-417e-c25d-20292bade976"
   },
   "outputs": [],
   "source": [
    "x = np.arange(-5, 6, 0.1)\n",
    "par1 = x ** 2 + x - 5\n",
    "par2 = -x ** 2 - x + 5\n",
    "\n",
    "fig = plt.figure(figsize=(10, 5))\n",
    "ax = fig.add_subplot(1, 1, 1)\n",
    "\n",
    "ax.plot(x, par1, linestyle='-.', color='g', label='y = x^2 + x - 5', linewidth=3)\n",
    "ax.plot(x, par2, linestyle=':', color='r', label='y = -x^2 - x + 5', linewidth=3)\n",
    "\n",
    "ax.axhline(0, color='black', linewidth=.5)  \n",
    "ax.axvline(0, color='black', linewidth=.5)\n",
    "\n",
    "ax.set_xlabel('X')\n",
    "ax.set_ylabel('Y')\n",
    "\n",
    "ax.grid()\n",
    "ax.legend(title='Functions')\n",
    "plt.title('Parabols')\n",
    "\n",
    "plt.show()"
   ]
  },
  {
   "cell_type": "markdown",
   "metadata": {
    "id": "VR_x73h9Oz27"
   },
   "source": [
    "### Задание 6 (0.5 балла)\n",
    "\n",
    "Ранее мы уже проверили сбалансированность данных по разным категориям активностей в train и test сетах. Теперь визуализируйте количество сэмплов в каждой из категорий отдельно для train и test сетов, как в примере ниже. Проследите, чтобы порядок категорий слева и справа был одинаков. Иначе не очень удобно их сравнивать (когда они в разных местах двух графиков). Также заметьте, что в примере ось Х в одинаковом масштабе, что тоже удобно для сравнения.\n",
    "\n",
    "Вам может пригодиться:\n",
    "- plt.barh или ax.barh"
   ]
  },
  {
   "cell_type": "code",
   "execution_count": null,
   "metadata": {
    "id": "V7YsXXi2Oz27",
    "outputId": "12c53135-9a8b-4932-86e7-66f00d2c2a43"
   },
   "outputs": [],
   "source": [
    "act.sort_values(by='train', inplace=True, ascending=False)\n",
    "fig, axes = plt.subplots(1, 2, figsize=(15, 5))\n",
    "max_count = max(act['train'].max(), act['test'].max()) + 50\n",
    "\n",
    "axes[0].barh(act.index, act['train'], color='blue')\n",
    "axes[0].set_xlim(0, max_count)\n",
    "axes[0].invert_xaxis()\n",
    "axes[0].set_xlabel('Count')\n",
    "axes[0].set_ylabel('Activity')\n",
    "axes[0].set_title('Train set')\n",
    "\n",
    "axes[1].barh(act.index, act['test'], color='red')\n",
    "axes[1].set_xlim(0, max_count)\n",
    "axes[1].yaxis.tick_right()\n",
    "axes[1].set_xlabel('Count')\n",
    "axes[1].set_ylabel('Activity')\n",
    "axes[1].yaxis.set_label_position('right')\n",
    "axes[1].set_title('Test set')\n",
    "\n",
    "fig.subplots_adjust(wspace=0.05)\n",
    "fig.suptitle('Target variables distribution', fontsize=16, fontweight='bold')\n",
    "plt.show()\n"
   ]
  },
  {
   "cell_type": "markdown",
   "metadata": {
    "id": "k1D3KNb8Oz27"
   },
   "source": [
    "Правда на таких графиках проще проверять баланс классов таргета?)"
   ]
  },
  {
   "cell_type": "markdown",
   "metadata": {
    "id": "qJwv2Ct-Oz28"
   },
   "source": [
    "### Задание 7 (0.5 балла)\n",
    "\n",
    "Ранее вы выводили таблицу корреляций. Однако просто таблица корреляций не очень удобна для анализа. Что, если признаков было бы больше? Визуализируйте heatmap корреляций. Подпишите значения корреляций, округленные до 2 знаков после запятой, на графике и оставьте только те значения, которые по модулю не меньше 0.5. Будем считать такие корреляции существенными. Если будете брать код из семинарского ноутбука, то поменяйте в нем что-нибудь, например, цветовую гамму, иначе проверяющий будет карать :)\n",
    "\n",
    "Какой признак стоит исключить из рассмотрения корреляций? Напишите его название, а также причину, почему нет смысла его рассматривать.\n",
    "\n",
    "Вам может пригодиться:\n",
    "- sns.heatmap\n",
    "- методы get_text и set_text у атрибута texts графика"
   ]
  },
  {
   "cell_type": "code",
   "execution_count": null,
   "metadata": {
    "id": "L71LU88TOz28",
    "outputId": "e8aa05e3-c374-4fb1-dec8-f40cd356e32a"
   },
   "outputs": [],
   "source": [
    "plt.figure(figsize=(15, 10))\n",
    "plt.title('Correlation heatmap', fontweight='bold', fontsize=18)\n",
    "\n",
    "ax = sns.heatmap(train.drop('subject', axis=1).corr(numeric_only=True), annot=True, fmt='.2f', cmap='Blues', linewidths=2)\n",
    "\n",
    "for t in ax.texts: \n",
    "    t.set_text(t.get_text() if abs(float(t.get_text())) >= 0.5 else \"\")\n",
    "     \n",
    "plt.show()"
   ]
  },
  {
   "cell_type": "markdown",
   "metadata": {},
   "source": [
    "#### Ответ:\n",
    "Из рассмотрения корреляций стоит исключить признак - `subject`. Данный признак просто обозначает номер человека, на котором производилось измерение. Данный признак не обозначает никакой зависимости между людьми, будто уровень физической подготовки, возраст, пол и др."
   ]
  },
  {
   "cell_type": "markdown",
   "metadata": {
    "id": "eAUdFJMqOz28"
   },
   "source": [
    "### Задание 8 (0.5 балла)\n",
    "\n",
    "Для начала будем стрелять из пушки по воробьям. Выведите pairplot по всем данным train сета. Напишите, заметили ли вы в нем что-нибудь интересное, чего не было в таблицах и графиках ранее, а также сообщите, было ли вам удобно анализировать 100 графиков."
   ]
  },
  {
   "cell_type": "code",
   "execution_count": null,
   "metadata": {
    "id": "U4x0HfWUOz28",
    "outputId": "0d49b928-cbbb-4a32-932a-9c099a371937"
   },
   "outputs": [],
   "source": [
    "sns.pairplot(train.drop('subject', axis=1))\n",
    "plt.show()"
   ]
  },
  {
   "cell_type": "markdown",
   "metadata": {},
   "source": [
    "# Неудобно"
   ]
  },
  {
   "cell_type": "markdown",
   "metadata": {
    "id": "m3UY2eF2Oz29"
   },
   "source": [
    "### Задание 9 (1 балл)\n",
    "\n",
    "Окей. Смотреть на все сразу не очень удобно. Кажется, нужно смотреть на признаки в отдельности и искать в них инсайты.\n",
    "\n",
    "Попробуем проверить гипотезу. Отобразите плотность распределения (kde) `tBodyAccMag-mean()` для каждой из активностей, как в примере ниже. Видите закономерность? Можно ли поделить все активности на две группы? Если да, то проведите вертикальную линию, которая визуально неплохо разделяет эти группы.\n",
    "\n",
    "Давайте первую группу называть статическими активностями, а вторую - динамическими.\n",
    "\n",
    "Посчитайте, какую долю правильных ответов дает ваша вертикальная линия для разделения именно этих двух групп. С чем может быть связан полученный вами результат? Предположите логическое обоснование (почему именно данный признак так хорошо/плохо разделяет группы активностей).\n",
    "\n",
    "Вам может пригодиться:\n",
    "- sns.kdeplot"
   ]
  },
  {
   "cell_type": "code",
   "execution_count": null,
   "metadata": {
    "id": "UTIFUXyKOz29",
    "outputId": "7eb979d7-b2c0-42fe-8982-18d655b08849"
   },
   "outputs": [],
   "source": [
    "import matplotlib.animation as animation # с анимацией красиво получится\n",
    "from IPython.display import HTML\n",
    "\n",
    "# Заполним тип в соответствии с таргетом\n",
    "train['True type of activity'] = np.where(train['Activity'].isin(['SITTING', 'STANDING', 'LAYING']), 'Static', 'Dynamic')\n",
    "\n",
    "fig, ax = plt.subplots(figsize=(10, 6))\n",
    "\n",
    "for activity in train['Activity'].unique():\n",
    "    sns.kdeplot(train[train['Activity'] == activity]['tBodyAccMag-mean()'], label=activity, ax=ax)\n",
    "\n",
    "ax.set_xlabel('Body Acceleration')\n",
    "ax.set_title('Mean body acceleration for activities', fontweight='bold', fontsize=16)\n",
    "ax.legend(title='Activity')\n",
    "\n",
    "# Линии для threshold и best threshold\n",
    "threshold_line = ax.axvline(x=-1, linestyle='--', color='black', label='Threshold', alpha=0.3)\n",
    "best_threshold_line = ax.axvline(x=-1, linestyle='-', color='black', label='Best Threshold')\n",
    "ax.legend()\n",
    "\n",
    "best_accuracy = 0\n",
    "best_threshold = -1\n",
    "\n",
    "def calc_accuracy(threshold):\n",
    "    train['Type of activity'] = np.where(train['tBodyAccMag-mean()'] < threshold, 'Static', 'Dynamic')\n",
    "    right_ans = train[train['Type of activity'] == train['True type of activity']].shape[0]\n",
    "    all_ans = train.shape[0]\n",
    "    return right_ans / all_ans\n",
    "\n",
    "def update(frame):\n",
    "    global best_accuracy, best_threshold\n",
    "    current_threshold = np.linspace(-1, 1, 100)[frame]  \n",
    "    threshold_line.set_xdata([current_threshold])\n",
    "    \n",
    "    current_accuracy = calc_accuracy(current_threshold)\n",
    "    \n",
    "    if current_accuracy > best_accuracy:\n",
    "        best_accuracy = current_accuracy\n",
    "        best_threshold = current_threshold\n",
    "        best_threshold_line.set_xdata([best_threshold])\n",
    "    \n",
    "    ax.set_title(f'Mean body acceleration\\nThreshold: {current_threshold:.2f}, 'f'Best Threshold: {best_threshold:.2f}, Best Accuracy: {best_accuracy:.2f}', fontweight='bold', fontsize=16)\n",
    "    \n",
    "    return threshold_line, best_threshold_line\n",
    "\n",
    "ani = animation.FuncAnimation(fig, update, frames=100, interval=50, blit=False)\n",
    "\n",
    "\n",
    "HTML(ani.to_jshtml())"
   ]
  },
  {
   "cell_type": "code",
   "execution_count": null,
   "metadata": {},
   "outputs": [],
   "source": [
    "# Разделим активности на две группы исходя из линии\n",
    "train['Type of activity'] = np.where(train['tBodyAccMag-mean()'] < round(best_threshold, 2), 'Static', 'Dynamic')\n",
    "wrong_ans = train[train['Type of activity'] != train['True type of activity']].shape[0] # Неправильные\n",
    "right_ans = train[train['Type of activity'] == train['True type of activity']].shape[0] # Правильные\n",
    "all_ans = train.shape[0]\n",
    "\n",
    "print(f'Всего: {all_ans}, Правильные: {right_ans}, Неправильные: {wrong_ans}')\n",
    "print(f'Доля верных ответов (accuracy): {right_ans / all_ans}')"
   ]
  },
  {
   "cell_type": "code",
   "execution_count": null,
   "metadata": {},
   "outputs": [],
   "source": [
    "# Посмотрим, что происходит чаще: Static, при верном ответе Dynamic? или наоборот?\n",
    "print(f'Неправильно определили Static: {train[(train['True type of activity'] == 'Static') & (train['Type of activity'] == 'Dynamic')].shape[0]}')\n",
    "print(f'Неправильно определили Dynamic: {train[(train['True type of activity'] == 'Dynamic') & (train['Type of activity'] == 'Static')].shape[0]}')"
   ]
  },
  {
   "cell_type": "markdown",
   "metadata": {},
   "source": [
    "#### Вывод:\n",
    "Доля правильных ответов для линии - 0.99. Среднее ускорение тела напрямую харектиризует статично действие или динамично. В 53 из 55 случаев ошибки, активность была статичной, но по линии - динамичной. Это может быть связано с тем, что человек мог двигаться очень короткий промежуток времени."
   ]
  },
  {
   "cell_type": "markdown",
   "metadata": {
    "id": "7xp_7pCMOz2-"
   },
   "source": [
    "### Задание 10 (0.5 балла)\n",
    "\n",
    "Поздравляем, вы проверили первую гипотезу в процессе EDA. Однако нам бы хотелось уметь не группы разделять, а каждый отдельный вид активности. Попробуйте нарисовать \"ящики с усами\" для `angle(X,gravityMean)` с разделением по разным видам активности на данных train. Можно ли сделать какой-то вывод по полученной визуализации? Проанализируйте и проинтерпретируйте полученные картинки (если заметили какую-то особенность, может какая-то категория значительно выделяется, то предположите, почему так могло произойти).\n",
    "\n",
    "Вам может пригодиться:\n",
    "- sns.boxplot"
   ]
  },
  {
   "cell_type": "code",
   "execution_count": null,
   "metadata": {
    "id": "P-X6aol_Oz2-",
    "outputId": "87878f9a-c9b8-45eb-a4ec-bc40eb38f6a2"
   },
   "outputs": [],
   "source": [
    "fig = plt.figure(figsize=(15, 5))\n",
    "ax = fig.add_subplot(1, 1, 1)\n",
    "for activity in train['Activity'].unique():\n",
    "    sns.boxplot(x='Activity', y='angle(X,gravityMean)', data=train[train['Activity'] == activity], ax=ax)\n",
    "plt.xticks(rotation=30)\n",
    "plt.ylabel('Angle')\n",
    "plt.title('Angle between X axis and gravitational acceleration', fontweight='bold', fontsize=16)\n",
    "plt.show()"
   ]
  },
  {
   "cell_type": "markdown",
   "metadata": {},
   "source": [
    "#### Вывод\n",
    "Данные на графике отражают углы между положением человека и ускорением гравитации. Положение человека лежа значительно выделяется, так как во всех остальных активностях человек расположен относительно вертикально (может немного наклонятся при подъемах и спусках на лестницах и ходьбе). Выбросы при сидении могут быть связаны с разным положением, например из-за наклона спинки стула или кресла. Также среди динамических активностей можно выделить `WALKING_UPSTAIRS` "
   ]
  },
  {
   "cell_type": "markdown",
   "metadata": {
    "id": "BrUe8XnhOz2-"
   },
   "source": [
    "### Задание 11 (0.5 балла)\n",
    "\n",
    "Посмотрим теперь на `tBodyAcc-max()-X`. Визуализируйте скрипичные диаграммы для этого признака с разделением по активностям на всем train. Кажется логичным, что максимальное ускорение в моменте для разных активностей будет различаться. Однако есть ли активность, которая будет выделяться? Если да, то предложите объяснение, почему эта активность выделяется.\n",
    "\n",
    "Вам может пригодиться:\n",
    "- sns.violinplot"
   ]
  },
  {
   "cell_type": "code",
   "execution_count": null,
   "metadata": {
    "id": "vjkMU76iOz2_",
    "outputId": "f067082d-b9a2-497d-b3e7-145e9032245e"
   },
   "outputs": [],
   "source": [
    "fig = plt.figure(figsize=(15, 7))\n",
    "ax = fig.add_subplot(1, 1, 1)\n",
    "sns.violinplot(x='Activity', y='tBodyAcc-max()-X', data=train, ax=ax, inner='quartile', orient='x', split=True, hue='Activity')\n",
    "plt.ylabel('Maximal acceleration')\n",
    "plt.title('Maximal body acceleration over activities', fontweight='bold', fontsize=16) \n",
    "plt.grid()\n",
    "plt.show()"
   ]
  },
  {
   "cell_type": "markdown",
   "metadata": {},
   "source": [
    "#### Вывод\n",
    "Среди всех активностей больше всего выделяется спуск по лестнице, у него самое большое ускорение. Это может быть связано с тем, что человек достаточно резко разгоняется при начале спуска, и резко замедляется в конце, подходя к следующему пролету."
   ]
  },
  {
   "cell_type": "markdown",
   "metadata": {
    "id": "8hrJhqzNOz2_"
   },
   "source": [
    "### Задание 12 (1 балл)\n",
    "\n",
    "Вы уже можете с довольно хорошим качеством выделить две категории активности из шести. Продолжим.\n",
    "\n",
    "Ранее уже упоминалось разделение на две группы активностей: статические и динамические. Пришла пора разделить датасет train на две части. Сделайте это! Теперь на одной картинке покажите распределения `fBodyAcc-bandsEnergy()-1,8.2` для динамичных активностей (`boxenplot` - немного измененый \"ящик с усами\") и `angle(Y,gravityMean)` для статических - тут хватит и простой гистограммы (прямо, как в примере ниже). Можно ли выделить еще какие-то активности? Если да, напишите, какие активности на 1 и 2 графиках выделяются.\n",
    "\n",
    "Вам может пригодиться:\n",
    "- plt.subplots или matplotlib.gridspec (заметили, что один график больше другого? попробуйте сами так сделать - вам понравится...)\n",
    "- sns.boxenplot\n",
    "- sns.histplot"
   ]
  },
  {
   "cell_type": "code",
   "execution_count": null,
   "metadata": {
    "id": "m6oreE9qOz2_",
    "outputId": "abab2d4f-429b-40dd-8509-d0ed99a798f9"
   },
   "outputs": [],
   "source": [
    "train_dyn = train[train['True type of activity'] == 'Dynamic']\n",
    "train_stat = train[train['True type of activity'] == 'Static']\n",
    "\n",
    "fig = plt.figure(figsize=(15, 5))\n",
    "grid_spec = fig.add_gridspec(1, 2, width_ratios=[2, 1])\n",
    "ax = fig.add_subplot(grid_spec[0])\n",
    "\n",
    "sns.boxenplot(x='Activity', y='fBodyAcc-bandsEnergy()-1,8.2', data=train_dyn, ax=ax)\n",
    "ax.set_title('Dynamic activities')\n",
    "ax.set_ylabel('Frequency energy')\n",
    "\n",
    "ax = fig.add_subplot(grid_spec[1])\n",
    "for activity in train_stat['Activity'].unique():\n",
    "    sns.histplot(x='angle(Y,gravityMean)', data=train_stat[train_stat['Activity'] == activity], ax=ax, alpha=.5, label=activity, binwidth=.021)\n",
    "ax.set_title('Static activities')\n",
    "ax.set_xlabel('Angle')\n",
    "ax.legend(title='Activity')\n",
    "\n",
    "fig.suptitle('Angle and Energy for activities', fontweight='bold', fontsize=16)\n",
    "plt.show()"
   ]
  },
  {
   "cell_type": "markdown",
   "metadata": {},
   "source": [
    "#### Вывод\n",
    "Среди статических активностей можно выделить положение стоя - чаще всего угол между осью Y и средним направлением гравитации в пределах 0.15 - 0.3, в положении лежа это значение чаще всего составляет -1 - -0.3. Среди динамических активностей по энергии ускорения тела, выделяется подъем по лестнице на фоне простой ходьбы и немного на фоне спуска по лестнице."
   ]
  },
  {
   "cell_type": "markdown",
   "metadata": {
    "id": "nD2ugHg0Oz3B"
   },
   "source": [
    "### Задание 13 (0.5 балла)\n",
    "\n",
    "Не всегда жизнь будет такой легкой, а данные будут полностью или почти линейно разделимы в одному признаку (иначе чем бы занимались дата саентисты...). Часто данные вообще ни по одному признаку нельзя адекватно разделить (да и по комбинациям признаков тоже). Давайте попробуем взять не один признак, а целых два!\n",
    "\n",
    "Рассмотрим только статические активности. Будет снова два графика сразу. На первом графике будет боксплот распределения `fBodyAcc-skewness()-X` по активностям. А на втором попробуем взять не все наблюдения данной группы активностей, а только их часть. Разделимы ли категории по `fBodyAcc-skewness()-X`? А если взять только те строки, где `fBodyAcc-skewness()-X < -0.376`, и теперь вывести боксплот распределения `angle(Y,gravityMean)` по разным активностям? Попробуйте и напишите, выделилась ли какая-то категория?\n",
    "\n",
    "Вам может пригодиться:\n",
    "- plt.subplots или matplotlib.gridspec\n",
    "- sns.boxplot"
   ]
  },
  {
   "cell_type": "code",
   "execution_count": null,
   "metadata": {
    "id": "SnRLcH7JOz3B",
    "outputId": "5e23f8e3-a804-456d-ffe0-4d7b46ed6737"
   },
   "outputs": [],
   "source": [
    "fig = plt.figure(figsize=(15, 5))\n",
    "\n",
    "ax = fig.add_subplot(1, 2, 1)\n",
    "sns.boxplot(x='Activity', y='fBodyAcc-skewness()-X', data=train_stat, ax=ax, palette='bright')\n",
    "ax.set_ylabel('Skewness')\n",
    "ax.set_title('Skewness of body acceleration over activities')\n",
    "\n",
    "ax = fig.add_subplot(1, 2, 2)\n",
    "sns.boxplot(x='Activity', y='angle(Y,gravityMean)', data=train_stat[train_stat['fBodyAcc-skewness()-X'] < -0.376], ax=ax, palette='bright')\n",
    "ax.set_ylabel('Angle')\n",
    "ax.set_title('Angle between Y-axis and gravity acceleration over activities')\n",
    "\n",
    "fig.suptitle('Acceleration and Angle over static activities', fontweight='bold', fontsize=16)\n",
    "\n",
    "plt.show()"
   ]
  },
  {
   "cell_type": "markdown",
   "metadata": {},
   "source": [
    "#### Ответ:\n",
    "Разделение по `fBodyAcc-skewness()-X` затруднено из-за перекрытия и выбросов. По признаку `angle(Y,gravityMean)` выделятся **_LAYNG_** на фоне остальных статических активностей. Также можно с небольшой точностью отделить `STANDING` и `SITTING` (правый график)."
   ]
  },
  {
   "cell_type": "markdown",
   "metadata": {
    "id": "TSehQ2bmOz3B"
   },
   "source": [
    "Поздравляем, теперь вы на шажок ближе к тому, чтобы стать решающим деревом!"
   ]
  },
  {
   "cell_type": "markdown",
   "metadata": {
    "id": "8H03vJo5Oz3C"
   },
   "source": [
    "### Задание 14 (1 балл)\n",
    "\n",
    "Вот и осталась лишь одна активность, которую мы никак не выделили. Попробуем и ее какими-то порогами отделить от всех остальных. Да, можно было бы сказать, что, раз уж мы выделили 5 из 6 категорий, то все остальное - это и есть последняя категория, но мы не идем легкими путями. Выделить оставшуюсь категорию с хорошим качеством не так уж и просто. Из доступных признаков, сначала посмотрите на распределение `tBodyAcc-max()-X` на динамических активностях (скрипичная диаграмма отлично подойдет).\n",
    "\n",
    "А теперь спускаем вам порог `tBodyAcc-max()-X < 0.157`. Для таких строк постройте диаграмму рассеяния для признака `tGravityAcc-min()-X`. Да, получается неидеально, но это честная работа. Можно выбрать порог так, чтобы чисто из таблицы с динамическими активностями из строк, где `tBodyAcc-max()-X < 0.157`, выбрать по некоторому порогу для `tGravityAcc-min()-X` строки так, чтобы доля правильных ответов на оставшейся категории была не меньше 83%!\n",
    "\n",
    "Вам может пригодиться:\n",
    "- plt.subplots или matplotlib.gridspec\n",
    "- sns.violinplot\n",
    "- sns.swarmplot (иногда лучше подходит, чем просто sns.scatterplot)\n",
    "\n",
    "Обратите внимание, что подписи к осям можно убирать методами plt. Например, если у вас общее название для оси Y для обоих графиков, то можно не подписывать ось Y у второго графика."
   ]
  },
  {
   "cell_type": "code",
   "execution_count": null,
   "metadata": {
    "id": "gS_UxIXkOz3C",
    "outputId": "9fb83a4a-a7c9-4efc-8bd3-dde497be6e4d"
   },
   "outputs": [],
   "source": [
    "fig = plt.figure(figsize=(15, 5))\n",
    "\n",
    "ax = fig.add_subplot(1, 2, 1)\n",
    "sns.violinplot(x='Activity', y='tBodyAcc-max()-X', data=train_dyn, palette=\"mako\", ax=ax)\n",
    "ax.set_title('Maximal body acceleration over activities')\n",
    "ax.set_ylabel('Acceleration')\n",
    "\n",
    "ax = fig.add_subplot(1, 2, 2)\n",
    "sns.swarmplot(x='Activity', y='tGravityAcc-min()-X', data=train_dyn[train_dyn['tBodyAcc-max()-X'] < 0.157], ax=ax, palette='bright')\n",
    "ax.set_ylabel('')\n",
    "ax.set_title('Minimal gravity acceleration over activities')\n",
    "\n",
    "fig.suptitle('Body and gravity acceleration over dinamic activities', fontweight='bold', fontsize=16)\n",
    "plt.legend()\n",
    "fig.subplots_adjust(wspace=0.1)\n",
    "plt.show()"
   ]
  },
  {
   "cell_type": "markdown",
   "metadata": {
    "id": "UICNZZSNOz3C"
   },
   "source": [
    "### Задание 15 (0.5 балла)\n",
    "\n",
    "Теперь попробуем более интерактивные графики. Установите библиотеку `plotly` (обычно `pip install plotly` или `conda install plotly`). Синтаксис очень похож на `seaborn`, но вот [документация для plotly.express](https://plotly.com/python-api-reference/plotly.express.html).\n",
    "\n",
    "Сначала подготовим данные для визуализации. Будем считать t-SNE просто \"черным ящиком\", который принимает наши данные и проецирует их в двумерное или трехмерное пространство. Возможно, придется немного подождать."
   ]
  },
  {
   "cell_type": "code",
   "execution_count": null,
   "metadata": {
    "id": "EPEQhSgaOz3D",
    "outputId": "bdffd9e7-b098-4388-fff3-41461867cfe7"
   },
   "outputs": [],
   "source": [
    "%%time\n",
    "from sklearn.manifold import TSNE\n",
    "tsne = TSNE(random_state=666, n_components=2)\n",
    "new = tsne.fit_transform(train.drop(['subject', 'Activity', 'True type of activity', 'Type of activity'], axis=1))\n",
    "df_2_comp = pd.concat([\n",
    "    pd.DataFrame(new, columns=['x', 'y']),\n",
    "    train['Activity']\n",
    "], axis=1)\n",
    "\n",
    "tsne = TSNE(random_state=666, n_components=3)\n",
    "new = tsne.fit_transform(train.drop(['subject', 'Activity', 'True type of activity', 'Type of activity'], axis=1))\n",
    "df_3_comp = pd.concat([\n",
    "    pd.DataFrame(new, columns=['x', 'y', 'z']),\n",
    "    train['Activity']\n",
    "], axis=1)"
   ]
  },
  {
   "cell_type": "markdown",
   "metadata": {
    "id": "QJf0eS7AOz3D"
   },
   "source": [
    "Теперь нарисуйте scatter-график через `plotly.express` для `df_2_comp` с выделением цветами активностей. Красиво получилось? Видны скопления точек одного цвета? Можно разные активности отделить линиями на данном графике?"
   ]
  },
  {
   "cell_type": "code",
   "execution_count": null,
   "metadata": {
    "id": "uY_DI6PeOz3D"
   },
   "outputs": [],
   "source": [
    "import plotly.express as px\n",
    "px.scatter(data_frame=df_2_comp, x='x', y='y', color='Activity', title='2D scatter')"
   ]
  },
  {
   "cell_type": "markdown",
   "metadata": {
    "id": "Wj4o8KrUOz3E"
   },
   "source": [
    "Мы не отстаем от трендов и тоже можем в 3D. Сейчас и вы научитесь (если еще не умеете). Нарисуйте scatter_3d-график через `plotly.express` для `df_3_comp` с выделением цветами активностей. Повращайте его. Нормально получилось? Есть ли какая-то структура у точек?"
   ]
  },
  {
   "cell_type": "code",
   "execution_count": null,
   "metadata": {
    "id": "dZei0nPYOz3E"
   },
   "outputs": [],
   "source": [
    "px.scatter_3d(data_frame=df_3_comp, x='x', y='y', z='z', color='Activity', title='3D scatter')"
   ]
  },
  {
   "cell_type": "markdown",
   "metadata": {
    "id": "Fs17KpY9Oz3E"
   },
   "source": [
    "### Задание 16 (1 балл)\n",
    "\n",
    "Мы сделали вам fit. Ваша очередь сделать predict. Допишите функцию, которая принимает на вход датафрейм с признаками, а выдает вектор из предсказаний - для каждой строки датафрейма вы определяете, к какому классу принадлежит объект. Рекомендуем сразу записывать из строками, а не кодировать в числа. Дальше фукнция `accuracy_score` выдаст вам долю правильных ответов.\n",
    "\n",
    "Подсказка: вы уже отделили категории друг от друга по каким-то признакам. Воспользуйтесь этим знанием! Используя только проведенный вами анализ можно спокойно выбить не менее 75% на train и test! Если вы получите меньше 75%, то балл будет снижен. Авторское решение (на основе всех графиков выше) выбивает 81% и 77% на train и test соответственно. [Шпаргалка с готовыми идеями для такой задачи](https://rutube.ru/video/f884aa6ed5f94120b7304506042fe5bb/)"
   ]
  },
  {
   "cell_type": "code",
   "execution_count": null,
   "metadata": {},
   "outputs": [],
   "source": [
    "def predict(df: pd.DataFrame, thresholds) -> pd.Series:\n",
    "    df = df.copy()  # в финальной версии не меняем оригинальный датафрейм\n",
    "\n",
    "    # Точнее всего проще определить LAYING\n",
    "    df['predict'] = np.where(df['angle(X,gravityMean)'] > thresholds[0], 'LAYING', 'NOT')\n",
    "    \n",
    "    # WALKING_DOWNSTAIRS, если не LAYING\n",
    "    df['predict'] = np.where((df['tBodyAcc-max()-X'] > thresholds[1]) & (df['predict'] != 'LAYING'), 'WALKING_DOWNSTAIRS', df['predict'])\n",
    "    \n",
    "    # STATIC, если не LAYING и не WALKING_DOWNSTAIRS\n",
    "    df['predict'] = np.where((df['tBodyAccMag-mean()'] < -0.49) & (df['predict'].isin(['NOT', 'STATIC'])), 'STATIC', df['predict'])\n",
    "    \n",
    "    # STANDING, если STATIC и angle(Y,gravityMean) больше порога\n",
    "    df['predict'] = np.where((df['predict'] == 'STATIC') & (df['angle(Y,gravityMean)'] > thresholds[2]), 'STANDING', df['predict'])\n",
    "    \n",
    "    # SITTING, если не LAYING, не STANDING, angle(Y,gravityMean) <= порога и fBodyAcc-skewness()-X больше порога\n",
    "    df['predict'] = np.where((df['predict'].isin(['NOT', 'STATIC'])) & (df['angle(Y,gravityMean)'] <= thresholds[2]) & (df['fBodyAcc-skewness()-X'] > thresholds[3]), 'SITTING', df['predict'])\n",
    "    \n",
    "    # Выявленные STATIC переклассифицируем в SITTING\n",
    "    df['predict'] = np.where((df['predict'] == 'STATIC'), 'SITTING', df['predict'])\n",
    "    \n",
    "    # WALKING_UPSTAIRS, если fBodyAcc-bandsEnergy()-1,8.2 больше порога и angle(X,gravityMean) больше порога\n",
    "    df['predict'] = np.where((df['fBodyAcc-bandsEnergy()-1,8.2'] > thresholds[5]) & (df['angle(X,gravityMean)'] > thresholds[4]), 'WALKING_UPSTAIRS', df['predict'])\n",
    "    \n",
    "    # WALKING, если 'NOT' и условия для WALKING_UPSTAIRS не выполняются\n",
    "    df['predict'] = np.where((df['predict'] == 'NOT') & (df['angle(X,gravityMean)'] <= thresholds[4]) & (df['fBodyAcc-bandsEnergy()-1,8.2'] <= thresholds[5]), 'WALKING', df['predict'])\n",
    "    \n",
    "    # Оставшиеся переклассифицируем в WALKING_UPSTAIRS\n",
    "    df['predict'] = np.where(df['predict'] == 'NOT', 'WALKING_UPSTAIRS', df['predict'])\n",
    "    \n",
    "    return df['predict']\n",
    "\n",
    "def accuracy_score(y_true, y_pred) -> float:\n",
    "    y_true = np.asarray(y_true).reshape(-1, 1)\n",
    "    y_pred = np.asarray(y_pred).reshape(-1, 1)\n",
    "    return (y_true == y_pred).mean()\n",
    "\n",
    "\n",
    "thresholds = [np.float64(0.15), np.float64(0.23), np.float64(0.11), np.float64(-0.81), np.float64(-0.61), np.float64(-0.58)] # пороги\n",
    "                        \n",
    "preds_train = predict(train, thresholds)\n",
    "preds_test = predict(test, thresholds)\n",
    "\n",
    "train_acc = accuracy_score(train[\"Activity\"], preds_train)\n",
    "test_acc = accuracy_score(test[\"Activity\"], preds_test)\n",
    "\n",
    "\n",
    "print(f'Accuracy на обучающей выборке: {train_acc:.2f}')\n",
    "print(f'Accuracy на тестовой выборке: {test_acc:.2f}')"
   ]
  },
  {
   "cell_type": "markdown",
   "metadata": {},
   "source": [
    "### Просто ради интереса"
   ]
  },
  {
   "cell_type": "code",
   "execution_count": null,
   "metadata": {},
   "outputs": [],
   "source": [
    "# Очистим train и test от лишних столбцов\n",
    "train.drop(['True type of activity', 'Type of activity', 'subject', 'act_code'], axis=1, inplace=True)\n",
    "test.drop(['subject'], axis=1, inplace=True)"
   ]
  },
  {
   "cell_type": "code",
   "execution_count": null,
   "metadata": {},
   "outputs": [],
   "source": [
    "from sklearn.neighbors import KNeighborsClassifier\n",
    "\n",
    "def predict(df: pd.DataFrame):\n",
    "    return knn.predict(df.drop(['Activity'], axis=1))\n",
    "\n",
    "def accuracy_score(y_true, y_pred) -> float:\n",
    "    y_true = np.asarray(y_true).reshape(-1, 1)\n",
    "    y_pred = np.asarray(y_pred).reshape(-1, 1)\n",
    "    return (y_true == y_pred).mean()\n",
    "\n",
    "knn = KNeighborsClassifier(n_neighbors=7) # количество соседей взял на рандом\n",
    "knn.fit(train.drop(['Activity'], axis=1), train['Activity'])\n",
    "train_preds = predict(train)\n",
    "test_preds = predict(test)\n",
    "\n",
    "print(f'Accuracy на обучающей выборке: {accuracy_score(train['Activity'], train_preds):.2f}')\n",
    "print(f'Accuracy на тестовой выборке: {accuracy_score(test['Activity'], test_preds):.2f}')"
   ]
  },
  {
   "cell_type": "markdown",
   "metadata": {
    "id": "1w_3MF2POz3F"
   },
   "source": [
    "__Место для мема и/или фидбэка__"
   ]
  },
  {
   "cell_type": "markdown",
   "metadata": {
    "id": "5UHaJ3zaOz3F"
   },
   "source": [
    "Считаю, что в 16 задании очень дорогой балл"
   ]
  }
 ],
 "metadata": {
  "colab": {
   "provenance": []
  },
  "kernelspec": {
   "display_name": "Python 3 (ipykernel)",
   "language": "python",
   "name": "python3"
  },
  "language_info": {
   "codemirror_mode": {
    "name": "ipython",
    "version": 3
   },
   "file_extension": ".py",
   "mimetype": "text/x-python",
   "name": "python",
   "nbconvert_exporter": "python",
   "pygments_lexer": "ipython3",
   "version": "3.13.1"
  }
 },
 "nbformat": 4,
 "nbformat_minor": 4
}
