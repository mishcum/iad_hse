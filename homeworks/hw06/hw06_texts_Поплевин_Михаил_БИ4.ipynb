{
  "cells": [
    {
      "cell_type": "markdown",
      "metadata": {
        "id": "Ffq6A2-ifzAA"
      },
      "source": [
        "# Интеллектуальный анализ данных – весна 2025\n",
        "# Домашнее задание 6: классификация текстов"
      ]
    },
    {
      "cell_type": "markdown",
      "metadata": {
        "id": "EPcxtekTA1Sm"
      },
      "source": [
        "Правила:\n",
        "\n",
        "\n",
        "\n",
        "*   Домашнее задание оценивается в 10 баллов.\n",
        "*   Можно использовать без доказательства любые результаты, встречавшиеся на лекциях или семинарах по курсу, если получение этих результатов не является вопросом задания.\n",
        "*  Можно использовать любые свободные источники с *обязательным* указанием ссылки на них.\n",
        "*  Плагиат не допускается. При обнаружении случаев списывания, 0 за работу выставляется всем участникам нарушения, даже если можно установить, кто у кого списал.\n",
        "*  Старайтесь сделать код как можно более оптимальным. В частности, будет штрафоваться использование циклов в тех случаях, когда операцию можно совершить при помощи инструментов библиотек, о которых рассказывалось в курсе.\n",
        "* Если в задании есть вопрос на рассуждение, то за отсутствие ответа на него балл за задание будет снижен вполовину."
      ]
    },
    {
      "cell_type": "markdown",
      "metadata": {
        "id": "itRtFtrOf0_b"
      },
      "source": [
        "В этом домашнем задании вам предстоит построить классификатор текстов.\n",
        "\n",
        "Будем предсказывать эмоциональную окраску твиттов о коронавирусе.\n",
        "\n"
      ]
    },
    {
      "cell_type": "code",
      "execution_count": 1,
      "metadata": {
        "id": "tNGRVO7_g9mz"
      },
      "outputs": [],
      "source": [
        "import numpy as np\n",
        "import pandas as pd\n",
        "from typing import  List\n",
        "import matplotlib.pyplot as plt\n",
        "import seaborn as sns\n",
        "from string import punctuation\n",
        "import warnings\n",
        "warnings.filterwarnings('ignore')"
      ]
    },
    {
      "cell_type": "code",
      "execution_count": 2,
      "metadata": {
        "colab": {
          "base_uri": "https://localhost:8080/",
          "height": 348
        },
        "id": "zOy8iHJQg_Ss",
        "outputId": "6a32c325-1b9a-4895-ab22-5e985016da91"
      },
      "outputs": [
        {
          "data": {
            "application/vnd.microsoft.datawrangler.viewer.v0+json": {
              "columns": [
                {
                  "name": "index",
                  "rawType": "int64",
                  "type": "integer"
                },
                {
                  "name": "UserName",
                  "rawType": "int64",
                  "type": "integer"
                },
                {
                  "name": "ScreenName",
                  "rawType": "int64",
                  "type": "integer"
                },
                {
                  "name": "Location",
                  "rawType": "object",
                  "type": "unknown"
                },
                {
                  "name": "TweetAt",
                  "rawType": "object",
                  "type": "string"
                },
                {
                  "name": "OriginalTweet",
                  "rawType": "object",
                  "type": "string"
                },
                {
                  "name": "Sentiment",
                  "rawType": "object",
                  "type": "string"
                }
              ],
              "conversionMethod": "pd.DataFrame",
              "ref": "c66cbc84-3d5e-4464-99b3-bf0d2853b98b",
              "rows": [
                [
                  "3319",
                  "7819",
                  "52771",
                  null,
                  "18-03-2020",
                  "A deluge of retailer emails today re plans re covid 19; one supermarket rationing it's own products - good move",
                  "Positive"
                ],
                [
                  "27245",
                  "37219",
                  "82171",
                  "Deptford SE8 London, UK",
                  "08-04-2020",
                  "Our new Pepys Social Supermarket with @lewishamhomes supported by @TravisPerkinsCo and @LondonCatalyst is up and running @2000cac but needs help to address the extra local needs brought about by the Covid-19 please donate what you can -https://t.co/VoC1uaTBjV",
                  "Extremely Positive"
                ],
                [
                  "21945",
                  "30588",
                  "75540",
                  null,
                  "02-04-2020",
                  "Food insecurity was hitting TN amp the US before Covid 19 now the of food insecure households could double There s never been a more important time to We will keep fighting for TNeans to have food on the table via",
                  "Extremely Negative"
                ],
                [
                  "11125",
                  "17300",
                  "62252",
                  null,
                  "21-03-2020",
                  "Scott Well said Tom stay safe we middle class must stick together and hide away in our isolated safe space and let those scummy working class transport workers and supermarket folk take all the health risks while we blog moan and carp",
                  "Positive"
                ]
              ],
              "shape": {
                "columns": 6,
                "rows": 4
              }
            },
            "text/html": [
              "<div>\n",
              "<style scoped>\n",
              "    .dataframe tbody tr th:only-of-type {\n",
              "        vertical-align: middle;\n",
              "    }\n",
              "\n",
              "    .dataframe tbody tr th {\n",
              "        vertical-align: top;\n",
              "    }\n",
              "\n",
              "    .dataframe thead th {\n",
              "        text-align: right;\n",
              "    }\n",
              "</style>\n",
              "<table border=\"1\" class=\"dataframe\">\n",
              "  <thead>\n",
              "    <tr style=\"text-align: right;\">\n",
              "      <th></th>\n",
              "      <th>UserName</th>\n",
              "      <th>ScreenName</th>\n",
              "      <th>Location</th>\n",
              "      <th>TweetAt</th>\n",
              "      <th>OriginalTweet</th>\n",
              "      <th>Sentiment</th>\n",
              "    </tr>\n",
              "  </thead>\n",
              "  <tbody>\n",
              "    <tr>\n",
              "      <th>3319</th>\n",
              "      <td>7819</td>\n",
              "      <td>52771</td>\n",
              "      <td>NaN</td>\n",
              "      <td>18-03-2020</td>\n",
              "      <td>A deluge of retailer emails today re plans re ...</td>\n",
              "      <td>Positive</td>\n",
              "    </tr>\n",
              "    <tr>\n",
              "      <th>27245</th>\n",
              "      <td>37219</td>\n",
              "      <td>82171</td>\n",
              "      <td>Deptford SE8 London, UK</td>\n",
              "      <td>08-04-2020</td>\n",
              "      <td>Our new Pepys Social Supermarket with @lewisha...</td>\n",
              "      <td>Extremely Positive</td>\n",
              "    </tr>\n",
              "    <tr>\n",
              "      <th>21945</th>\n",
              "      <td>30588</td>\n",
              "      <td>75540</td>\n",
              "      <td>NaN</td>\n",
              "      <td>02-04-2020</td>\n",
              "      <td>Food insecurity was hitting TN amp the US befo...</td>\n",
              "      <td>Extremely Negative</td>\n",
              "    </tr>\n",
              "    <tr>\n",
              "      <th>11125</th>\n",
              "      <td>17300</td>\n",
              "      <td>62252</td>\n",
              "      <td>NaN</td>\n",
              "      <td>21-03-2020</td>\n",
              "      <td>Scott Well said Tom stay safe we middle class ...</td>\n",
              "      <td>Positive</td>\n",
              "    </tr>\n",
              "  </tbody>\n",
              "</table>\n",
              "</div>"
            ],
            "text/plain": [
              "       UserName  ScreenName                 Location     TweetAt  \\\n",
              "3319       7819       52771                      NaN  18-03-2020   \n",
              "27245     37219       82171  Deptford SE8 London, UK  08-04-2020   \n",
              "21945     30588       75540                      NaN  02-04-2020   \n",
              "11125     17300       62252                      NaN  21-03-2020   \n",
              "\n",
              "                                           OriginalTweet           Sentiment  \n",
              "3319   A deluge of retailer emails today re plans re ...            Positive  \n",
              "27245  Our new Pepys Social Supermarket with @lewisha...  Extremely Positive  \n",
              "21945  Food insecurity was hitting TN amp the US befo...  Extremely Negative  \n",
              "11125  Scott Well said Tom stay safe we middle class ...            Positive  "
            ]
          },
          "execution_count": 2,
          "metadata": {},
          "output_type": "execute_result"
        }
      ],
      "source": [
        "df = pd.read_csv('tweets_coronavirus.csv', encoding='latin-1')\n",
        "df.sample(4)"
      ]
    },
    {
      "cell_type": "markdown",
      "metadata": {
        "id": "m2OiDog9ZBlS"
      },
      "source": [
        "Для каждого твитта указано:\n",
        "\n",
        "\n",
        "*   UserName - имя пользователя, заменено на целое число для анонимности\n",
        "*   ScreenName - отображающееся имя пользователя, заменено на целое число для анонимности\n",
        "*   Location - местоположение\n",
        "*   TweetAt - дата создания твитта\n",
        "*   OriginalTweet - текст твитта\n",
        "*   Sentiment - эмоциональная окраска твитта (целевая переменная)\n",
        "\n"
      ]
    },
    {
      "cell_type": "markdown",
      "metadata": {
        "id": "pZTMseDkhTC7"
      },
      "source": [
        "## Задание 1 Подготовка (0.5 балла)"
      ]
    },
    {
      "cell_type": "markdown",
      "metadata": {
        "id": "Xx2-odn9hdAW"
      },
      "source": [
        "Целевая переменная находится в колонке `Sentiment`.  Преобразуйте ее таким образом, чтобы она стала бинарной: 1 - если у твитта положительная или очень положительная эмоциональная окраска и 0 - если отрицательная или очень отрицательная."
      ]
    },
    {
      "cell_type": "code",
      "execution_count": 3,
      "metadata": {
        "id": "ZaQKQ1zEjP15"
      },
      "outputs": [
        {
          "data": {
            "text/plain": [
              "array(['Positive', 'Extremely Negative', 'Negative', 'Extremely Positive'],\n",
              "      dtype=object)"
            ]
          },
          "execution_count": 3,
          "metadata": {},
          "output_type": "execute_result"
        }
      ],
      "source": [
        "df['Sentiment'].unique() # получим все уникальные значения"
      ]
    },
    {
      "cell_type": "code",
      "execution_count": 4,
      "metadata": {},
      "outputs": [],
      "source": [
        "from sklearn.preprocessing import FunctionTransformer\n",
        "\n",
        "function_transformer = FunctionTransformer(lambda x: x.isin(['Positive', 'Extremely Positive']).astype(int))\n",
        "df['SentimentCode'] = function_transformer.fit_transform(df[['Sentiment']]) # пока оставим Sentiment для наглядности"
      ]
    },
    {
      "cell_type": "markdown",
      "metadata": {
        "id": "pGq1FxJ-kBo5"
      },
      "source": [
        "Сбалансированы ли классы?"
      ]
    },
    {
      "cell_type": "code",
      "execution_count": 5,
      "metadata": {
        "id": "a7gdNtxckK5V"
      },
      "outputs": [
        {
          "data": {
            "image/png": "[encoded data removed]",
            "text/plain": [
              "<Figure size 1500x300 with 1 Axes>"
            ]
          },
          "metadata": {},
          "output_type": "display_data"
        }
      ],
      "source": [
        "sentiment_counts = pd.DataFrame({\n",
        "    'Category' : ['Positive', 'Negative'], \n",
        "    'Extremely' : [df[df['Sentiment'] == 'Extremely Positive'].shape[0], df[df['Sentiment'] == 'Extremely Negative'].shape[0]],\n",
        "    'Not Extremely' : [df[df['Sentiment'] == 'Positive'].shape[0], df[df['Sentiment'] == 'Negative'].shape[0]]\n",
        "})\n",
        "plt.figure(figsize=(15, 3))\n",
        "plt.barh(sentiment_counts['Category'], sentiment_counts['Extremely'], label='Extremely', color='blue', alpha=0.7)\n",
        "plt.barh(sentiment_counts['Category'], sentiment_counts['Not Extremely'], left=sentiment_counts['Extremely'], label='Not Extremely', color='blue', alpha=0.5)\n",
        "plt.xticks([i for i in range(0, 18001, 2000)])\n",
        "plt.xlabel('Category')\n",
        "plt.ylabel('Count')\n",
        "plt.title('Sentiment Class Balance')\n",
        "plt.grid(which='both', linestyle='--', linewidth=0.5)\n",
        "plt.legend()\n",
        "plt.show()"
      ]
    },
    {
      "cell_type": "markdown",
      "metadata": {
        "id": "Ng8BCelMkWb0"
      },
      "source": [
        "**Ответ:** с уверенностью можно сказать, что классы сбалансированны&"
      ]
    },
    {
      "cell_type": "markdown",
      "metadata": {
        "id": "qmSIBSsLk5Zz"
      },
      "source": [
        "Выведете на экран информацию о пропусках в данных. Если пропуски присутствуют заполните их строкой 'Unknown'."
      ]
    },
    {
      "cell_type": "code",
      "execution_count": 6,
      "metadata": {
        "id": "UhUVRkR5kxa7"
      },
      "outputs": [
        {
          "name": "stdout",
          "output_type": "stream",
          "text": [
            "UserName            0\n",
            "ScreenName          0\n",
            "Location         7049\n",
            "TweetAt             0\n",
            "OriginalTweet       0\n",
            "Sentiment           0\n",
            "SentimentCode       0\n",
            "dtype: int64\n"
          ]
        }
      ],
      "source": [
        "print(df.isna().sum())\n",
        "df[df.isna()] = 'Unknown'"
      ]
    },
    {
      "cell_type": "markdown",
      "metadata": {
        "id": "1tzt27tfjUpq"
      },
      "source": [
        "Разделите данные на обучающие и тестовые в соотношении 7 : 3 и укажите `random_state=0`"
      ]
    },
    {
      "cell_type": "code",
      "execution_count": 7,
      "metadata": {
        "id": "xSLOA9tIj9Z6"
      },
      "outputs": [],
      "source": [
        "from sklearn.model_selection import train_test_split\n",
        "\n",
        "train, test = train_test_split(df, test_size=0.3, random_state=0)"
      ]
    },
    {
      "cell_type": "code",
      "execution_count": 8,
      "metadata": {},
      "outputs": [
        {
          "data": {
            "text/plain": [
              "(SentimentCode\n",
              " 1    12564\n",
              " 0    10846\n",
              " Name: count, dtype: int64,\n",
              " SentimentCode\n",
              " 1    5482\n",
              " 0    4552\n",
              " Name: count, dtype: int64)"
            ]
          },
          "execution_count": 8,
          "metadata": {},
          "output_type": "execute_result"
        }
      ],
      "source": [
        "train['SentimentCode'].value_counts(), test['SentimentCode'].value_counts() # параметр stratify можно не настраивать, разбиение равномерно + в последующих заданиях будут возникать несостыковки"
      ]
    },
    {
      "cell_type": "markdown",
      "metadata": {
        "id": "J9RrPUsJlL60"
      },
      "source": [
        "## Задание 2 Токенизация (3 балла)"
      ]
    },
    {
      "cell_type": "markdown",
      "metadata": {
        "id": "2Dz_b7Xopc_R"
      },
      "source": [
        "Постройте словарь на основе обучающей выборки и посчитайте количество встреч каждого токена с использованием самой простой токенизации - деления текстов по пробельным символам и приведения токенов в нижний регистр."
      ]
    },
    {
      "cell_type": "code",
      "execution_count": 9,
      "metadata": {
        "id": "SFr67WOJphny"
      },
      "outputs": [],
      "source": [
        "from nltk.probability import FreqDist # аналог counter-a из collections, только из Natural Language Toolkit\n",
        "\n",
        "all_tokens = []\n",
        "\n",
        "for tweet in train['OriginalTweet']:\n",
        "    tokens = tweet.lower().split() \n",
        "    all_tokens.extend(tokens)\n",
        "\n",
        "freq_dist = FreqDist(all_tokens)"
      ]
    },
    {
      "cell_type": "markdown",
      "metadata": {
        "id": "Pe0h2Jqkpnao"
      },
      "source": [
        "Какой размер словаря получился?"
      ]
    },
    {
      "cell_type": "code",
      "execution_count": 10,
      "metadata": {
        "id": "umyENA7EpokD"
      },
      "outputs": [
        {
          "name": "stdout",
          "output_type": "stream",
          "text": [
            "79755\n"
          ]
        }
      ],
      "source": [
        "print(len(freq_dist))"
      ]
    },
    {
      "cell_type": "markdown",
      "metadata": {
        "id": "0d2G1Z-Qpqkd"
      },
      "source": [
        "Выведите 10 самых популярных токенов с количеством встреч каждого из них. Объясните, почему именно эти токены в топе."
      ]
    },
    {
      "cell_type": "code",
      "execution_count": 11,
      "metadata": {
        "id": "Impi32a_pssg"
      },
      "outputs": [
        {
          "data": {
            "text/plain": [
              "[('the', 26815),\n",
              " ('to', 23373),\n",
              " ('and', 14684),\n",
              " ('of', 13012),\n",
              " ('a', 11737),\n",
              " ('in', 11198),\n",
              " ('for', 8566),\n",
              " ('#coronavirus', 8223),\n",
              " ('is', 7383),\n",
              " ('are', 7050)]"
            ]
          },
          "execution_count": 11,
          "metadata": {},
          "output_type": "execute_result"
        }
      ],
      "source": [
        "freq_dist.most_common(10)"
      ]
    },
    {
      "cell_type": "markdown",
      "metadata": {
        "id": "ZtuJCD0ApuFd"
      },
      "source": [
        "**Ответ:** Все токены кроме #coronavirus напрямую относятся к лексике английзкого языка и не отражают какой-то смысл или тенденцию - эти слова также часто будут встречаться в твитах по любой теме (стоп слова). Поскольку мы анализируем твиты о коронавирусе, не удивительно что токен '#coronavirus' встречается часто (чаще чем само слово coronavirus), так как является предметом обсуждения, а человек вместо 'coronavirus' пишет '#coronavirus', видимо так модно."
      ]
    },
    {
      "cell_type": "code",
      "execution_count": 12,
      "metadata": {},
      "outputs": [
        {
          "data": {
            "text/plain": [
              "970"
            ]
          },
          "execution_count": 12,
          "metadata": {},
          "output_type": "execute_result"
        }
      ],
      "source": [
        "freq_dist['coronavirus']"
      ]
    },
    {
      "cell_type": "markdown",
      "metadata": {
        "id": "T7DTQDkWsVYp"
      },
      "source": [
        "Удалите стоп-слова из словаря и выведите новый топ-10 токенов (и количество встреч) по популярности.  Что можно сказать  о нем?"
      ]
    },
    {
      "cell_type": "code",
      "execution_count": 13,
      "metadata": {
        "id": "8csSAdgTsnFx"
      },
      "outputs": [],
      "source": [
        "from nltk.corpus import stopwords\n",
        "\n",
        "stop_words = set(stopwords.words('english'))\n",
        "\n",
        "keys_to_delete = [key for key in freq_dist.keys() if key in stop_words]\n",
        "for key in keys_to_delete:\n",
        "    del freq_dist[key]"
      ]
    },
    {
      "cell_type": "code",
      "execution_count": 14,
      "metadata": {},
      "outputs": [
        {
          "data": {
            "text/plain": [
              "[('#coronavirus', 8223),\n",
              " ('prices', 3891),\n",
              " ('food', 3820),\n",
              " ('grocery', 3469),\n",
              " ('supermarket', 3288),\n",
              " ('people', 3175),\n",
              " ('covid-19', 3173),\n",
              " ('store', 3155),\n",
              " ('#covid19', 2471),\n",
              " ('&amp;', 2314)]"
            ]
          },
          "execution_count": 14,
          "metadata": {},
          "output_type": "execute_result"
        }
      ],
      "source": [
        "freq_dist.most_common(10)"
      ]
    },
    {
      "cell_type": "markdown",
      "metadata": {
        "id": "LZH0x2Lzs-Dh"
      },
      "source": [
        "**Ответ:**  Список изменился. Можно предположить, что в твитах часто обсуждают сам вирус, а также неприятности, с ним связанные (возможно повышение цен, сложности с посещением магазинов и тд). &amp - какая-то [штука](https://stackoverflow.com/questions/9084237/what-is-amp-used-for) из HTML."
      ]
    },
    {
      "cell_type": "markdown",
      "metadata": {
        "id": "TKSGRyI-uor0"
      },
      "source": [
        "Также выведите 20 самых непопулярных слов (если самых непопулярных слов больше, выведите любые 20 из них) Почему эти токены непопулярны, требуется ли как-то дополнительно работать с ними?"
      ]
    },
    {
      "cell_type": "code",
      "execution_count": 15,
      "metadata": {
        "id": "moArbwfvun9t"
      },
      "outputs": [
        {
          "data": {
            "text/plain": [
              "[('https://t.co/7j2y3rsld9', 1),\n",
              " ('@680news', 1),\n",
              " ('@torontopearson', 1),\n",
              " ('nothing...', 1),\n",
              " ('flew', 1),\n",
              " ('wage!', 1),\n",
              " ('renewing', 1),\n",
              " ('playersã\\x82â\\x92', 1),\n",
              " ('subsidise', 1),\n",
              " ('non-playing', 1),\n",
              " ('premiership', 1),\n",
              " ('https://t.co/iaek4fwsgz', 1),\n",
              " ('@srinivasiyc', 1),\n",
              " ('https://t.co/zjcl195vqs', 1),\n",
              " ('#southkerry', 1),\n",
              " ('#skelligcoast2kms', 1),\n",
              " ('@skelligsix18', 1),\n",
              " ('closer!)', 1),\n",
              " ('coast!', 1),\n",
              " ('skellig', 1)]"
            ]
          },
          "execution_count": 15,
          "metadata": {},
          "output_type": "execute_result"
        }
      ],
      "source": [
        "freq_dist.most_common()[:-21:-1]"
      ]
    },
    {
      "cell_type": "markdown",
      "metadata": {
        "id": "uRp3J1gQunlR"
      },
      "source": [
        "**Ответ:** Среди этих слов встречаются ссылки (возможно уникальны, не знаю как их [преобразует](https://t.co) твиттер), имена пользователей (уникальны), также слова со знаками !, они тоже влияют на уникальность, ошибки кодировки, редкие формы глаголов, спецлексика. Такие слова не отражают тональность текста, поэтому дополнительно работать с ними не нужно."
      ]
    },
    {
      "cell_type": "markdown",
      "metadata": {
        "id": "wx9LQOSPzvjV"
      },
      "source": [
        "Теперь воспользуемся токенайзером получше - TweetTokenizer из библиотеки nltk. Примените его и посмотрите на топ-10 популярных слов. Чем он отличается от топа, который получался раньше? Почему?"
      ]
    },
    {
      "cell_type": "code",
      "execution_count": 16,
      "metadata": {
        "id": "2G1UkyVxzvFY"
      },
      "outputs": [
        {
          "data": {
            "text/plain": [
              "[('the', 26993),\n",
              " ('.', 24118),\n",
              " ('to', 23478),\n",
              " (',', 17571),\n",
              " ('and', 14825),\n",
              " ('of', 13044),\n",
              " ('a', 11891),\n",
              " ('in', 11348),\n",
              " ('?', 9524),\n",
              " ('#coronavirus', 8808)]"
            ]
          },
          "execution_count": 16,
          "metadata": {},
          "output_type": "execute_result"
        }
      ],
      "source": [
        "from nltk.tokenize import TweetTokenizer\n",
        "\n",
        "tweet_tokenizer = TweetTokenizer()\n",
        "all_tokens = []\n",
        "for tweet in train['OriginalTweet']:\n",
        "    all_tokens.extend(tweet_tokenizer.tokenize(tweet.lower()))\n",
        "\n",
        "freq_dist2 = FreqDist(all_tokens)\n",
        "freq_dist2.most_common(10)"
      ]
    },
    {
      "cell_type": "markdown",
      "metadata": {
        "id": "50eVUnJN1Zxl"
      },
      "source": [
        "**Ответ:** Снова 9 из 10 - stop words и пунктуация. Этот токенайзер отделяет знаки пунктуации. Токенов '#coronavirus' нашел немного больше, чем прошлый, из-за отделения знаков пунктуации (#coronavirus == #coronavirus! == #coronavirus. == #coronavirus? ...)."
      ]
    },
    {
      "cell_type": "markdown",
      "metadata": {
        "id": "1gqQgiMs11bs"
      },
      "source": [
        "Удалите из словаря стоп-слова и пунктуацию, посмотрите на новый топ-10 слов с количеством встреч, есть ли теперь в нем что-то не похожее на слова?"
      ]
    },
    {
      "cell_type": "code",
      "execution_count": 17,
      "metadata": {
        "id": "0yHWdFrp0Mup"
      },
      "outputs": [
        {
          "data": {
            "text/plain": [
              "[('#coronavirus', 8808),\n",
              " ('â', 7415),\n",
              " ('\\x82', 7311),\n",
              " ('19', 7167),\n",
              " ('covid', 6253),\n",
              " ('prices', 4601),\n",
              " ('\\x92', 4372),\n",
              " ('food', 4367),\n",
              " ('store', 3877),\n",
              " ('supermarket', 3805)]"
            ]
          },
          "execution_count": 17,
          "metadata": {},
          "output_type": "execute_result"
        }
      ],
      "source": [
        "keys_to_delete = [key for key in freq_dist2.keys() if key in punctuation or key in stop_words]\n",
        "for key in keys_to_delete:\n",
        "    del freq_dist2[key]\n",
        "    \n",
        "freq_dist2.most_common(10)"
      ]
    },
    {
      "cell_type": "markdown",
      "metadata": {
        "id": "8ZJqXELP_Yxy"
      },
      "source": [
        "**Ответ:** Всё кроме трёх токенов может относится к теме, 'â', '\\x82', '\\x92' - какие-то [ошибки](https://stackoverflow.com/questions/15602038/syntaxerror-non-utf-8-code-starting-with-x82) между кодировками Windows и UTF-8"
      ]
    },
    {
      "cell_type": "markdown",
      "metadata": {
        "id": "rzXjMsSB_kXB"
      },
      "source": [
        "Скорее всего в некоторых топах были неотображаемые символы или отдельные буквы не латинского алфавита. Уберем их: удалите из словаря токены из одного символа, позиция которого в таблице Unicode 128 и более (`ord(x) >= 128`)\n",
        "\n",
        "Выведите топ-10 самых популярных и топ-20 непопулярных слов. Чем полученные топы отличаются от итоговых топов, полученных при использовании токенизации по пробелам? Что теперь лучше, а что хуже?"
      ]
    },
    {
      "cell_type": "code",
      "execution_count": 18,
      "metadata": {
        "id": "1695hlkS_1-J"
      },
      "outputs": [
        {
          "data": {
            "text/plain": [
              "([('#coronavirus', 8808),\n",
              "  ('19', 7167),\n",
              "  ('covid', 6253),\n",
              "  ('prices', 4601),\n",
              "  ('food', 4367),\n",
              "  ('store', 3877),\n",
              "  ('supermarket', 3805),\n",
              "  ('grocery', 3523),\n",
              "  ('people', 3463),\n",
              "  ('#covid19', 2589)],\n",
              " [('https://t.co/7j2y3rsld9', 1),\n",
              "  ('@680news', 1),\n",
              "  ('@torontopearson', 1),\n",
              "  ('flew', 1),\n",
              "  ('renewing', 1),\n",
              "  ('playersã', 1),\n",
              "  ('subsidise', 1),\n",
              "  ('non-playing', 1),\n",
              "  ('premiership', 1),\n",
              "  ('https://t.co/iaek4fwsgz', 1),\n",
              "  ('@srinivasiyc', 1),\n",
              "  ('https://t.co/zjcl195vqs', 1),\n",
              "  ('#southkerry', 1),\n",
              "  ('#skelligcoast2kms', 1),\n",
              "  ('@skelligsix18', 1),\n",
              "  ('skellig', 1),\n",
              "  ('milion', 1),\n",
              "  ('now.when', 1),\n",
              "  ('https://t.co/5cbliqzx7l', 1),\n",
              "  ('https://t.co/lw1r0rm7xs', 1)])"
            ]
          },
          "execution_count": 18,
          "metadata": {},
          "output_type": "execute_result"
        }
      ],
      "source": [
        "for p in freq_dist2:\n",
        "    if len(p) == 1 and ord(p) >= 128:\n",
        "        del freq_dist2[p]\n",
        "\n",
        "freq_dist2.most_common(10), freq_dist2.most_common()[:-21:-1]"
      ]
    },
    {
      "cell_type": "markdown",
      "metadata": {
        "id": "KzjHAKIlDvc6"
      },
      "source": [
        "**Ответ:** Второй топ лучше, в нем 'food,' == 'food' == 'food!' (напрмер), он отделяет пунктуацию, разделяет сокращения, отделяет '-' от чисел, в нем удалены символы разметки HTML, stopwords и пунктуация."
      ]
    },
    {
      "cell_type": "markdown",
      "metadata": {
        "id": "EcDf9_6HB2zm"
      },
      "source": [
        "Выведите топ-10 популярных хештегов (токены, первые символы которых - #) с количеством встреч. Что можно сказать о них?"
      ]
    },
    {
      "cell_type": "code",
      "execution_count": 19,
      "metadata": {
        "id": "zk4fygCUBw3l"
      },
      "outputs": [
        {
          "name": "stdout",
          "output_type": "stream",
          "text": [
            "#coronavirus  :  8808\n",
            "#covid19  :  2589\n",
            "#covid_19  :  1734\n",
            "#covid2019  :  946\n",
            "#toiletpaper  :  744\n",
            "#covid  :  641\n",
            "#socialdistancing  :  465\n",
            "#coronacrisis  :  448\n",
            "#pandemic  :  257\n",
            "#coronaviruspandemic  :  249\n"
          ]
        }
      ],
      "source": [
        "count = 0\n",
        "for p in sorted(freq_dist2, reverse=True, key=freq_dist2.get):\n",
        "    if p.startswith('#'):\n",
        "        print(p, ' : ', freq_dist2[p])\n",
        "        count += 1\n",
        "    if count == 10:\n",
        "        break"
      ]
    },
    {
      "cell_type": "markdown",
      "metadata": {
        "id": "-6NeNWBkDxM7"
      },
      "source": [
        "**Ответ:** Не слышал этих слов (кроме #toiletpaper) до коронавируса - они напрямую относятся к теме, но с #toiletpaper тогда тоже остро вопрос стоял"
      ]
    },
    {
      "cell_type": "markdown",
      "metadata": {
        "id": "LLYBg7caD5GA"
      },
      "source": [
        "То же самое проделайте для ссылок на сайт https://t.co Сравнима ли популярность ссылок с популярностью хештегов? Будет ли информация о ссылке на конкретную страницу полезна?"
      ]
    },
    {
      "cell_type": "code",
      "execution_count": 20,
      "metadata": {
        "id": "MXbm1oeaCK9S"
      },
      "outputs": [
        {
          "name": "stdout",
          "output_type": "stream",
          "text": [
            "https://t.co/oxa7swtond  :  5\n",
            "https://t.co/gp3eusapl8  :  4\n",
            "https://t.co/deftrui1pfãâ  :  3\n",
            "https://t.co/wrlhyzizaa  :  3\n",
            "https://t.co/kuwipf1kqw  :  3\n",
            "https://t.co/zjnrx6dkkn  :  3\n",
            "https://t.co/3gbbdpdjat  :  3\n",
            "https://t.co/e2znxajpre  :  3\n",
            "https://t.co/catkegayoy  :  3\n",
            "https://t.co/g63rp042ho  :  3\n",
            "Всего ссылок: 12797\n"
          ]
        }
      ],
      "source": [
        "count = 0\n",
        "for tweet in sorted(freq_dist2, reverse=True, key=freq_dist2.get):\n",
        "    if tweet.startswith('https://t.co'): # другие ссылки можно не учитывать, в твиттере разрешены только 't.co...'\n",
        "        if count < 10: \n",
        "            print(tweet, ' : ', freq_dist2[tweet])\n",
        "        count += 1\n",
        "print(f'Всего ссылок: {count}')"
      ]
    },
    {
      "cell_type": "markdown",
      "metadata": {
        "id": "at6lRYZ8A07N"
      },
      "source": [
        "**Ответ:**  Ссылки, видимо, уже утеряны (не нашел работающих), и в целом ссылок много, но для самой популярной из них - 5 вхождений, поэтому они не могут отражать какой-то тендеции и зависимостей. Ссылки в данном случае не полезны."
      ]
    },
    {
      "cell_type": "markdown",
      "metadata": {
        "id": "IOGdUU1kBU1D"
      },
      "source": [
        "Используем опыт предыдущих экспериментов и напишем собственный токенайзер, улучшив TweetTokenizer. Функция tokenize должна:\n",
        "\n",
        "\n",
        "\n",
        "*   Привести текст в нижний регистр\n",
        "*   Применить TweetTokenizer для  выделения токенов\n",
        "*   Удалить стоп-слова, пунктуацию, токены из одного символа с позицией в таблице Unicode 128 и более,  ссылки на t.co\n",
        "\n"
      ]
    },
    {
      "cell_type": "code",
      "execution_count": 21,
      "metadata": {
        "id": "ctEsB6xkFrrK"
      },
      "outputs": [],
      "source": [
        "from nltk.corpus import stopwords\n",
        "from string import punctuation\n",
        "\n",
        "def custom_tokenizer(text):\n",
        "    tknz = TweetTokenizer()\n",
        "    tokens = tknz.tokenize(text.lower())\n",
        "\n",
        "    stop_words = set(stopwords.words('english'))\n",
        "    _punctuation = set(punctuation)\n",
        "\n",
        "    tokens = [token for token in tokens if (token not in stop_words) and (token not in _punctuation) and not (len(token) == 1 and ord(token) >= 128) and (not token.startswith('https://t.co'))]\n",
        "\n",
        "    return tokens"
      ]
    },
    {
      "cell_type": "code",
      "execution_count": 22,
      "metadata": {
        "colab": {
          "base_uri": "https://localhost:8080/"
        },
        "id": "XwbgtYkJGYym",
        "outputId": "5808765b-3448-45e6-ccc1-7cd65f6371ef"
      },
      "outputs": [
        {
          "data": {
            "text/plain": [
              "['sample', 'text', '@sample_text', '#sampletext']"
            ]
          },
          "execution_count": 22,
          "metadata": {},
          "output_type": "execute_result"
        }
      ],
      "source": [
        "custom_tokenizer('This is sample text!!!! @Sample_text I, \\x92\\x92 https://t.co/sample  #sampletext')"
      ]
    },
    {
      "cell_type": "markdown",
      "metadata": {
        "id": "wURVABmXHk97"
      },
      "source": [
        "## Задание 3 Векторизация текстов (2 балла)"
      ]
    },
    {
      "cell_type": "markdown",
      "metadata": {
        "id": "H44iXkoHIQfN"
      },
      "source": [
        "Обучите CountVectorizer с использованием custom_tokenizer в качестве токенайзера. Как размер полученного словаря соотносится с размером изначального словаря из начала задания 2?"
      ]
    },
    {
      "cell_type": "code",
      "execution_count": 23,
      "metadata": {
        "colab": {
          "base_uri": "https://localhost:8080/"
        },
        "id": "gHn_limQl3BI",
        "outputId": "8e9c1826-319f-4376-f06e-c30c2eb82648"
      },
      "outputs": [
        {
          "data": {
            "text/plain": [
              "45290"
            ]
          },
          "execution_count": 23,
          "metadata": {},
          "output_type": "execute_result"
        }
      ],
      "source": [
        "from sklearn.feature_extraction.text import CountVectorizer\n",
        "\n",
        "cv = CountVectorizer(tokenizer=custom_tokenizer).fit(train['OriginalTweet'])\n",
        "\n",
        "len(cv.vocabulary_)"
      ]
    },
    {
      "cell_type": "markdown",
      "metadata": {
        "id": "gsfmaSGoItUm"
      },
      "source": [
        "**Ответ:** Размер словаря стал намного меньше, так как теперь обрабатываются stop words, пунктуация, ссылки, токены из одного символа с ord >=128 и прочие вещи, о которх было сказано ранее."
      ]
    },
    {
      "cell_type": "markdown",
      "metadata": {
        "id": "lm6UHNmqKZT0"
      },
      "source": [
        "Посмотрим на какой-нибудь конкретный твитт:"
      ]
    },
    {
      "cell_type": "code",
      "execution_count": 24,
      "metadata": {
        "id": "aJVjjfqOJh8m"
      },
      "outputs": [
        {
          "data": {
            "text/plain": [
              "('Nice one @SkyNews lets not panic but show ppl in france queueing for food!!! #CoronavirusOutbreak #COVID2019 brainless!! Ffs',\n",
              " 'Negative')"
            ]
          },
          "execution_count": 24,
          "metadata": {},
          "output_type": "execute_result"
        }
      ],
      "source": [
        "ind = 9023\n",
        "train.iloc[ind]['OriginalTweet'], train.iloc[ind]['Sentiment']"
      ]
    },
    {
      "cell_type": "markdown",
      "metadata": {
        "id": "PBMIHBI5KdaS"
      },
      "source": [
        "Автор твитта не доволен ситуацией с едой во Франции и текст имеет резко негативную окраску. (кстати нет, просто негативную)\n",
        "\n",
        "Примените обученный CountVectorizer для векторизации данного текста, и попытайтесь определить самый важный токен и самый неважный токен (токен, компонента которого в векторе максимальна/минимальна, без учета 0). Хорошо ли они определились, почему?"
      ]
    },
    {
      "cell_type": "code",
      "execution_count": 25,
      "metadata": {
        "id": "7NcAllaEKsJj"
      },
      "outputs": [
        {
          "data": {
            "application/vnd.microsoft.datawrangler.viewer.v0+json": {
              "columns": [
                {
                  "name": "index",
                  "rawType": "object",
                  "type": "string"
                },
                {
                  "name": "0",
                  "rawType": "int64",
                  "type": "integer"
                }
              ],
              "conversionMethod": "pd.DataFrame",
              "ref": "97911bab-a22d-428f-8b44-b56525891f49",
              "rows": [
                [
                  "panic",
                  "1"
                ],
                [
                  "lets",
                  "1"
                ],
                [
                  "brainless",
                  "1"
                ],
                [
                  "queueing",
                  "1"
                ],
                [
                  "food",
                  "1"
                ],
                [
                  "@skynews",
                  "1"
                ],
                [
                  "show",
                  "1"
                ],
                [
                  "#covid2019",
                  "1"
                ],
                [
                  "france",
                  "1"
                ],
                [
                  "ppl",
                  "1"
                ],
                [
                  "#coronavirusoutbreak",
                  "1"
                ],
                [
                  "nice",
                  "1"
                ],
                [
                  "ffs",
                  "1"
                ],
                [
                  "one",
                  "1"
                ]
              ],
              "shape": {
                "columns": 1,
                "rows": 14
              }
            },
            "text/html": [
              "<div>\n",
              "<style scoped>\n",
              "    .dataframe tbody tr th:only-of-type {\n",
              "        vertical-align: middle;\n",
              "    }\n",
              "\n",
              "    .dataframe tbody tr th {\n",
              "        vertical-align: top;\n",
              "    }\n",
              "\n",
              "    .dataframe thead th {\n",
              "        text-align: right;\n",
              "    }\n",
              "</style>\n",
              "<table border=\"1\" class=\"dataframe\">\n",
              "  <thead>\n",
              "    <tr style=\"text-align: right;\">\n",
              "      <th></th>\n",
              "      <th>0</th>\n",
              "    </tr>\n",
              "  </thead>\n",
              "  <tbody>\n",
              "    <tr>\n",
              "      <th>panic</th>\n",
              "      <td>1</td>\n",
              "    </tr>\n",
              "    <tr>\n",
              "      <th>lets</th>\n",
              "      <td>1</td>\n",
              "    </tr>\n",
              "    <tr>\n",
              "      <th>brainless</th>\n",
              "      <td>1</td>\n",
              "    </tr>\n",
              "    <tr>\n",
              "      <th>queueing</th>\n",
              "      <td>1</td>\n",
              "    </tr>\n",
              "    <tr>\n",
              "      <th>food</th>\n",
              "      <td>1</td>\n",
              "    </tr>\n",
              "    <tr>\n",
              "      <th>@skynews</th>\n",
              "      <td>1</td>\n",
              "    </tr>\n",
              "    <tr>\n",
              "      <th>show</th>\n",
              "      <td>1</td>\n",
              "    </tr>\n",
              "    <tr>\n",
              "      <th>#covid2019</th>\n",
              "      <td>1</td>\n",
              "    </tr>\n",
              "    <tr>\n",
              "      <th>france</th>\n",
              "      <td>1</td>\n",
              "    </tr>\n",
              "    <tr>\n",
              "      <th>ppl</th>\n",
              "      <td>1</td>\n",
              "    </tr>\n",
              "    <tr>\n",
              "      <th>#coronavirusoutbreak</th>\n",
              "      <td>1</td>\n",
              "    </tr>\n",
              "    <tr>\n",
              "      <th>nice</th>\n",
              "      <td>1</td>\n",
              "    </tr>\n",
              "    <tr>\n",
              "      <th>ffs</th>\n",
              "      <td>1</td>\n",
              "    </tr>\n",
              "    <tr>\n",
              "      <th>one</th>\n",
              "      <td>1</td>\n",
              "    </tr>\n",
              "  </tbody>\n",
              "</table>\n",
              "</div>"
            ],
            "text/plain": [
              "                      0\n",
              "panic                 1\n",
              "lets                  1\n",
              "brainless             1\n",
              "queueing              1\n",
              "food                  1\n",
              "@skynews              1\n",
              "show                  1\n",
              "#covid2019            1\n",
              "france                1\n",
              "ppl                   1\n",
              "#coronavirusoutbreak  1\n",
              "nice                  1\n",
              "ffs                   1\n",
              "one                   1"
            ]
          },
          "execution_count": 25,
          "metadata": {},
          "output_type": "execute_result"
        }
      ],
      "source": [
        "pd.DataFrame(cv.transform([train.iloc[ind]['OriginalTweet']]).toarray(), columns=cv.get_feature_names_out()).T.sort_values(by=0, ascending=False).head(14)"
      ]
    },
    {
      "cell_type": "markdown",
      "metadata": {
        "id": "TpEsl1k_NF4T"
      },
      "source": [
        "**Ответ:** Определить самый важный/не важный токен не получится, поскольку это CountVectorizer для твита из обучающей выборки. Он просто делает подсчет вхождений токенов из словаря в этот твит, так как обучались, в том числе на этом твите и в твите нет повторяющихся слов, то везде 1."
      ]
    },
    {
      "cell_type": "markdown",
      "metadata": {
        "id": "w4DsEQpLO3J6"
      },
      "source": [
        "Теперь примените TfidfVectorizer и  определите самый важный/неважный токены. Хорошо ли определились, почему?"
      ]
    },
    {
      "cell_type": "code",
      "execution_count": 26,
      "metadata": {
        "id": "uSNzdK3ENGB3"
      },
      "outputs": [
        {
          "data": {
            "application/vnd.microsoft.datawrangler.viewer.v0+json": {
              "columns": [
                {
                  "name": "index",
                  "rawType": "object",
                  "type": "string"
                },
                {
                  "name": "0",
                  "rawType": "float64",
                  "type": "float"
                }
              ],
              "conversionMethod": "pd.DataFrame",
              "ref": "7d9fc5db-6b13-45eb-8f41-6b29b0921ade",
              "rows": [
                [
                  "brainless",
                  "0.3867641170466375"
                ],
                [
                  "queueing",
                  "0.35434556333216544"
                ],
                [
                  "ffs",
                  "0.3244741764513268"
                ],
                [
                  "france",
                  "0.32047314046539654"
                ],
                [
                  "@skynews",
                  "0.31042634466284263"
                ],
                [
                  "lets",
                  "0.30121070136861045"
                ],
                [
                  "ppl",
                  "0.2550064610386691"
                ],
                [
                  "nice",
                  "0.2542729176022132"
                ],
                [
                  "show",
                  "0.24406492401820118"
                ],
                [
                  "#coronavirusoutbreak",
                  "0.22584265007428544"
                ],
                [
                  "#covid2019",
                  "0.16825192939361902"
                ],
                [
                  "one",
                  "0.16306722855395073"
                ],
                [
                  "panic",
                  "0.14759470306326164"
                ],
                [
                  "food",
                  "0.11328893069250721"
                ]
              ],
              "shape": {
                "columns": 1,
                "rows": 14
              }
            },
            "text/html": [
              "<div>\n",
              "<style scoped>\n",
              "    .dataframe tbody tr th:only-of-type {\n",
              "        vertical-align: middle;\n",
              "    }\n",
              "\n",
              "    .dataframe tbody tr th {\n",
              "        vertical-align: top;\n",
              "    }\n",
              "\n",
              "    .dataframe thead th {\n",
              "        text-align: right;\n",
              "    }\n",
              "</style>\n",
              "<table border=\"1\" class=\"dataframe\">\n",
              "  <thead>\n",
              "    <tr style=\"text-align: right;\">\n",
              "      <th></th>\n",
              "      <th>0</th>\n",
              "    </tr>\n",
              "  </thead>\n",
              "  <tbody>\n",
              "    <tr>\n",
              "      <th>brainless</th>\n",
              "      <td>0.386764</td>\n",
              "    </tr>\n",
              "    <tr>\n",
              "      <th>queueing</th>\n",
              "      <td>0.354346</td>\n",
              "    </tr>\n",
              "    <tr>\n",
              "      <th>ffs</th>\n",
              "      <td>0.324474</td>\n",
              "    </tr>\n",
              "    <tr>\n",
              "      <th>france</th>\n",
              "      <td>0.320473</td>\n",
              "    </tr>\n",
              "    <tr>\n",
              "      <th>@skynews</th>\n",
              "      <td>0.310426</td>\n",
              "    </tr>\n",
              "    <tr>\n",
              "      <th>lets</th>\n",
              "      <td>0.301211</td>\n",
              "    </tr>\n",
              "    <tr>\n",
              "      <th>ppl</th>\n",
              "      <td>0.255006</td>\n",
              "    </tr>\n",
              "    <tr>\n",
              "      <th>nice</th>\n",
              "      <td>0.254273</td>\n",
              "    </tr>\n",
              "    <tr>\n",
              "      <th>show</th>\n",
              "      <td>0.244065</td>\n",
              "    </tr>\n",
              "    <tr>\n",
              "      <th>#coronavirusoutbreak</th>\n",
              "      <td>0.225843</td>\n",
              "    </tr>\n",
              "    <tr>\n",
              "      <th>#covid2019</th>\n",
              "      <td>0.168252</td>\n",
              "    </tr>\n",
              "    <tr>\n",
              "      <th>one</th>\n",
              "      <td>0.163067</td>\n",
              "    </tr>\n",
              "    <tr>\n",
              "      <th>panic</th>\n",
              "      <td>0.147595</td>\n",
              "    </tr>\n",
              "    <tr>\n",
              "      <th>food</th>\n",
              "      <td>0.113289</td>\n",
              "    </tr>\n",
              "  </tbody>\n",
              "</table>\n",
              "</div>"
            ],
            "text/plain": [
              "                             0\n",
              "brainless             0.386764\n",
              "queueing              0.354346\n",
              "ffs                   0.324474\n",
              "france                0.320473\n",
              "@skynews              0.310426\n",
              "lets                  0.301211\n",
              "ppl                   0.255006\n",
              "nice                  0.254273\n",
              "show                  0.244065\n",
              "#coronavirusoutbreak  0.225843\n",
              "#covid2019            0.168252\n",
              "one                   0.163067\n",
              "panic                 0.147595\n",
              "food                  0.113289"
            ]
          },
          "execution_count": 26,
          "metadata": {},
          "output_type": "execute_result"
        }
      ],
      "source": [
        "from sklearn.feature_extraction.text import TfidfVectorizer\n",
        "tfidfv = TfidfVectorizer(tokenizer=custom_tokenizer).fit(train['OriginalTweet'])\n",
        "pd.DataFrame(tfidfv.transform([train.iloc[ind]['OriginalTweet']]).toarray(), columns=tfidfv.get_feature_names_out()).T.sort_values(by=0, ascending=False).head(14)"
      ]
    },
    {
      "cell_type": "markdown",
      "metadata": {
        "id": "NYao_UhqQADm"
      },
      "source": [
        "**Ответ:** Хорошо: наибольший вес получили токены brainless, ffs (for ~~fuck's~~ sake), nice, ppl(people), france, queueing. Эти слова ближе к тому, чтобы отражать желаемое. (самый неважный - 'food', самый важный - 'brainless'). TfidfVectorizer присваивает большие значения токенам с большим TF * IDF, а меньшие - токенам с низким TF * IDF. TF-IDF характеризует важность токена во всем корпусе."
      ]
    },
    {
      "cell_type": "markdown",
      "metadata": {
        "id": "LGRJPqfWSesQ"
      },
      "source": [
        "Найдите какой-нибудь положительно окрашенный твитт, где TfidfVectorizer хорошо (полезно для определения окраски) выделяет важный токен, поясните пример.\n",
        "\n",
        "*Подсказка:* явно положительные твитты можно искать при помощи положительных слов (good, great, amazing и т. д.)"
      ]
    },
    {
      "cell_type": "code",
      "execution_count": 27,
      "metadata": {
        "colab": {
          "base_uri": "https://localhost:8080/",
          "height": 53
        },
        "id": "bRbQ2CHiSuJI",
        "outputId": "c4b34a7d-1076-4e1e-ad5c-9466fd2097c2"
      },
      "outputs": [
        {
          "data": {
            "application/vnd.microsoft.datawrangler.viewer.v0+json": {
              "columns": [
                {
                  "name": "index",
                  "rawType": "int64",
                  "type": "integer"
                },
                {
                  "name": "UserName",
                  "rawType": "int64",
                  "type": "integer"
                },
                {
                  "name": "ScreenName",
                  "rawType": "int64",
                  "type": "integer"
                },
                {
                  "name": "Location",
                  "rawType": "object",
                  "type": "string"
                },
                {
                  "name": "TweetAt",
                  "rawType": "object",
                  "type": "string"
                },
                {
                  "name": "OriginalTweet",
                  "rawType": "object",
                  "type": "string"
                },
                {
                  "name": "Sentiment",
                  "rawType": "object",
                  "type": "string"
                },
                {
                  "name": "SentimentCode",
                  "rawType": "int64",
                  "type": "integer"
                }
              ],
              "conversionMethod": "pd.DataFrame",
              "ref": "4d6c74a0-6ed4-4774-b64a-7c3e7e9d7a9e",
              "rows": [
                [
                  "28899",
                  "39249",
                  "84201",
                  "India",
                  "09-04-2020",
                  "@Canon_India I am very happy.. Great job by @Canon_India #CanonForCommunity\r\r\nhttps://t.co/Z0intkS34x",
                  "Extremely Positive",
                  "1"
                ],
                [
                  "192",
                  "4035",
                  "48987",
                  "San Diego, CA",
                  "16-03-2020",
                  "What's a good way to support grocery store, medical, and hospital staff during this time? I would normally think of something along the lines of ordering everyone pizza, but that doesn't seem like a great idea about now... #COVID2019 #COVID19 #COVID?19",
                  "Extremely Positive",
                  "1"
                ],
                [
                  "21892",
                  "30522",
                  "75474",
                  "Snuneymuxw territory (Nanaimo)",
                  "02-04-2020",
                  "Still not sure how to best get groceries during a pandemic? Health experts have some answers | CBC News https://t.co/Ts2m8uBO4w Good advice! \"It's unlikely that COVID-19 will spread in a home through contamination on packaging.\" #covid19",
                  "Extremely Positive",
                  "1"
                ],
                [
                  "21883",
                  "30511",
                  "75463",
                  "London",
                  "02-04-2020",
                  "Coronavirus career pivots: 'I now work in a supermarket' great story. Make yourself useful #coronavirus #COVID19 #hope2020 https://t.co/KEn8gE7i4k",
                  "Extremely Positive",
                  "1"
                ],
                [
                  "23519",
                  "32529",
                  "77481",
                  "Moulton, England",
                  "05-04-2020",
                  "Well done James great front of store before we opened this morning",
                  "Extremely Positive",
                  "1"
                ],
                [
                  "1996",
                  "6229",
                  "51181",
                  "Manchester, UK",
                  "17-03-2020",
                  "So great news for those in isolation, no supermarket can deliver food for at least a week..!! Some up to 3 weeks! And you say people shouldn't stock up?!! So glad i have so much support from friends and family!! Be scary if u didn't.. #cfprobs #isolation #coronavirus",
                  "Extremely Positive",
                  "1"
                ],
                [
                  "25829",
                  "35434",
                  "80386",
                  "Rayleigh",
                  "07-04-2020",
                  "Me &amp; Cat did the shopping today. @Morrisons were very good at keeping folk at a distance - We split up in order to be swift in the grocery store and this then allows a steady flow IN/OUT #SocialDistancing #Shopping ?&lt;------&gt;?",
                  "Extremely Positive",
                  "1"
                ],
                [
                  "663",
                  "4588",
                  "49540",
                  "954",
                  "17-03-2020",
                  "@HaileeSteinfeld IÃÂm good. Trying to keep myself busy in the form of Call of Duty, watching Dickinson which is awesome, and online shopping! Can also confirm no one in my family has tested positive for COVID-19. How are you doing?",
                  "Extremely Positive",
                  "1"
                ],
                [
                  "29117",
                  "39534",
                  "84486",
                  "Ohio",
                  "09-04-2020",
                  "Trip to the grocery store or great train robbery We ll let our viewers decide   19",
                  "Extremely Positive",
                  "1"
                ],
                [
                  "30983",
                  "41917",
                  "86869",
                  "      Texas",
                  "11-04-2020",
                  "#coronavirus #covid19 Happy Easter  Good Friday  Easter  Away Game Anticipation #sunday  #Jesus  #JesusChrist  #religion  #ReligiousFreedom  #world  #StayHome  #keepput #StarWars  #justkidding #toiletpaper  #facts #places \r\r\n\r\r\nhttps://t.co/nB1b5BGyIS",
                  "Extremely Positive",
                  "1"
                ],
                [
                  "4583",
                  "9362",
                  "54314",
                  "Moulton, England",
                  "19-03-2020",
                  "Hearing so many stories of NHS heroes Teachers have been equally amazing Having briefly walked into a supermarket today and walked out again there are some absolute superstar supermarket workers out there too",
                  "Extremely Positive",
                  "1"
                ],
                [
                  "29107",
                  "39523",
                  "84475",
                  "Portland, OR",
                  "09-04-2020",
                  "You're shopping online? Good.\r\r\nNow don't forget to SMILE for Child Foundation.\r\r\n#StayHome #StayHomeSaveLives https://t.co/oYZdlNZGuP",
                  "Extremely Positive",
                  "1"
                ],
                [
                  "31115",
                  "42077",
                  "87029",
                  "White Mountains of Arizona",
                  "11-04-2020",
                  "#quarantinelife #stayathomeorder #flattenthecurve #remotework #number2 #quarantine2020 #hashtag\r\r\n\r\r\nWhile the #coronavirus isn't funny, these coronavirus #toiletpaper #memes about the great 2020 #shortage of #TP are.  https://t.co/YJNZnQfFkQ",
                  "Extremely Positive",
                  "1"
                ],
                [
                  "31606",
                  "42677",
                  "87629",
                  "Chattanooga, TN",
                  "12-04-2020",
                  "Chattanooga Goodwill has temporarily closed our retail store operations. \r\r\nWill you help us provide support for members of our team who have been laid off during the COVID-19 pandemic?  Please donate online today!\r\r\n\r\r\nhttps://t.co/mUNYGt30pS https://t.co/3NSTaSnE0E",
                  "Extremely Positive",
                  "1"
                ],
                [
                  "26344",
                  "36069",
                  "81021",
                  "US",
                  "07-04-2020",
                  "HUGE Announcement ? Dollar Dig is donating 100% of net Profits to the CDC Foundations' COVID-19 response + POAC Autism Services! Shopping online never felt so good ? Shop through https://t.co/EF2CYrrjRW first...Cashback is ?% yours to KEEP! Please RETWEET https://t.co/rsoi2dAGfI",
                  "Extremely Positive",
                  "1"
                ],
                [
                  "9368",
                  "15176",
                  "60128",
                  "United States",
                  "20-03-2020",
                  "\"There is no good in any act of hoarding that brings loss to the people and inflates the prices for them\". Maula Ali S.A. #ImamAli\r\r\n\r\r\n#HappyFriday Chill out, stay calm, stay safe, stay healthy! #coronavirus #panicbuying https://t.co/TzufbNKUos",
                  "Extremely Positive",
                  "1"
                ],
                [
                  "25937",
                  "35563",
                  "80515",
                  "North West, England",
                  "07-04-2020",
                  "@tesco Great Harwood youÃÂve really disappointed me. IÃÂm an essential worker (apparently) and as a result IÃÂve managed to get food shopping in various different shops. You are the only supermarket who treat customers like cattle! #lockdowneffect #Covid_",
                  "Extremely Positive",
                  "1"
                ],
                [
                  "1563",
                  "5698",
                  "50650",
                  "Vermont, USA",
                  "17-03-2020",
                  "Need a great #handsanitizer look no further this #product is great , doesnÃÂt dry your hands out like the grocery store sanitizers , Info in bio, #DFS ,#sports #coronavirus https://t.co/bO9e3s2DQO",
                  "Extremely Positive",
                  "1"
                ],
                [
                  "29446",
                  "39945",
                  "84897",
                  "Jenkintown",
                  "09-04-2020",
                  "Social distancing, but make it fashion! Shout out to vaginawarriorcreations for this sweet mask to make my supermarket trip safer! #SomethingBeautifulEveryDay\r\r\n.\r\r\n.\r\r\n.\r\r\n.\r\r\n.\r\r\n.\r\r\n.\r\r\n.\r\r\n#SocialDistancing #6FeetApart #StayHomeÃÂ https://t.co/37lEyrFWET",
                  "Extremely Positive",
                  "1"
                ],
                [
                  "29340",
                  "39806",
                  "84758",
                  "Unknown",
                  "09-04-2020",
                  "My #blossomwatch today en route to the supermarket ! And couldnÃÂt resist these gorgeous tulips. So nice to have good weather, even if we can only sample it briefly. #StayHomeSaveLives \r\r\n#ferlougingGraciously https://t.co/dbPfFvsxsf",
                  "Extremely Positive",
                  "1"
                ],
                [
                  "26239",
                  "35940",
                  "80892",
                  "Unknown",
                  "07-04-2020",
                  "My Life In 2020: #QuarantineDiaries, https://t.co/TbCWF2y11C via @amazon ??fun2020diaries! Different colors&amp; great #gifts for anyone! #QuarantineLife #journaling #coronavirus #journal #Quarantine  #QuarantineActivities #CoronaPandemie #diaries #QuarantineBirthday #toiletpaper",
                  "Extremely Positive",
                  "1"
                ],
                [
                  "16838",
                  "24300",
                  "69252",
                  "Asia Pacific",
                  "25-03-2020",
                  "my friend needs an about deadline is tomorrow 200 words at least it needs to be formal and informative he is willing to pay the premium prices for a great one",
                  "Extremely Positive",
                  "1"
                ],
                [
                  "26518",
                  "36294",
                  "81246",
                  "Worldwide",
                  "07-04-2020",
                  "Today in the Idealists in Action Blog: As the COVID-19 pandemic increases demand at food banks, Susan Zumbuehl uses her senior shopping hours to collect items for those in need.\r\r\n\r\r\nNow is a great time to volunteer with, or donate to, your local #foodbank!\r\r\n\r\r\nhttps://t.co/dLYRL0jcwV",
                  "Extremely Positive",
                  "1"
                ],
                [
                  "27471",
                  "37481",
                  "82433",
                  "New York, NY",
                  "08-04-2020",
                  "Amazing and admirable work being done by all grocery store companies and workers.  #SuddenChange #ThankYou\r\r\n\r\r\nÃÂAll hands on deckÃÂ: Grocery store executives get a taste of the hard life on coronavirus front lines | Financial Post https://t.co/oAM2HBk7MP",
                  "Extremely Positive",
                  "1"
                ],
                [
                  "27816",
                  "37904",
                  "82856",
                  "Wichita, Kansas",
                  "08-04-2020",
                  "Hey good news everybody! Both of our locations in the West-side &amp; South Oliver are offering discounts of 10% for tire prices &amp; 20% for alignment services ??? for our heroes in the frontline during the COVID-19 situation. \r\r\n\r\r\nSo call now if you fit into the category ?!\r\r\n#heroes https://t.co/KBZm3ntRZ2",
                  "Extremely Positive",
                  "1"
                ],
                [
                  "26517",
                  "36293",
                  "81245",
                  "Earth",
                  "07-04-2020",
                  "It's a good thing the Minhas breweries have switched production to making hand sanitizer because I've heard their alcoholic beverages already taste like hand sanitizer. #TwentyfiveDollarHandSanitizer #COVID19 #Coronavirus #PriceGouging",
                  "Extremely Positive",
                  "1"
                ],
                [
                  "12831",
                  "19356",
                  "64308",
                  "Louisville, KY",
                  "22-03-2020",
                  "Good news and thanks to HuberÃÂs! After seeing this story on @WDRBNews,  St . Matthews police got free sanitizer during this #coronavirus pandemic. https://t.co/nJdKmwUwKF https://t.co/pBe34s0pE8",
                  "Extremely Positive",
                  "1"
                ],
                [
                  "22284",
                  "31023",
                  "75975",
                  "Montana, USA",
                  "03-04-2020",
                  "Great so gas prices have fallen and everyone has to stay home Stay healthy everyone Glad I live in the country already",
                  "Extremely Positive",
                  "1"
                ],
                [
                  "2791",
                  "7167",
                  "52119",
                  "Hertfordshire/Essex border",
                  "18-03-2020",
                  "This is a really great selection of advice from @theRCOT for those who may be self-isolating due to #coronavirus.\r\r\n\r\r\nGreat work, and testament to the massive value OT's bring to healthcare. ??\r\r\n\r\r\nPDF version available here ?\r\r\nhttps://t.co/kNY35UVnDz https://t.co/nWJbZaJ64O",
                  "Extremely Positive",
                  "1"
                ],
                [
                  "25989",
                  "35634",
                  "80586",
                  "Amestris :3 kuinazas~",
                  "07-04-2020",
                  "Influence is powerful and I love when celebrities use theirs for good put up money she earned from CBS so the OC distillery she is a co owner of could pivot from making alcohol to hand sanitizer during the pandemic  ",
                  "Extremely Positive",
                  "1"
                ],
                [
                  "27855",
                  "37955",
                  "82907",
                  "Unknown",
                  "08-04-2020",
                  "This is a great article about advertising trends and insights which covers many industry sectors. #consumerbehavior #consumertrends #MSFTAds https://t.co/VvYzbCori3",
                  "Extremely Positive",
                  "1"
                ],
                [
                  "31725",
                  "42827",
                  "87779",
                  "United States",
                  "12-04-2020",
                  "New good visualizations for changing spending habits in the age of Check out our article on it here as well",
                  "Extremely Positive",
                  "1"
                ],
                [
                  "15485",
                  "22634",
                  "67586",
                  "Lagos nigeria",
                  "23-03-2020",
                  "Good morning.\r\r\n\r\r\n Covid 19 is real please adhere to all instructions and keep your distance. God will keep us all safe under his shadow, Amen.\r\r\nDnt forget to stock up with food. Slide into our DM. https://t.co/uXAAcvtPh2",
                  "Extremely Positive",
                  "1"
                ],
                [
                  "31762",
                  "42875",
                  "87827",
                  "London",
                  "12-04-2020",
                  "Great to hear that OPEC finally got their heads together and agreed to slash oil production and artificially inflate prices because it was becoming too cheap. I hope the eventual manufacturers of Covid-19 vaccines are taking note of this shrewd and entirely ethical manoeuvre.",
                  "Extremely Positive",
                  "1"
                ],
                [
                  "5129",
                  "10036",
                  "54988",
                  "Toronto, Ontario",
                  "19-03-2020",
                  "It s good to make sure the people who are most in need can get what they need",
                  "Extremely Positive",
                  "1"
                ],
                [
                  "8910",
                  "14624",
                  "59576",
                  "Unknown",
                  "20-03-2020",
                  "#Covid_19 #CashAppFriday\r\r\nOnline shopping for Stuffed Animals &amp; Plush Toys from a great selection of Stuffed Animals &amp; Teddy Bears, Plush Figures, Plush Pillows, Plush Puppets &amp; more at everyday \r\r\n $1-$10. https://t.co/7gPI0GILcx via \r\r\n@amazon",
                  "Extremely Positive",
                  "1"
                ],
                [
                  "8221",
                  "13787",
                  "58739",
                  "Unknown",
                  "20-03-2020",
                  "Let s just take a minute to say THANK YOU also to the amazing postal workers So many real people behind a click of online shopping and getting cards delivered Thank   you   19",
                  "Extremely Positive",
                  "1"
                ],
                [
                  "14965",
                  "21993",
                  "66945",
                  "NYC",
                  "23-03-2020",
                  "FYI, great data dashboard on consumer spend trends by industry. See the CV business impact in real-time #nyclockdown #COVID19 #coronavirus #DataScience #MnuchinMoney #mnuchin  https://t.co/6y8a0W2fTe",
                  "Extremely Positive",
                  "1"
                ],
                [
                  "24383",
                  "33617",
                  "78569",
                  "Newcastle, New South Wales",
                  "06-04-2020",
                  "As great and important the work that health workers are doing in #Covid_19 response, they arenÃÂt the only ones that deserve thanks for being on the frontline. Logistics/supply/drivers, supermarket staff, takeaway workers &amp; public servants, just to name a few. #auspol #qanda",
                  "Extremely Positive",
                  "1"
                ],
                [
                  "20160",
                  "28380",
                  "73332",
                  "London/Dorking",
                  "26-03-2020",
                  "@caitlinmoran Brilliant, but how about showing appreciation to the wonderful supermarket workers and delivery drivers who are absolutely getting us all through this?  Monday. 8pm. Anyone? #coronavirus",
                  "Extremely Positive",
                  "1"
                ],
                [
                  "21826",
                  "30440",
                  "75392",
                  "Republic of Croatia",
                  "02-04-2020",
                  "Many of you are shopping online right now due to 19 amp that s a good way to but can we ask you to do just 1 thing please use this link it won t cost you more but it will help us to save wild as you shop Thank you",
                  "Extremely Positive",
                  "1"
                ],
                [
                  "2105",
                  "6363",
                  "51315",
                  "Unknown",
                  "17-03-2020",
                  "Its good if our government can provide hand sanitizer mask amp tissues for everyone who going out to buying something groceries at supermarket amp etc yang ramai orang for sure artis Malaysia yang banyak duit bolelah sumbangkan sedikit untuk pembelian mask amp etc",
                  "Extremely Positive",
                  "1"
                ],
                [
                  "25290",
                  "34773",
                  "79725",
                  "Hartley, Kent",
                  "06-04-2020",
                  "@Jeff_W_Goodwin Like the #COVIDIDIOTS in a park in London for a start and the twit who coughed around my brother-in-law (in a supermarket) he is on the front line of hospital to home care in Merseyside now self-isolating #StayHomeSaveLives #SaveOurCarers",
                  "Extremely Positive",
                  "1"
                ],
                [
                  "6260",
                  "11396",
                  "56348",
                  "Unknown",
                  "19-03-2020",
                  "@LauraGellerTV @wusa9 Lol #FactsNotFear is such a Richardism ? itÃÂd be great to know how to protect ourselves/slow the spread of the virus when we MUST do a grocery run etc... then same question but specifically for elders who may not have mask/gloves et",
                  "Extremely Positive",
                  "1"
                ],
                [
                  "30239",
                  "40947",
                  "85899",
                  "New Orleans, LA",
                  "10-04-2020",
                  "#boycottmcdonalds \r\r\nThe people making your food could have #Coronavirus as McDonald's won't let its  employees wear masks!\r\r\nMcDonaldÃÂs Workers Demand Greater Safety and Economic Protection as COVID-19 Pandemic Intensifies - Fight for $15 https://t.co/5ZNUZXcMQO #FightFor15",
                  "Extremely Positive",
                  "1"
                ],
                [
                  "14332",
                  "21200",
                  "66152",
                  "Unknown",
                  "23-03-2020",
                  "Aquilo que venho a sofrer desde Janeiro &gt;&gt;&gt; COVID-19 to greatly impact animal feed additive prices https://t.co/4pJNEDiPXJ",
                  "Extremely Positive",
                  "1"
                ],
                [
                  "944",
                  "4938",
                  "49890",
                  "Capital Region, NY, USA",
                  "17-03-2020",
                  "We encourage you to find safe and creative ways to continue to support our incredible local businesses in Schenectady during COVID 19 Ordering take out purchasing gift cards and shopping online are a few great ways to continuing to support your favorites",
                  "Extremely Positive",
                  "1"
                ],
                [
                  "5490",
                  "10470",
                  "55422",
                  "London, England",
                  "19-03-2020",
                  "Great time to pause &amp; realise that as the economy is tanking and prices of goods are rising, how places in other societies like Iran are going through. We are experiencing a hair's length of what they are having to live with. Fruit for thought. #covid19UK #coronavirus #COVID19",
                  "Extremely Positive",
                  "1"
                ],
                [
                  "1016",
                  "5032",
                  "49984",
                  "Lewisham, London",
                  "17-03-2020",
                  "We ve resisted adding to the covid 19 social media noise up until now but in light of yesterday s update we wanted to let you all know the situation here at Good Food     We re trying our best not panic  We re going to stay open unless we are ad ",
                  "Extremely Positive",
                  "1"
                ],
                [
                  "18163",
                  "25898",
                  "70850",
                  "Fort Myers, FL",
                  "25-03-2020",
                  "Wow, Aetna just announced that their policyholders will not have to pay their costs for treatment for Covid-19 treatment at hospitals. Estimates for patients is that they were responsible for approx $20K. They are a division of CVS. Amazing corporate move for the consumer.????",
                  "Extremely Positive",
                  "1"
                ]
              ],
              "shape": {
                "columns": 7,
                "rows": 768
              }
            },
            "text/html": [
              "<div>\n",
              "<style scoped>\n",
              "    .dataframe tbody tr th:only-of-type {\n",
              "        vertical-align: middle;\n",
              "    }\n",
              "\n",
              "    .dataframe tbody tr th {\n",
              "        vertical-align: top;\n",
              "    }\n",
              "\n",
              "    .dataframe thead th {\n",
              "        text-align: right;\n",
              "    }\n",
              "</style>\n",
              "<table border=\"1\" class=\"dataframe\">\n",
              "  <thead>\n",
              "    <tr style=\"text-align: right;\">\n",
              "      <th></th>\n",
              "      <th>UserName</th>\n",
              "      <th>ScreenName</th>\n",
              "      <th>Location</th>\n",
              "      <th>TweetAt</th>\n",
              "      <th>OriginalTweet</th>\n",
              "      <th>Sentiment</th>\n",
              "      <th>SentimentCode</th>\n",
              "    </tr>\n",
              "  </thead>\n",
              "  <tbody>\n",
              "    <tr>\n",
              "      <th>28899</th>\n",
              "      <td>39249</td>\n",
              "      <td>84201</td>\n",
              "      <td>India</td>\n",
              "      <td>09-04-2020</td>\n",
              "      <td>@Canon_India I am very happy.. Great job by @C...</td>\n",
              "      <td>Extremely Positive</td>\n",
              "      <td>1</td>\n",
              "    </tr>\n",
              "    <tr>\n",
              "      <th>192</th>\n",
              "      <td>4035</td>\n",
              "      <td>48987</td>\n",
              "      <td>San Diego, CA</td>\n",
              "      <td>16-03-2020</td>\n",
              "      <td>What's a good way to support grocery store, me...</td>\n",
              "      <td>Extremely Positive</td>\n",
              "      <td>1</td>\n",
              "    </tr>\n",
              "    <tr>\n",
              "      <th>21892</th>\n",
              "      <td>30522</td>\n",
              "      <td>75474</td>\n",
              "      <td>Snuneymuxw territory (Nanaimo)</td>\n",
              "      <td>02-04-2020</td>\n",
              "      <td>Still not sure how to best get groceries durin...</td>\n",
              "      <td>Extremely Positive</td>\n",
              "      <td>1</td>\n",
              "    </tr>\n",
              "    <tr>\n",
              "      <th>21883</th>\n",
              "      <td>30511</td>\n",
              "      <td>75463</td>\n",
              "      <td>London</td>\n",
              "      <td>02-04-2020</td>\n",
              "      <td>Coronavirus career pivots: 'I now work in a su...</td>\n",
              "      <td>Extremely Positive</td>\n",
              "      <td>1</td>\n",
              "    </tr>\n",
              "    <tr>\n",
              "      <th>23519</th>\n",
              "      <td>32529</td>\n",
              "      <td>77481</td>\n",
              "      <td>Moulton, England</td>\n",
              "      <td>05-04-2020</td>\n",
              "      <td>Well done James great front of store before we...</td>\n",
              "      <td>Extremely Positive</td>\n",
              "      <td>1</td>\n",
              "    </tr>\n",
              "    <tr>\n",
              "      <th>...</th>\n",
              "      <td>...</td>\n",
              "      <td>...</td>\n",
              "      <td>...</td>\n",
              "      <td>...</td>\n",
              "      <td>...</td>\n",
              "      <td>...</td>\n",
              "      <td>...</td>\n",
              "    </tr>\n",
              "    <tr>\n",
              "      <th>6250</th>\n",
              "      <td>11382</td>\n",
              "      <td>56334</td>\n",
              "      <td>Mumbai, India</td>\n",
              "      <td>19-03-2020</td>\n",
              "      <td>Respected Sir @narendramodi \\r\\r\\n\\r\\r\\nWe und...</td>\n",
              "      <td>Extremely Positive</td>\n",
              "      <td>1</td>\n",
              "    </tr>\n",
              "    <tr>\n",
              "      <th>21533</th>\n",
              "      <td>30068</td>\n",
              "      <td>75020</td>\n",
              "      <td>Almaty, Kazakhstan</td>\n",
              "      <td>02-04-2020</td>\n",
              "      <td>Good news Grants First Approval of Convalescen...</td>\n",
              "      <td>Extremely Positive</td>\n",
              "      <td>1</td>\n",
              "    </tr>\n",
              "    <tr>\n",
              "      <th>18987</th>\n",
              "      <td>26911</td>\n",
              "      <td>71863</td>\n",
              "      <td>Unknown</td>\n",
              "      <td>25-03-2020</td>\n",
              "      <td>@AmyPoythress I hope you &amp;amp; your family rem...</td>\n",
              "      <td>Extremely Positive</td>\n",
              "      <td>1</td>\n",
              "    </tr>\n",
              "    <tr>\n",
              "      <th>469</th>\n",
              "      <td>4365</td>\n",
              "      <td>49317</td>\n",
              "      <td>TaÃÂ¯wan</td>\n",
              "      <td>16-03-2020</td>\n",
              "      <td>#COVID19 19 A friend of mine in the US works a...</td>\n",
              "      <td>Extremely Positive</td>\n",
              "      <td>1</td>\n",
              "    </tr>\n",
              "    <tr>\n",
              "      <th>18430</th>\n",
              "      <td>26221</td>\n",
              "      <td>71173</td>\n",
              "      <td>Unknown</td>\n",
              "      <td>25-03-2020</td>\n",
              "      <td>It's a shame more corporate Masters of the Uni...</td>\n",
              "      <td>Extremely Positive</td>\n",
              "      <td>1</td>\n",
              "    </tr>\n",
              "  </tbody>\n",
              "</table>\n",
              "<p>768 rows × 7 columns</p>\n",
              "</div>"
            ],
            "text/plain": [
              "       UserName  ScreenName                        Location     TweetAt  \\\n",
              "28899     39249       84201                           India  09-04-2020   \n",
              "192        4035       48987                   San Diego, CA  16-03-2020   \n",
              "21892     30522       75474  Snuneymuxw territory (Nanaimo)  02-04-2020   \n",
              "21883     30511       75463                          London  02-04-2020   \n",
              "23519     32529       77481                Moulton, England  05-04-2020   \n",
              "...         ...         ...                             ...         ...   \n",
              "6250      11382       56334                   Mumbai, India  19-03-2020   \n",
              "21533     30068       75020              Almaty, Kazakhstan  02-04-2020   \n",
              "18987     26911       71863                         Unknown  25-03-2020   \n",
              "469        4365       49317                       TaÃÂ¯wan  16-03-2020   \n",
              "18430     26221       71173                         Unknown  25-03-2020   \n",
              "\n",
              "                                           OriginalTweet           Sentiment  \\\n",
              "28899  @Canon_India I am very happy.. Great job by @C...  Extremely Positive   \n",
              "192    What's a good way to support grocery store, me...  Extremely Positive   \n",
              "21892  Still not sure how to best get groceries durin...  Extremely Positive   \n",
              "21883  Coronavirus career pivots: 'I now work in a su...  Extremely Positive   \n",
              "23519  Well done James great front of store before we...  Extremely Positive   \n",
              "...                                                  ...                 ...   \n",
              "6250   Respected Sir @narendramodi \\r\\r\\n\\r\\r\\nWe und...  Extremely Positive   \n",
              "21533  Good news Grants First Approval of Convalescen...  Extremely Positive   \n",
              "18987  @AmyPoythress I hope you &amp; your family rem...  Extremely Positive   \n",
              "469    #COVID19 19 A friend of mine in the US works a...  Extremely Positive   \n",
              "18430  It's a shame more corporate Masters of the Uni...  Extremely Positive   \n",
              "\n",
              "       SentimentCode  \n",
              "28899              1  \n",
              "192                1  \n",
              "21892              1  \n",
              "21883              1  \n",
              "23519              1  \n",
              "...              ...  \n",
              "6250               1  \n",
              "21533              1  \n",
              "18987              1  \n",
              "469                1  \n",
              "18430              1  \n",
              "\n",
              "[768 rows x 7 columns]"
            ]
          },
          "execution_count": 27,
          "metadata": {},
          "output_type": "execute_result"
        }
      ],
      "source": [
        "positive_words = r'good|great|amazing|wonderful|beautiful'\n",
        "train[train['OriginalTweet'].str.contains(positive_words, case=False, regex=True) & (train['Sentiment'] == 'Extremely Positive')]"
      ]
    },
    {
      "cell_type": "code",
      "execution_count": 28,
      "metadata": {},
      "outputs": [
        {
          "data": {
            "text/plain": [
              "'Amazing and admirable work being done by all grocery store companies and workers.  #SuddenChange #ThankYou\\r\\r\\n\\r\\r\\nÃ\\x82Â\\x93All hands on deckÃ\\x82Â\\x92: Grocery store executives get a taste of the hard life on coronavirus front lines | Financial Post https://t.co/oAM2HBk7MP'"
            ]
          },
          "execution_count": 28,
          "metadata": {},
          "output_type": "execute_result"
        }
      ],
      "source": [
        "positive_tweet = '\\n'.join(train[train['ScreenName'] == 82433]['OriginalTweet'].tolist())\n",
        "positive_tweet"
      ]
    },
    {
      "cell_type": "code",
      "execution_count": 29,
      "metadata": {},
      "outputs": [
        {
          "data": {
            "text/plain": [
              "'Удивительная и восхитительная работа, выполняемая всеми компаниями и работниками продуктового магазина.  #Suddenchange #thankyou\\r\\r\\n\\r\\r\\nВсе руки на Deckã: руководители продуктового магазина почувствуют вкус тяжелой жизни на фронте коронавируса | Финансовый пост https://t.co/oam2hbk7mp'"
            ]
          },
          "execution_count": 29,
          "metadata": {},
          "output_type": "execute_result"
        }
      ],
      "source": [
        "from googletrans import Translator\n",
        "t = await Translator().translate(positive_tweet, dest='russian') # перведем на русский ( как-то не очень получилось(( )\n",
        "t.text"
      ]
    },
    {
      "cell_type": "code",
      "execution_count": 30,
      "metadata": {},
      "outputs": [
        {
          "data": {
            "application/vnd.microsoft.datawrangler.viewer.v0+json": {
              "columns": [
                {
                  "name": "index",
                  "rawType": "object",
                  "type": "string"
                },
                {
                  "name": "0",
                  "rawType": "float64",
                  "type": "float"
                }
              ],
              "conversionMethod": "pd.DataFrame",
              "ref": "4d0365d3-8df2-4e6b-9689-361ac2142e02",
              "rows": [
                [
                  "#suddenchange",
                  "0.3458754407925389"
                ],
                [
                  "admirable",
                  "0.3227517057028648"
                ],
                [
                  "deckã",
                  "0.30408264436186033"
                ],
                [
                  "#thankyou",
                  "0.2533805004338426"
                ],
                [
                  "taste",
                  "0.2513580328625795"
                ],
                [
                  "executives",
                  "0.24945119971537805"
                ],
                [
                  "amazing",
                  "0.2134245255864939"
                ],
                [
                  "grocery",
                  "0.19608546081741177"
                ],
                [
                  "lines",
                  "0.19594540238883096"
                ],
                [
                  "store",
                  "0.19026511904174057"
                ],
                [
                  "done",
                  "0.18983201700459937"
                ],
                [
                  "financial",
                  "0.1886132331353908"
                ],
                [
                  "post",
                  "0.18714981877734208"
                ],
                [
                  "front",
                  "0.18714981877734208"
                ],
                [
                  "hard",
                  "0.18198682759355725"
                ],
                [
                  "life",
                  "0.1784964871285444"
                ],
                [
                  "hands",
                  "0.17464091129741255"
                ],
                [
                  "companies",
                  "0.16846030968948794"
                ],
                [
                  "work",
                  "0.14277971691638133"
                ],
                [
                  "coronavirus",
                  "0.1341526012773913"
                ],
                [
                  "workers",
                  "0.12924057919073512"
                ],
                [
                  "get",
                  "0.12217198157736488"
                ]
              ],
              "shape": {
                "columns": 1,
                "rows": 22
              }
            },
            "text/html": [
              "<div>\n",
              "<style scoped>\n",
              "    .dataframe tbody tr th:only-of-type {\n",
              "        vertical-align: middle;\n",
              "    }\n",
              "\n",
              "    .dataframe tbody tr th {\n",
              "        vertical-align: top;\n",
              "    }\n",
              "\n",
              "    .dataframe thead th {\n",
              "        text-align: right;\n",
              "    }\n",
              "</style>\n",
              "<table border=\"1\" class=\"dataframe\">\n",
              "  <thead>\n",
              "    <tr style=\"text-align: right;\">\n",
              "      <th></th>\n",
              "      <th>0</th>\n",
              "    </tr>\n",
              "  </thead>\n",
              "  <tbody>\n",
              "    <tr>\n",
              "      <th>#suddenchange</th>\n",
              "      <td>0.345875</td>\n",
              "    </tr>\n",
              "    <tr>\n",
              "      <th>admirable</th>\n",
              "      <td>0.322752</td>\n",
              "    </tr>\n",
              "    <tr>\n",
              "      <th>deckã</th>\n",
              "      <td>0.304083</td>\n",
              "    </tr>\n",
              "    <tr>\n",
              "      <th>#thankyou</th>\n",
              "      <td>0.253381</td>\n",
              "    </tr>\n",
              "    <tr>\n",
              "      <th>taste</th>\n",
              "      <td>0.251358</td>\n",
              "    </tr>\n",
              "    <tr>\n",
              "      <th>executives</th>\n",
              "      <td>0.249451</td>\n",
              "    </tr>\n",
              "    <tr>\n",
              "      <th>amazing</th>\n",
              "      <td>0.213425</td>\n",
              "    </tr>\n",
              "    <tr>\n",
              "      <th>grocery</th>\n",
              "      <td>0.196085</td>\n",
              "    </tr>\n",
              "    <tr>\n",
              "      <th>lines</th>\n",
              "      <td>0.195945</td>\n",
              "    </tr>\n",
              "    <tr>\n",
              "      <th>store</th>\n",
              "      <td>0.190265</td>\n",
              "    </tr>\n",
              "    <tr>\n",
              "      <th>done</th>\n",
              "      <td>0.189832</td>\n",
              "    </tr>\n",
              "    <tr>\n",
              "      <th>financial</th>\n",
              "      <td>0.188613</td>\n",
              "    </tr>\n",
              "    <tr>\n",
              "      <th>post</th>\n",
              "      <td>0.187150</td>\n",
              "    </tr>\n",
              "    <tr>\n",
              "      <th>front</th>\n",
              "      <td>0.187150</td>\n",
              "    </tr>\n",
              "    <tr>\n",
              "      <th>hard</th>\n",
              "      <td>0.181987</td>\n",
              "    </tr>\n",
              "    <tr>\n",
              "      <th>life</th>\n",
              "      <td>0.178496</td>\n",
              "    </tr>\n",
              "    <tr>\n",
              "      <th>hands</th>\n",
              "      <td>0.174641</td>\n",
              "    </tr>\n",
              "    <tr>\n",
              "      <th>companies</th>\n",
              "      <td>0.168460</td>\n",
              "    </tr>\n",
              "    <tr>\n",
              "      <th>work</th>\n",
              "      <td>0.142780</td>\n",
              "    </tr>\n",
              "    <tr>\n",
              "      <th>coronavirus</th>\n",
              "      <td>0.134153</td>\n",
              "    </tr>\n",
              "    <tr>\n",
              "      <th>workers</th>\n",
              "      <td>0.129241</td>\n",
              "    </tr>\n",
              "    <tr>\n",
              "      <th>get</th>\n",
              "      <td>0.122172</td>\n",
              "    </tr>\n",
              "  </tbody>\n",
              "</table>\n",
              "</div>"
            ],
            "text/plain": [
              "                      0\n",
              "#suddenchange  0.345875\n",
              "admirable      0.322752\n",
              "deckã          0.304083\n",
              "#thankyou      0.253381\n",
              "taste          0.251358\n",
              "executives     0.249451\n",
              "amazing        0.213425\n",
              "grocery        0.196085\n",
              "lines          0.195945\n",
              "store          0.190265\n",
              "done           0.189832\n",
              "financial      0.188613\n",
              "post           0.187150\n",
              "front          0.187150\n",
              "hard           0.181987\n",
              "life           0.178496\n",
              "hands          0.174641\n",
              "companies      0.168460\n",
              "work           0.142780\n",
              "coronavirus    0.134153\n",
              "workers        0.129241\n",
              "get            0.122172"
            ]
          },
          "execution_count": 30,
          "metadata": {},
          "output_type": "execute_result"
        }
      ],
      "source": [
        "pd.DataFrame(tfidfv.transform(train[train['ScreenName'] == 82433]['OriginalTweet']).toarray(), columns=tfidfv.get_feature_names_out()).T.sort_values(by=0, ascending=False).head(22)"
      ]
    },
    {
      "cell_type": "markdown",
      "metadata": {
        "id": "JTv9ST2_U6NA"
      },
      "source": [
        "**Ответ:** #suddenchange, admirable, amazing - самые важные токены, тк обладают высоким TF-IDF во всем контексте. Эти слова могут отражать тональность текста."
      ]
    },
    {
      "cell_type": "markdown",
      "metadata": {
        "id": "JVEuZm8BHms6"
      },
      "source": [
        "## Задание 4 Обучение первых моделей (1 балл)"
      ]
    },
    {
      "cell_type": "markdown",
      "metadata": {
        "id": "JADkO3sfXdOG"
      },
      "source": [
        "Примените оба векторайзера для получения матриц с признаками текстов.  Выделите целевую переменную."
      ]
    },
    {
      "cell_type": "code",
      "execution_count": 31,
      "metadata": {},
      "outputs": [],
      "source": [
        "X_train, y_train = train['OriginalTweet'], train['SentimentCode']\n",
        "X_test, y_test = test['OriginalTweet'], test['SentimentCode']"
      ]
    },
    {
      "cell_type": "code",
      "execution_count": 32,
      "metadata": {
        "id": "DguoiXhCX2oN"
      },
      "outputs": [],
      "source": [
        "cv = CountVectorizer(tokenizer=custom_tokenizer).fit(X_train)\n",
        "X_train_cv = cv.transform(X_train)\n",
        "X_test_cv = cv.transform(X_test)"
      ]
    },
    {
      "cell_type": "code",
      "execution_count": 33,
      "metadata": {},
      "outputs": [],
      "source": [
        "tfidfv = TfidfVectorizer(tokenizer=custom_tokenizer).fit(X_train)\n",
        "X_train_tf = tfidfv.transform(X_train)\n",
        "X_test_tf = tfidfv.transform(X_test)"
      ]
    },
    {
      "cell_type": "markdown",
      "metadata": {
        "id": "_FX1KSOfYSx4"
      },
      "source": [
        "Обучите логистическую регрессию на векторах из обоих векторайзеров. Посчитайте долю правильных ответов на обучающих и тестовых данных. Какой векторайзер показал лучший результат? Что можно сказать о моделях?\n",
        "\n",
        "Используйте `sparse` матрицы (после векторизации), не превращайте их в `numpy.ndarray` или `pd.DataFrame` - может не хватить памяти."
      ]
    },
    {
      "cell_type": "code",
      "execution_count": 34,
      "metadata": {
        "id": "-Tb3eh8UXJ6v"
      },
      "outputs": [
        {
          "name": "stdout",
          "output_type": "stream",
          "text": [
            "Accuracy CountVec: train - 0.98, test - 0.87\n",
            "Accuracy TfidfVec: train - 0.92, test - 0.85\n"
          ]
        }
      ],
      "source": [
        "from sklearn.linear_model import LogisticRegression\n",
        "from sklearn.metrics import accuracy_score\n",
        "\n",
        "lr_cv = LogisticRegression().fit(X_train_cv, y_train)\n",
        "lr_tfidfv = LogisticRegression().fit(X_train_tf, y_train)\n",
        "\n",
        "print(f'Accuracy CountVec: train - {accuracy_score(y_train, lr_cv.predict(X_train_cv)):.2f}, test - {accuracy_score(y_test, lr_cv.predict(X_test_cv)):.2f}')\n",
        "print(f'Accuracy TfidfVec: train - {accuracy_score(y_train, lr_tfidfv.predict(X_train_tf)):.2f}, test - {accuracy_score(y_test, lr_tfidfv.predict(X_test_tf)):.2f}')"
      ]
    },
    {
      "cell_type": "markdown",
      "metadata": {
        "id": "8y_wO7rCmv7K"
      },
      "source": [
        "**Ответ:** CountVectorizer показал лучший результат на тесте, хотя он в большей степени переобучен, чем TFIDFVectorizer. Лучше использовать модель c TFIDF, ее обобщающие способности выше, хоть и показала меньше на 0.02 на тесте."
      ]
    },
    {
      "cell_type": "markdown",
      "metadata": {
        "id": "rSOR1i3mjrys"
      },
      "source": [
        "## Задание 5 Стемминг (0.5 балла)"
      ]
    },
    {
      "cell_type": "markdown",
      "metadata": {
        "id": "i6ONBWNPjuq-"
      },
      "source": [
        "Для уменьшения словаря можно использовать стемминг.\n",
        "\n",
        "Модифицируйте написанный токенайзер, добавив в него стемминг с использованием SnowballStemmer. Обучите Count- и Tfidf- векторайзеры. Как изменился размер словаря?"
      ]
    },
    {
      "cell_type": "code",
      "execution_count": 35,
      "metadata": {},
      "outputs": [],
      "source": [
        "from nltk.stem import SnowballStemmer\n",
        "\n",
        "def custom_stem_tokenizer(text):\n",
        "    sst = SnowballStemmer('english')\n",
        "    tokens = custom_tokenizer(text)\n",
        "    for i in range(len(tokens)):\n",
        "        tokens[i] = sst.stem(tokens[i])\n",
        "\n",
        "    return tokens"
      ]
    },
    {
      "cell_type": "code",
      "execution_count": 36,
      "metadata": {
        "colab": {
          "base_uri": "https://localhost:8080/"
        },
        "id": "9QmrjYtqnlPd",
        "outputId": "cd91291d-9676-4611-9fc4-28afaed58963"
      },
      "outputs": [
        {
          "data": {
            "text/plain": [
              "['sampl', 'text', '@sample_text', '#sampletext', 'ad', 'word', 'check', 'stem']"
            ]
          },
          "execution_count": 36,
          "metadata": {},
          "output_type": "execute_result"
        }
      ],
      "source": [
        "custom_stem_tokenizer('This is sample text!!!! @Sample_text I, \\x92\\x92 https://t.co/sample  #sampletext adding more words to check stemming')"
      ]
    },
    {
      "cell_type": "code",
      "execution_count": 37,
      "metadata": {
        "colab": {
          "base_uri": "https://localhost:8080/"
        },
        "id": "zAvUTmaplzOS",
        "outputId": "566207fe-183b-4ed6-d333-f86f0cc9ae38"
      },
      "outputs": [
        {
          "data": {
            "text/plain": [
              "36634"
            ]
          },
          "execution_count": 37,
          "metadata": {},
          "output_type": "execute_result"
        }
      ],
      "source": [
        "cv = CountVectorizer(input='content', tokenizer=custom_stem_tokenizer).fit(X_train)\n",
        "len(cv.vocabulary_)"
      ]
    },
    {
      "cell_type": "markdown",
      "metadata": {
        "id": "Oyzs5TaAoHP6"
      },
      "source": [
        "**Ответ** Размер словаря уменьшился, так как слова были сведены к корню, поэтому отдельные формы и однокоренные аналогичны. \n",
        "  \n",
        "Пример из документации:   \n",
        "*            feed\t\t->\t\tfeed  \n",
        "*   \t\tagreed\t\t->\t\tagree  \n",
        "*        plastered\t\t->\t\tplaster  \n",
        "*       \tbled\t\t->\t\tbled  \n",
        "*        motoring\t\t->\t\tmotor  \n",
        "*           sing\t\t->\t\tsing  "
      ]
    },
    {
      "cell_type": "markdown",
      "metadata": {
        "id": "1OkncHI8oRmd"
      },
      "source": [
        "Обучите логистическую регрессию с использованием обоих векторайзеров. Изменилось ли качество? Есть ли смысл применять стемминг?"
      ]
    },
    {
      "cell_type": "code",
      "execution_count": 38,
      "metadata": {},
      "outputs": [],
      "source": [
        "cv = CountVectorizer(tokenizer=custom_stem_tokenizer).fit(X_train)\n",
        "X_train_cv = cv.transform(X_train)\n",
        "X_test_cv = cv.transform(X_test)"
      ]
    },
    {
      "cell_type": "code",
      "execution_count": 39,
      "metadata": {},
      "outputs": [],
      "source": [
        "tfidfv = TfidfVectorizer(tokenizer=custom_stem_tokenizer).fit(X_train)\n",
        "X_train_tf = tfidfv.transform(X_train)\n",
        "X_test_tf = tfidfv.transform(X_test)"
      ]
    },
    {
      "cell_type": "code",
      "execution_count": 40,
      "metadata": {
        "id": "ykZJPphEoZ5W"
      },
      "outputs": [
        {
          "name": "stdout",
          "output_type": "stream",
          "text": [
            "Accuracy CountVec: train - 0.97, test - 0.87\n",
            "Accuracy TfidfVec: train - 0.92, test - 0.86\n"
          ]
        }
      ],
      "source": [
        "lr_cv = LogisticRegression().fit(X_train_cv, y_train)\n",
        "lr_tfidfv = LogisticRegression().fit(X_train_tf, y_train)\n",
        "\n",
        "print(f'Accuracy CountVec: train - {accuracy_score(y_train, lr_cv.predict(X_train_cv)):.2f}, test - {accuracy_score(y_test, lr_cv.predict(X_test_cv)):.2f}')\n",
        "print(f'Accuracy TfidfVec: train - {accuracy_score(y_train, lr_tfidfv.predict(X_train_tf)):.2f}, test - {accuracy_score(y_test, lr_tfidfv.predict(X_test_tf)):.2f}')"
      ]
    },
    {
      "cell_type": "markdown",
      "metadata": {
        "id": "bCRlrODro0h8"
      },
      "source": [
        "**Ответ:** Качество изменилось незначительно, в данном случае нет смысла применять стемминг, но можно присмотреться, если важна производительность."
      ]
    },
    {
      "cell_type": "markdown",
      "metadata": {
        "id": "hYWGQNEDqLC-"
      },
      "source": [
        "## Задание  6 Работа с частотами (1.5 балла)"
      ]
    },
    {
      "cell_type": "markdown",
      "metadata": {
        "id": "8Hq-tl5mqUSn"
      },
      "source": [
        "Еще один способ уменьшить количество признаков - это использовать параметры min_df и max_df при построении векторайзера  эти параметры помогают ограничить требуемую частоту встречаемости токена в документах.\n",
        "\n",
        "По умолчанию берутся все токены, которые встретились хотя бы один раз.\n",
        "\n"
      ]
    },
    {
      "cell_type": "markdown",
      "metadata": {
        "id": "m1SiD4DE3WZ2"
      },
      "source": [
        "Подберите max_df такой, что размер словаря будет 36651 (на 1 меньше, чем было) <span style=\"color:red\">(но у меня было 36634)</span>. Почему параметр получился такой большой/маленький?"
      ]
    },
    {
      "cell_type": "code",
      "execution_count": 41,
      "metadata": {},
      "outputs": [
        {
          "name": "stdout",
          "output_type": "stream",
          "text": [
            "max_df = 0.3742417770183682\n"
          ]
        }
      ],
      "source": [
        "\"\"\"Найдем max_df\"\"\"\n",
        "cv_df = CountVectorizer(tokenizer=custom_stem_tokenizer).fit_transform(train['OriginalTweet'])\n",
        "max_df = np.max((cv_df > 0).sum(axis=0).A1) / cv_df.shape[0] # максимум из количества вхождений каждого слова / количество док-ов\n",
        "\n",
        "print(f\"max_df = {max_df}\")"
      ]
    },
    {
      "cell_type": "code",
      "execution_count": 42,
      "metadata": {
        "colab": {
          "base_uri": "https://localhost:8080/"
        },
        "id": "o3YLb8PViExb",
        "outputId": "b6d67654-d232-4e11-a5ca-6f2145053e98"
      },
      "outputs": [
        {
          "name": "stdout",
          "output_type": "stream",
          "text": [
            "36634\n"
          ]
        }
      ],
      "source": [
        "cv = CountVectorizer(tokenizer=custom_stem_tokenizer, max_df=max_df).fit(train['OriginalTweet'])\n",
        "print(len(cv.vocabulary_))"
      ]
    },
    {
      "cell_type": "markdown",
      "metadata": {
        "id": "UdZYoGZR4UsA"
      },
      "source": [
        "**Ответ:** Значение именно такое, тк учитывается количество документов, в которых было вхождение токена, а не асолютное число вхождений, таким образом #coronavirus есть примерно в 37% твитов"
      ]
    },
    {
      "cell_type": "markdown",
      "metadata": {
        "id": "_gRIUaB1u32f"
      },
      "source": [
        "Подберите min_df (используйте дефолтное значение max_df) в CountVectorizer таким образом, чтобы размер словаря был 3700 токенов (при использовании токенайзера со стеммингом), а качество осталось таким же, как и было. Что можно сказать о результатах?"
      ]
    },
    {
      "cell_type": "code",
      "execution_count": 43,
      "metadata": {},
      "outputs": [
        {
          "name": "stdout",
          "output_type": "stream",
          "text": [
            "min_df = 0.00042716787697565144\n"
          ]
        }
      ],
      "source": [
        "\"\"\"Найдем min_df\"\"\"\n",
        "cv_df = CountVectorizer(tokenizer=custom_stem_tokenizer).fit_transform(X_train)\n",
        "min_df = np.sort((cv_df > 0).sum(axis=0).A1)[::-1][3700 - 1] / cv_df.shape[0] # находим df 3700 - го токена (по убыванию вхождений)\n",
        "\n",
        "print(f\"min_df = {min_df}\")"
      ]
    },
    {
      "cell_type": "code",
      "execution_count": 44,
      "metadata": {
        "colab": {
          "base_uri": "https://localhost:8080/"
        },
        "id": "kSnMJkn9XmsT",
        "outputId": "e0d8eb21-e5d7-46b4-e1d1-4b1ae220e9a0"
      },
      "outputs": [
        {
          "name": "stdout",
          "output_type": "stream",
          "text": [
            "3687\n"
          ]
        }
      ],
      "source": [
        "cv = CountVectorizer(tokenizer=custom_stem_tokenizer, min_df=round(min_df, 5)).fit(X_train)\n",
        "print(len(cv.vocabulary_))\n",
        "# Ближайшее большее значение - 3918, видимо в этом диапазоне все слова обладают одинковым количеством вхождений."
      ]
    },
    {
      "cell_type": "code",
      "execution_count": 45,
      "metadata": {},
      "outputs": [
        {
          "data": {
            "text/plain": [
              "array([11, 11, 10, 10, 10, 10, 10, 10, 10, 10, 10, 10, 10, 10, 10, 10, 10,\n",
              "       10, 10, 10, 10, 10, 10, 10, 10, 10, 10, 10, 10, 10, 10, 10, 10, 10,\n",
              "       10, 10, 10, 10, 10, 10, 10, 10, 10, 10, 10, 10, 10, 10, 10, 10, 10,\n",
              "       10, 10, 10, 10, 10, 10, 10, 10, 10, 10, 10, 10, 10, 10, 10, 10, 10,\n",
              "       10, 10, 10, 10, 10, 10, 10, 10, 10, 10, 10, 10, 10, 10, 10, 10, 10,\n",
              "       10, 10, 10, 10, 10, 10, 10, 10, 10, 10, 10, 10, 10, 10, 10, 10, 10,\n",
              "       10, 10, 10, 10, 10, 10, 10, 10, 10, 10, 10, 10, 10, 10, 10, 10, 10,\n",
              "       10, 10, 10, 10, 10, 10, 10, 10, 10, 10, 10, 10, 10, 10, 10, 10, 10,\n",
              "       10, 10, 10, 10, 10, 10, 10, 10, 10, 10, 10, 10, 10, 10, 10, 10, 10,\n",
              "       10, 10, 10, 10, 10, 10, 10, 10, 10, 10, 10, 10, 10, 10, 10, 10, 10,\n",
              "       10, 10, 10, 10, 10, 10, 10, 10, 10, 10, 10, 10, 10, 10, 10, 10, 10,\n",
              "       10, 10, 10, 10, 10, 10, 10, 10, 10, 10, 10, 10, 10, 10, 10, 10, 10,\n",
              "       10, 10, 10, 10, 10, 10, 10, 10, 10, 10, 10, 10, 10, 10, 10, 10, 10,\n",
              "       10, 10, 10, 10, 10, 10, 10, 10, 10, 10, 10, 10,  9,  9])"
            ]
          },
          "execution_count": 45,
          "metadata": {},
          "output_type": "execute_result"
        }
      ],
      "source": [
        "np.sort((cv_df > 0).sum(axis=0).A1)[::-1][3685 : 3920] # ну да"
      ]
    },
    {
      "cell_type": "code",
      "execution_count": 46,
      "metadata": {
        "id": "mvMDwpdfjm8Y"
      },
      "outputs": [
        {
          "name": "stdout",
          "output_type": "stream",
          "text": [
            "Accuracy CountVec: train - 0.93, test - 0.87\n"
          ]
        }
      ],
      "source": [
        "X_train_cv = cv.transform(X_train)\n",
        "X_test_cv = cv.transform(X_test)\n",
        "\n",
        "lr_cv = LogisticRegression().fit(X_train_cv, y_train)\n",
        "\n",
        "print(f'Accuracy CountVec: train - {accuracy_score(y_train, lr_cv.predict(X_train_cv)):.2f}, test - {accuracy_score(y_test, lr_cv.predict(X_test_cv)):.2f}')"
      ]
    },
    {
      "cell_type": "markdown",
      "metadata": {
        "id": "3fGYpUIZx0fk"
      },
      "source": [
        "**Ответ:** Качество осталось на прежнем уровне, переобучение снизилось, тк кол-во признаков меньше, модель стала лучше."
      ]
    },
    {
      "cell_type": "markdown",
      "metadata": {
        "id": "Gx_h_-inKbBl"
      },
      "source": [
        "В предыдущих заданиях признаки не скалировались. Отскалируйте данные (при словаре размера 3.7 тысяч, векторизованные CountVectorizer), обучите логистическую регрессию, посмотрите качество и выведите `barplot`, содержащий по 10 токенов, с наибольшим по модулю положительными/отрицательными весами. Что можно сказать об этих токенах?"
      ]
    },
    {
      "cell_type": "code",
      "execution_count": 47,
      "metadata": {
        "id": "KBATXJX6LG9q"
      },
      "outputs": [
        {
          "name": "stdout",
          "output_type": "stream",
          "text": [
            "Accuracy CountVec: train - 0.94, test - 0.84\n"
          ]
        }
      ],
      "source": [
        "from sklearn.preprocessing import StandardScaler\n",
        "\n",
        "X_train_cv = X_train_cv.toarray()\n",
        "X_test_cv = X_test_cv.toarray()\n",
        "\n",
        "scaler = StandardScaler()\n",
        "X_train_cv = scaler.fit_transform(X_train_cv)\n",
        "X_test_cv = scaler.transform(X_test_cv)\n",
        "\n",
        "lr_cv = LogisticRegression().fit(X_train_cv, y_train)\n",
        "\n",
        "print(f'Accuracy CountVec: train - {accuracy_score(y_train, lr_cv.predict(X_train_cv)):.2f}, test - {accuracy_score(y_test, lr_cv.predict(X_test_cv)):.2f}')"
      ]
    },
    {
      "cell_type": "code",
      "execution_count": 48,
      "metadata": {},
      "outputs": [
        {
          "data": {
            "image/png": "[encoded data removed]",
            "text/plain": [
              "<Figure size 1500x600 with 1 Axes>"
            ]
          },
          "metadata": {},
          "output_type": "display_data"
        }
      ],
      "source": [
        "coef_df = list(zip(cv.get_feature_names_out(), lr_cv.coef_[0]))\n",
        "coef_df = sorted(coef_df, key=lambda x: x[1])\n",
        "\n",
        "top_neg = coef_df[:10]\n",
        "top_pos = coef_df[-10:]\n",
        "top_words = top_pos + top_neg\n",
        "\n",
        "words = [w for w, _ in top_words]\n",
        "weights = [w for _, w in top_words]\n",
        "\n",
        "plt.figure(figsize=(15, 6))\n",
        "sns.barplot(x=words, y=weights, palette='icefire')\n",
        "plt.title('Top 10 Positive and Negative Weights')\n",
        "plt.xticks(rotation=45)\n",
        "plt.axhline(0, color='gray', linestyle='--')\n",
        "plt.tight_layout()\n",
        "plt.show()"
      ]
    },
    {
      "cell_type": "markdown",
      "metadata": {
        "id": "ThcEfzY1LHET"
      },
      "source": [
        "**Ответ:** Слова, представленные на графике слева действительно имеет положительную окраску, по этому имеют наибольший положительный вес. Слова же, представленные спрва имеют резко негативную окраску, поэтрому их веса сильно отрицательны."
      ]
    },
    {
      "cell_type": "markdown",
      "metadata": {
        "id": "ktJVOdrIHq7B"
      },
      "source": [
        "## Задание 7 Другие признаки (1.5 балла)"
      ]
    },
    {
      "cell_type": "markdown",
      "metadata": {
        "id": "Yt3jRCZ2H0Og"
      },
      "source": [
        "Мы были сконцентрированы на работе с текстами твиттов и не использовали другие признаки - имена пользователя, дату и местоположение"
      ]
    },
    {
      "cell_type": "markdown",
      "metadata": {
        "id": "52wjewCCo_di"
      },
      "source": [
        "Изучите признаки UserName и ScreenName. полезны ли они? Если полезны, то закодируйте их, добавьте к матрице с отскалированными признаками, обучите логистическую регрессию, замерьте качество."
      ]
    },
    {
      "cell_type": "code",
      "execution_count": 49,
      "metadata": {
        "id": "63thouYZptj6"
      },
      "outputs": [
        {
          "data": {
            "image/png": "[encoded data removed]",
            "text/plain": [
              "<Figure size 640x480 with 2 Axes>"
            ]
          },
          "metadata": {},
          "output_type": "display_data"
        }
      ],
      "source": [
        "sns.heatmap(df[['ScreenName', 'SentimentCode', 'UserName']].corr(), annot=True, linewidths=0.3, cmap='RdPu')\n",
        "plt.show()"
      ]
    },
    {
      "cell_type": "markdown",
      "metadata": {
        "id": "r8_qR-gnpT3a"
      },
      "source": [
        "**Ответ:** Признаки UserName и ScreenName бесполезны, они не могут иметь никакой связи с твитами, так как уникальны для каждого твита и случайны или  составлены на основе имен, но точно не имеют зависимостей с целевой переменной. К тому же, никак не кореллируют с целевой переменной."
      ]
    },
    {
      "cell_type": "markdown",
      "metadata": {
        "id": "ythEcFSkt7y3"
      },
      "source": [
        "Изучите признак TweetAt в обучающей выборке: преобразуйте его к типу datetime и нарисуйте его гистограмму с разделением по цвету на основе целевой переменной. Полезен ли он? Если полезен, то закодируйте его, добавьте к матрице с отскалированными признаками, обучите логистическую регрессию, замерьте качество."
      ]
    },
    {
      "cell_type": "code",
      "execution_count": 50,
      "metadata": {},
      "outputs": [
        {
          "data": {
            "image/png": "[encoded data removed]",
            "text/plain": [
              "<Figure size 1400x600 with 1 Axes>"
            ]
          },
          "metadata": {},
          "output_type": "display_data"
        }
      ],
      "source": [
        "df['TweetAt'] = pd.to_datetime(df['TweetAt'], dayfirst=True)\n",
        "\n",
        "counts = train.groupby(['TweetAt', 'SentimentCode']).size().unstack(fill_value=0)\n",
        "counts['Positive'] = counts[1]\n",
        "counts['Negative'] = -counts[0]\n",
        "\n",
        "plt.figure(figsize=(14, 6))\n",
        "plt.bar(counts.index, counts['Positive'], label='Positive', color='skyblue')\n",
        "plt.bar(counts.index, counts['Negative'], label='Negative', color='salmon')\n",
        "plt.axhline(0, color='black', linewidth=0.8)\n",
        "plt.title('Sentiment difference by date')\n",
        "plt.xlabel('Date')\n",
        "plt.ylabel('Count')\n",
        "plt.legend()\n",
        "plt.xticks(rotation=45)\n",
        "plt.show()"
      ]
    },
    {
      "cell_type": "markdown",
      "metadata": {
        "id": "4IdLBdpQxM-G"
      },
      "source": [
        "**Ответ:** Не видно никаких зависимостей между датой и разницей в количестве твитов каждой окраски - положительных твитов почти всегда немного больше (выборка сбалансирована, но не идеальна). Возможно, если бы рассматриваемый период данных был больше (например, от начала и до конца пандемии), то можно было бы увидеть какую-то динамику в изменении настроения пользователей Хтвиттера"
      ]
    },
    {
      "cell_type": "markdown",
      "metadata": {
        "id": "r2JtRPhNP6qx"
      },
      "source": [
        "Поработайте с признаком Location в обучающей выборке. Сколько уникальных значений?"
      ]
    },
    {
      "cell_type": "code",
      "execution_count": 51,
      "metadata": {
        "id": "xYQZQ1FRNpoe"
      },
      "outputs": [
        {
          "data": {
            "text/plain": [
              "7949"
            ]
          },
          "execution_count": 51,
          "metadata": {},
          "output_type": "execute_result"
        }
      ],
      "source": [
        "train['Location'].nunique()"
      ]
    },
    {
      "cell_type": "markdown",
      "metadata": {
        "id": "6k4JwpRTQISa"
      },
      "source": [
        "Постройте гистограмму топ-10 по популярности местоположений (исключая Unknown)"
      ]
    },
    {
      "cell_type": "code",
      "execution_count": 52,
      "metadata": {
        "id": "J91YkhegJ0mz"
      },
      "outputs": [
        {
          "data": {
            "image/png": "[encoded data removed]",
            "text/plain": [
              "<Figure size 1000x600 with 1 Axes>"
            ]
          },
          "metadata": {},
          "output_type": "display_data"
        }
      ],
      "source": [
        "plt.figure(figsize=(10, 6))\n",
        "top10 = train[train['Location'] != 'Unknown']['Location'].value_counts().head(10)\n",
        "sns.barplot(y=top10.index, x=top10.values, palette='YlGnBu')\n",
        "plt.title('10 Most popular locations')\n",
        "plt.xlabel('Count')\n",
        "plt.ylabel('Location')\n",
        "plt.show()"
      ]
    },
    {
      "cell_type": "markdown",
      "metadata": {
        "id": "ZOsv3lODTfYB"
      },
      "source": [
        "Видно, что многие местоположения включают в себя более точное название места, чем другие (Например, у некоторых стоит London, UK; а у некоторых просто UK или United Kingdom).\n",
        "\n",
        "Создайте новый признак WiderLocation, который содержит самое широкое местоположение (например, из London, UK должно получиться UK). Сколько уникальных категорий теперь? Постройте аналогичную гистограмму."
      ]
    },
    {
      "cell_type": "code",
      "execution_count": 53,
      "metadata": {},
      "outputs": [
        {
          "data": {
            "text/plain": [
              "WiderLocation\n",
              "USA                             10042\n",
              "Unknown                          7052\n",
              "UK                               3228\n",
              "India                             920\n",
              "DC                                336\n",
              "                                ...  \n",
              "GB                                  1\n",
              "STOKE ON TRENT!                     1\n",
              "under the goldy fish                1\n",
              "tyuretye - alice springs.           1\n",
              "i love you so much || he/him        1\n",
              "Name: count, Length: 3953, dtype: int64"
            ]
          },
          "execution_count": 53,
          "metadata": {},
          "output_type": "execute_result"
        }
      ],
      "source": [
        "\"\"\"Считаю, что здесь можно применить для всего фрейма, поскольку алгоритм статичен и работает одинаково для 'новых' и для 'старых' данных\"\"\"     \n",
        "    \n",
        "def mapping(location : str) -> str:\n",
        "    if location == \"Unknown\":\n",
        "        return location\n",
        "    \n",
        "    keyword_map = { # что-то очевидное и то, что часто встречается можно прописать вручную\n",
        "        'usa': 'USA', 'united states': 'USA', 'us': 'USA', 'u.s.': 'USA', 'texas': 'USA', 'new york': 'USA',\n",
        "        'ny': 'USA', 'ca': 'USA', 'il': 'USA', 'co': 'USA', 'virginia': 'USA', 'fort worth': 'USA',\n",
        "        'uk': 'UK', 'england': 'UK', 'london': 'UK', 'united kingdom' : 'UK',\n",
        "        'canada': 'Canada', 'bc': 'Canada',\n",
        "        'india': 'India',\n",
        "        'south africa': 'South Africa', 'midrand': 'South Africa',\n",
        "        'north america': 'North America'\n",
        "            }  \n",
        "\n",
        "    location = location.strip().lower()\n",
        "\n",
        "    for key in keyword_map:\n",
        "        if key in location:\n",
        "            return keyword_map[key]\n",
        "\n",
        "    if ',' in location:\n",
        "        parts = [p.strip().upper() for p in location.split(',')]\n",
        "        if parts[-1] in keyword_map.values(): \n",
        "            return parts[-1]\n",
        "        if len(parts) >= 2 and parts[-2] in keyword_map.values():\n",
        "            return parts[-2]\n",
        "        return parts[-1] \n",
        "    else:\n",
        "        return location\n",
        "     \n",
        "df['WiderLocation'] = df['Location'].astype(str).apply(lambda x: mapping(str(x)))\n",
        "df['WiderLocation'].value_counts()"
      ]
    },
    {
      "cell_type": "code",
      "execution_count": 54,
      "metadata": {},
      "outputs": [
        {
          "data": {
            "text/plain": [
              "0"
            ]
          },
          "execution_count": 54,
          "metadata": {},
          "output_type": "execute_result"
        }
      ],
      "source": [
        "df[(df['Location'] == 'Unknown') & (df['Location'] != df['WiderLocation'])][['Location', 'WiderLocation']].sum().sum()\n",
        "# Вроде ничего лишнего не поменяли"
      ]
    },
    {
      "cell_type": "code",
      "execution_count": 55,
      "metadata": {},
      "outputs": [
        {
          "data": {
            "image/png": "[encoded data removed]",
            "text/plain": [
              "<Figure size 1500x600 with 1 Axes>"
            ]
          },
          "metadata": {},
          "output_type": "display_data"
        },
        {
          "name": "stdout",
          "output_type": "stream",
          "text": [
            "Теперь в train 3028 уникальных локаций\n"
          ]
        }
      ],
      "source": [
        "train, test = train_test_split(df, test_size=0.3, random_state=0) # снова разделим\n",
        "top10 = train[train['WiderLocation'] != 'Unknown']['WiderLocation'].value_counts().head(10)\n",
        "\n",
        "plt.figure(figsize=(15, 6))\n",
        "sns.barplot(y=top10.index, x=top10.values, palette='YlOrRd')\n",
        "plt.title('10 most popular locations after mapping')\n",
        "plt.xlabel('Count')\n",
        "plt.ylabel('Location')\n",
        "plt.show()\n",
        "print(f'Теперь в train {train['WiderLocation'].nunique()} уникальных локаций')"
      ]
    },
    {
      "cell_type": "markdown",
      "metadata": {
        "id": "cgyWrD2eVfff"
      },
      "source": [
        "Закодируйте признак WiderLocation с помощью OHE таким образом, чтобы создались только столбцы для местоположений, которые встречаются более одного раза. Сколько таких значений?\n"
      ]
    },
    {
      "cell_type": "code",
      "execution_count": 56,
      "metadata": {
        "id": "SeJBfBWgPvg_"
      },
      "outputs": [
        {
          "name": "stdout",
          "output_type": "stream",
          "text": [
            "Таких значений: 994 для всех данных\n",
            "Таких значений: 760 для train сета\n"
          ]
        },
        {
          "data": {
            "text/plain": [
              "WiderLocation\n",
              "USA                      7044\n",
              "Unknown                  4944\n",
              "UK                       2227\n",
              "India                     636\n",
              "DC                        234\n",
              "                         ... \n",
              "guernsey                    2\n",
              "phobos resist               2\n",
              "MADHYA PRADESH 462001       2\n",
              "fort mcmurray               2\n",
              "suva                        2\n",
              "Name: count, Length: 760, dtype: int64"
            ]
          },
          "execution_count": 56,
          "metadata": {},
          "output_type": "execute_result"
        }
      ],
      "source": [
        "vcnt = df['WiderLocation'].value_counts()\n",
        "vcnt = vcnt[vcnt > 1]\n",
        "print(f'Таких значений: {len(vcnt)} для всех данных')\n",
        "\n",
        "vcnt_train = train['WiderLocation'].value_counts()\n",
        "vcnt_train = vcnt_train[vcnt_train > 1]\n",
        "print(f'Таких значений: {len(vcnt_train)} для train сета')\n",
        "vcnt_train"
      ]
    },
    {
      "cell_type": "code",
      "execution_count": 57,
      "metadata": {},
      "outputs": [
        {
          "data": {
            "text/plain": [
              "Index(['USA', 'Unknown', 'UK', 'India', 'DC', 'ONTARIO', 'FL', 'TX', 'MA',\n",
              "       'NIGERIA',\n",
              "       ...\n",
              "       'MOSTLY', 'HUGGING TREES', 'FIFE & ELSEWHERE', 'east rand', 'FLA',\n",
              "       'downstage centre', 'BOSTON', 'OTTAWA', 'eastbourne',\n",
              "       'brighton lass ??'],\n",
              "      dtype='object', name='WiderLocation', length=994)"
            ]
          },
          "execution_count": 57,
          "metadata": {},
          "output_type": "execute_result"
        }
      ],
      "source": [
        "vcnt.index"
      ]
    },
    {
      "cell_type": "code",
      "execution_count": 58,
      "metadata": {},
      "outputs": [],
      "source": [
        "from sklearn.preprocessing import OneHotEncoder\n",
        "\n",
        "ohe = OneHotEncoder(handle_unknown='ignore', categories=[list(vcnt.index)]).fit(train[['WiderLocation']])\n",
        "train_locs = ohe.transform(train[['WiderLocation']])\n",
        "test_locs = ohe.transform(test[['WiderLocation']])"
      ]
    },
    {
      "cell_type": "markdown",
      "metadata": {
        "id": "ZyMX5kZuimPK"
      },
      "source": [
        "Добавьте этот признак к матрице отскалированных текстовых признаков, обучите логистическую регрессию, замерьте качество. Как оно изменилось? Оказался ли признак полезным?\n",
        "\n",
        "\n",
        "*Подсказка:* используйте параметр `categories` в энкодере."
      ]
    },
    {
      "cell_type": "code",
      "execution_count": 59,
      "metadata": {
        "id": "EO1jNPeeim7A"
      },
      "outputs": [],
      "source": [
        "# векторизируем тексты\n",
        "cv = CountVectorizer(tokenizer=custom_stem_tokenizer).fit(train['OriginalTweet']) \n",
        "tweets_train_cv = cv.transform(train['OriginalTweet'])\n",
        "tweets_test_cv = cv.transform(test['OriginalTweet'])\n",
        "\n",
        "tfidfv = TfidfVectorizer(tokenizer=custom_stem_tokenizer).fit(train['OriginalTweet'])\n",
        "tweets_train_tf = tfidfv.transform(train['OriginalTweet'])\n",
        "tweets_test_tf = tfidfv.transform(test['OriginalTweet'])"
      ]
    },
    {
      "cell_type": "code",
      "execution_count": 60,
      "metadata": {},
      "outputs": [],
      "source": [
        "from sklearn.preprocessing import MaxAbsScaler\n",
        "\n",
        "scaler = MaxAbsScaler() # отскалируем, standardscaler не подойдет, выйдет ошибка, что матрица должна остаться разреженной, можно с with_mean=False, но не очень получается\n",
        "tweets_train_cv = scaler.fit_transform(tweets_train_cv)\n",
        "tweets_test_cv = scaler.transform(tweets_test_cv)\n",
        "\n",
        "tweets_train_tf = scaler.fit_transform(tweets_train_tf)\n",
        "tweets_test_tf = scaler.transform(tweets_test_tf)"
      ]
    },
    {
      "cell_type": "code",
      "execution_count": 61,
      "metadata": {},
      "outputs": [],
      "source": [
        "from scipy.sparse import hstack # соединим признаки\n",
        "X_train_cv, y_train = hstack((tweets_train_cv, train_locs)), train['SentimentCode']\n",
        "X_test_cv, y_test = hstack((tweets_test_cv, test_locs)), test['SentimentCode']\n",
        "X_train_tf = hstack((tweets_train_tf, train_locs))\n",
        "X_test_tf = hstack((tweets_test_cv, test_locs))"
      ]
    },
    {
      "cell_type": "code",
      "execution_count": 62,
      "metadata": {},
      "outputs": [
        {
          "name": "stdout",
          "output_type": "stream",
          "text": [
            "Accuracy CountVec: train - 0.97, test - 0.86\n",
            "Accuracy TfidfVec: train - 0.97, test - 0.85\n"
          ]
        }
      ],
      "source": [
        "lr_cv = LogisticRegression().fit(X_train_cv, y_train)\n",
        "lr_tfidfv = LogisticRegression().fit(X_train_tf, y_train)\n",
        "\n",
        "print(f'Accuracy CountVec: train - {accuracy_score(y_train, lr_cv.predict(X_train_cv)):.2f}, test - {accuracy_score(y_test, lr_cv.predict(X_test_cv)):.2f}')\n",
        "print(f'Accuracy TfidfVec: train - {accuracy_score(y_train, lr_tfidfv.predict(X_train_tf)):.2f}, test - {accuracy_score(y_test, lr_tfidfv.predict(X_test_tf)):.2f}')"
      ]
    },
    {
      "cell_type": "markdown",
      "metadata": {
        "id": "7dHsGlDRYUQt"
      },
      "source": [
        "**Ответ:** Не сказал бы, что качество улучшилось, осталось на том же уровне (с точки зрения теста), но переобученность одной моделей выросла, судя по всему, из-за увеличения признакового пространства. Грустно."
      ]
    }
  ],
  "metadata": {
    "colab": {
      "provenance": []
    },
    "kernelspec": {
      "display_name": ".venv",
      "language": "python",
      "name": "python3"
    },
    "language_info": {
      "codemirror_mode": {
        "name": "ipython",
        "version": 3
      },
      "file_extension": ".py",
      "mimetype": "text/x-python",
      "name": "python",
      "nbconvert_exporter": "python",
      "pygments_lexer": "ipython3",
      "version": "3.13.2"
    }
  },
  "nbformat": 4,
  "nbformat_minor": 0
}
