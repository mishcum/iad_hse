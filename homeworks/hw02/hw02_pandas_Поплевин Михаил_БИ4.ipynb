{
 "cells": [
  {
   "cell_type": "markdown",
   "metadata": {
    "_uuid": "21c25e4f8bb31570029fd6b069131a5d00f84cf1"
   },
   "source": [
    "# Домашнее задание 2 (5 баллов).\n",
    "\n",
    "*Все задания ниже имеют равный вес (5/10)*"
   ]
  },
  {
   "cell_type": "markdown",
   "metadata": {},
   "source": [
    "Код для импорта мы написали за вас (не благодарите, нам не трудно). Дальше код будете писать вы. \n",
    "\n",
    "[Тут](https://habr.com/ru/companies/ruvds/articles/494720/) шпора по pandas. За основу домашнего задания взят ноутбук [отсюда](https://rutube.ru/video/f884aa6ed5f94120b7304506042fe5bb/) (не подглядывайте!)."
   ]
  },
  {
   "cell_type": "code",
   "execution_count": 1,
   "metadata": {
    "_uuid": "568eb2d31004b87d22e119112ae01a1e75105f1d"
   },
   "outputs": [],
   "source": [
    "import pandas as pd\n",
    "import numpy as np"
   ]
  },
  {
   "cell_type": "markdown",
   "metadata": {},
   "source": [
    "#### Описание данных\n",
    "\n",
    "Автор д/з - плохой человек, который не стал переводить описание с мотивировкой, что весь DS на английском. Так что описание полей будет на английском:\n",
    "\n",
    "1. Account ID\n",
    "- Description: A unique identifier for each social media account in the dataset.\n",
    "- Type: Integer\n",
    "- Example: 1, 2, 3, …\n",
    "2. Username\n",
    "- Description: The username or handle of the social media account.\n",
    "- Type: String\n",
    "- Example: john_doe, tech_guru_22, fitness_freak\n",
    "3. Platform\n",
    "- Description: The social media platform the account is using (Instagram, Twitter, Facebook, TikTok, LinkedIn).\n",
    "- Type: Categorical (String)\n",
    "- Example: Instagram, Twitter, Facebook, TikTok, LinkedIn\n",
    "4. Follower Count\n",
    "- Description: The total number of followers the account has.\n",
    "- Type: Integer\n",
    "- Example: 1500, 245000, 78000\n",
    "5. Posts Per Week\n",
    "- Description: The average number of posts the account creates per week.\n",
    "- Type: Integer\n",
    "- Example: 3, 5, 7\n",
    "6. Engagement Rate\n",
    "- Description: The percentage of interactions (likes, comments, shares) relative to the follower count. This is a measure of how engaging the content is.\n",
    "- Type: Float\n",
    "- Range: 0.01 to 0.15\n",
    "- Example: 0.045 (4.5% engagement rate)\n",
    "7. Ad Spend (USD)\n",
    "- Description: The monthly amount spent on advertising or promoting posts.\n",
    "- Type: Float\n",
    "- Example: 150.75, 850.00, 300.50\n",
    "8. Conversion Rate\n",
    "- Description: The percentage of users who take a desired action (e.g., clicking a link, signing up, etc.) after interacting with an ad.\n",
    "- Type: Float\n",
    "- Range: 0.01 to 0.05 (1% to 5% conversion rate)\n",
    "- Example: 0.025 (2.5% conversion rate)\n",
    "9. Campaign Reach\n",
    "- Description: The total number of unique users reached by the user’s campaigns in a given month.\n",
    "- Type: Integer\n",
    "- Example: 5000, 20000, 15000"
   ]
  },
  {
   "cell_type": "markdown",
   "metadata": {},
   "source": [
    "#### Задание 0\n",
    "\n",
    "Подгрузите данные. Да-да, за чтение таблицы баллов не будет))\n",
    "\n",
    "**Hint**: [pd.read_csv](https://pandas.pydata.org/pandas-docs/stable/reference/api/pandas.read_csv.html)"
   ]
  },
  {
   "cell_type": "code",
   "execution_count": 2,
   "metadata": {
    "scrolled": true
   },
   "outputs": [
    {
     "data": {
      "text/html": [
       "<div>\n",
       "<style scoped>\n",
       "    .dataframe tbody tr th:only-of-type {\n",
       "        vertical-align: middle;\n",
       "    }\n",
       "\n",
       "    .dataframe tbody tr th {\n",
       "        vertical-align: top;\n",
       "    }\n",
       "\n",
       "    .dataframe thead th {\n",
       "        text-align: right;\n",
       "    }\n",
       "</style>\n",
       "<table border=\"1\" class=\"dataframe\">\n",
       "  <thead>\n",
       "    <tr style=\"text-align: right;\">\n",
       "      <th></th>\n",
       "      <th>Account ID</th>\n",
       "      <th>Username</th>\n",
       "      <th>Platform</th>\n",
       "      <th>Follower Count</th>\n",
       "      <th>Posts Per Week</th>\n",
       "      <th>Engagement Rate</th>\n",
       "      <th>Ad Spend (USD)</th>\n",
       "      <th>Conversion Rate</th>\n",
       "      <th>Campaign Reach</th>\n",
       "    </tr>\n",
       "  </thead>\n",
       "  <tbody>\n",
       "    <tr>\n",
       "      <th>0</th>\n",
       "      <td>1</td>\n",
       "      <td>harrislisa</td>\n",
       "      <td>TikTok</td>\n",
       "      <td>54217</td>\n",
       "      <td>3</td>\n",
       "      <td>0.0986</td>\n",
       "      <td>538.10</td>\n",
       "      <td>0.0490</td>\n",
       "      <td>1308</td>\n",
       "    </tr>\n",
       "    <tr>\n",
       "      <th>1</th>\n",
       "      <td>2</td>\n",
       "      <td>rhicks</td>\n",
       "      <td>LinkedIn</td>\n",
       "      <td>987518</td>\n",
       "      <td>5</td>\n",
       "      <td>0.0834</td>\n",
       "      <td>479.24</td>\n",
       "      <td>0.0174</td>\n",
       "      <td>13302</td>\n",
       "    </tr>\n",
       "    <tr>\n",
       "      <th>2</th>\n",
       "      <td>3</td>\n",
       "      <td>qthomas</td>\n",
       "      <td>Facebook</td>\n",
       "      <td>218870</td>\n",
       "      <td>3</td>\n",
       "      <td>0.1020</td>\n",
       "      <td>150.36</td>\n",
       "      <td>0.0318</td>\n",
       "      <td>11043</td>\n",
       "    </tr>\n",
       "    <tr>\n",
       "      <th>3</th>\n",
       "      <td>4</td>\n",
       "      <td>carlosholt</td>\n",
       "      <td>Instagram</td>\n",
       "      <td>207432</td>\n",
       "      <td>6</td>\n",
       "      <td>0.0834</td>\n",
       "      <td>932.62</td>\n",
       "      <td>0.0400</td>\n",
       "      <td>12074</td>\n",
       "    </tr>\n",
       "    <tr>\n",
       "      <th>4</th>\n",
       "      <td>5</td>\n",
       "      <td>parsonsashley</td>\n",
       "      <td>Facebook</td>\n",
       "      <td>350204</td>\n",
       "      <td>2</td>\n",
       "      <td>0.0642</td>\n",
       "      <td>504.44</td>\n",
       "      <td>0.0463</td>\n",
       "      <td>14083</td>\n",
       "    </tr>\n",
       "  </tbody>\n",
       "</table>\n",
       "</div>"
      ],
      "text/plain": [
       "   Account ID       Username   Platform  Follower Count  Posts Per Week  \\\n",
       "0           1     harrislisa     TikTok           54217               3   \n",
       "1           2         rhicks   LinkedIn          987518               5   \n",
       "2           3        qthomas   Facebook          218870               3   \n",
       "3           4     carlosholt  Instagram          207432               6   \n",
       "4           5  parsonsashley   Facebook          350204               2   \n",
       "\n",
       "   Engagement Rate  Ad Spend (USD)  Conversion Rate  Campaign Reach  \n",
       "0           0.0986          538.10           0.0490            1308  \n",
       "1           0.0834          479.24           0.0174           13302  \n",
       "2           0.1020          150.36           0.0318           11043  \n",
       "3           0.0834          932.62           0.0400           12074  \n",
       "4           0.0642          504.44           0.0463           14083  "
      ]
     },
     "execution_count": 2,
     "metadata": {},
     "output_type": "execute_result"
    }
   ],
   "source": [
    "df = pd.read_csv('data.csv', dtype={'Platform' : 'category'}) # ^⨀ᴥ⨀^\n",
    "df.head()"
   ]
  },
  {
   "cell_type": "code",
   "execution_count": 30,
   "metadata": {},
   "outputs": [],
   "source": [
    "df = pd.read_csv(\"data.csv\")"
   ]
  },
  {
   "cell_type": "markdown",
   "metadata": {},
   "source": [
    "#### Задание 1\n",
    "\n",
    "Колонка `Platform` содержит название различных платформ. Давайте представим, что в них есть некоторое отношение порядка. Закодируйте каждую платформу целым числом (от 0 до N) и положите этот \"код\" в новую колонку `Platform_Code`. Теперь вычислите корреляцию Спирмена между всеми парами колонок в датасете (результатом будет таблица корреляций). В качестве ответа выведите значение корреляции `Platform_Code` с `Engagement Rate`. Можете после вывода числа еще коротко написать, что оно означает (нет, это не оценивается).\n",
    "\n",
    "**Hint**: [pd.factorize](https://pandas.pydata.org/pandas-docs/stable/reference/api/pandas.factorize.html), [pd.DataFrame.select_dtypes](https://pandas.pydata.org/pandas-docs/stable/reference/api/pandas.DataFrame.select_dtypes.html), [pd.DataFrame.corr](https://pandas.pydata.org/pandas-docs/stable/reference/api/pandas.DataFrame.corr.html)."
   ]
  },
  {
   "cell_type": "code",
   "execution_count": 3,
   "metadata": {},
   "outputs": [
    {
     "data": {
      "text/plain": [
       "0.03138169529349812"
      ]
     },
     "execution_count": 3,
     "metadata": {},
     "output_type": "execute_result"
    }
   ],
   "source": [
    "df['Platform_Code'], unique_values = pd.factorize(df['Platform'])\n",
    "float(df.corr(method='spearman', numeric_only=True)['Platform_Code']['Engagement Rate'])"
   ]
  },
  {
   "cell_type": "markdown",
   "metadata": {
    "jp-MarkdownHeadingCollapsed": true
   },
   "source": [
    "Вывод: значение корреляции между платформой и уровнем вовлеченности близко к нулю, что означает отсутсвие значимой зависимости между признаками."
   ]
  },
  {
   "cell_type": "markdown",
   "metadata": {},
   "source": [
    "#### Задание 2\n",
    "\n",
    "Теперь посмотрите на столбец `Follower Count`. В нем какие-то числа. Иногда бывает полезно провести дискретизацию такого признака. Разбейте все значения в столбце на 4 группы: \"Low\", \"Medium\", \"High\", \"Very High\". Каждая группа включает в себя новые 25% данных. То есть, Low включает в себя 25% самых маленьких значений признака и так далее. Положите значения \"Low\", \"Medium\", \"High\" или \"Very High\" для каждого сэмпла датасета в новую колонку `Follower_Bin`. Теперь посчитайте среднее значение `Engagement Rate` для каждой категории из `Follower_Bin`. В качестве ответа выведите значение для категории \"High\".\n",
    "\n",
    "**Hint**: [pd.qcut](https://pandas.pydata.org/pandas-docs/stable/reference/api/pandas.qcut.html), [pd.groupby](https://pandas.pydata.org/pandas-docs/stable/reference/api/pandas.DataFrame.groupby.html), [pd.DataFrame.mean](https://pandas.pydata.org/pandas-docs/stable/reference/api/pandas.DataFrame.mean.html)"
   ]
  },
  {
   "cell_type": "code",
   "execution_count": 4,
   "metadata": {},
   "outputs": [
    {
     "name": "stdout",
     "output_type": "stream",
     "text": [
      "0.08655032\n"
     ]
    }
   ],
   "source": [
    "df['Follower_Bin'] = pd.qcut(df['Follower Count'], [0., .25, .5, .75, 1.], labels=[\"Low\", \"Medium\", \"High\", \"Very High\"])\n",
    "print(df.groupby('Follower_Bin', observed=False)['Engagement Rate'].mean()['High'])"
   ]
  },
  {
   "cell_type": "markdown",
   "metadata": {},
   "source": [
    "#### Задание 3\n",
    "\n",
    "Иногда бывает полезно превратить широкую таблицу в длинную (например, для визуализаций сразу нескольких признаков на одной картинке). Да, звучит странно, но именно этим вы сейчас и займетесь. Сделайте новый датафрейм `melted_df`, в который вы поместите каждый сэмпл датасета 6 раз: по одному разу на значение из 'Follower Count', 'Posts Per Week', 'Ad Spend (USD)', 'Conversion Rate', 'Engagement Rate' и 'Campaign Reach'. То есть, вы берете сэмпл из датасета (строку) и превращаете ее в 6 отдельных строк. Каждая отдельная строка в столбце `Metric` имеет имя из предложенного списка 5 признаков, а в столбце `Value` - значение данного сэмпла по этому признаку. Значение `Platform` повторяется в этих 6 строках.\n",
    "\n",
    "Иначе говоря, \n",
    "\n",
    "```json\n",
    "{\n",
    "    \"Account ID\": 1,\n",
    "    \"Username\": \"harrislisa\",\n",
    "    \"Platform\": \"TikTok\",\n",
    "    \"Follower Count\": 54217,\n",
    "    \"Posts Per Week\": 3,\n",
    "    \"Engagement Rate\": 0.0986,\n",
    "    \"Ad Spend (USD)\": 538.1,\n",
    "    \"Conversion Rate\": 0.049,\n",
    "    \"Campaign Reach\": 1308,\n",
    "    \"Platform_Code\": 0,\n",
    "    \"Follower_Bin\": \"Low\"\n",
    "}\n",
    "```\n",
    "\n",
    "превращается в \n",
    "\n",
    "```json\n",
    "{\n",
    "    \"Platform\": \"TikTok\",\n",
    "    \"Metric\": \"Follower Count\",\n",
    "    \"Value\": 54217,\n",
    "},\n",
    "{\n",
    "    \"Platform\": \"TikTok\",\n",
    "    \"Metric\": \"Posts Per Week\",\n",
    "    \"Value\": 3,\n",
    "}, ...\n",
    "```\n",
    "\n",
    "Для каждого уникальной пары значений (`Platform`, `Metric`) посчитайте моду среди всех значений `Value` для этой пары, результат сделайте списком и оставьте только наибольшее. В качестве ответа выведите сумму полученных мод (сумму всех значений в столбце `Value` уже после вычисления мод). Иначе говоря, выведите сумму всех мод значений для всех уникальных пар (`Platform`, `Metric`).\n",
    "\n",
    "**Hint**: [pd.melt](https://pandas.pydata.org/pandas-docs/stable/reference/api/pandas.melt.html), [pd.DataFrame.mode](https://pandas.pydata.org/pandas-docs/stable/reference/api/pandas.DataFrame.mode.html), [pd.DataFrameGroupBy.agg](https://pandas.pydata.org/docs/dev/reference/api/pandas.core.groupby.DataFrameGroupBy.agg.html)"
   ]
  },
  {
   "cell_type": "code",
   "execution_count": 24,
   "metadata": {},
   "outputs": [
    {
     "name": "stdout",
     "output_type": "stream",
     "text": [
      "3100285.4716\n"
     ]
    }
   ],
   "source": [
    "melted_df = pd.melt(df, id_vars=['Account ID', 'Platform'], value_vars=['Follower Count', 'Posts Per Week', 'Ad Spend (USD)', 'Conversion Rate', 'Engagement Rate', 'Campaign Reach'], var_name='Metric', value_name='Value').sort_values('Account ID').reset_index(drop=True)\n",
    "print(melted_df.groupby(by=['Platform', 'Metric'], observed=False)['Value'].agg(lambda x: x.mode().max()).sum())"
   ]
  },
  {
   "cell_type": "markdown",
   "metadata": {},
   "source": [
    "#### Задание 4\n",
    "\n",
    "А теперь хочется посмотреть на самые популярные аккаунты на разных платформах. Для каждой платформы отсортируйте датафрейм по убыванию количества подписчиков (`Follower Count`) - да, без циклов, сразу для всех платформ сделать сортировку, а затем оставьте только первые три записи для каждой платформы - это и будут три самых популярных аккаунта для каждой платформы. В качестве ответа выведите саму таблицу и минимальное значение `Follower Count` в ней.\n",
    "\n",
    "**Hint**: к *groupby* можно применять функции - это эквивалентно применению функции к каждой \"группе\" внутри groupby-объекта. Читайте [про применение apply к датафрейму после groupby](https://pandas.pydata.org/pandas-docs/stable/user_guide/groupby.html#flexible-apply)."
   ]
  },
  {
   "cell_type": "code",
   "execution_count": 6,
   "metadata": {},
   "outputs": [
    {
     "name": "stdout",
     "output_type": "stream",
     "text": [
      "997512\n"
     ]
    },
    {
     "data": {
      "text/html": [
       "<div>\n",
       "<style scoped>\n",
       "    .dataframe tbody tr th:only-of-type {\n",
       "        vertical-align: middle;\n",
       "    }\n",
       "\n",
       "    .dataframe tbody tr th {\n",
       "        vertical-align: top;\n",
       "    }\n",
       "\n",
       "    .dataframe thead th {\n",
       "        text-align: right;\n",
       "    }\n",
       "</style>\n",
       "<table border=\"1\" class=\"dataframe\">\n",
       "  <thead>\n",
       "    <tr style=\"text-align: right;\">\n",
       "      <th></th>\n",
       "      <th>Account ID</th>\n",
       "      <th>Username</th>\n",
       "      <th>Platform</th>\n",
       "      <th>Follower Count</th>\n",
       "      <th>Posts Per Week</th>\n",
       "      <th>Engagement Rate</th>\n",
       "      <th>Ad Spend (USD)</th>\n",
       "      <th>Conversion Rate</th>\n",
       "      <th>Campaign Reach</th>\n",
       "      <th>Platform_Code</th>\n",
       "      <th>Follower_Bin</th>\n",
       "    </tr>\n",
       "  </thead>\n",
       "  <tbody>\n",
       "    <tr>\n",
       "      <th>0</th>\n",
       "      <td>2404</td>\n",
       "      <td>eric65</td>\n",
       "      <td>Facebook</td>\n",
       "      <td>999982</td>\n",
       "      <td>6</td>\n",
       "      <td>0.0642</td>\n",
       "      <td>884.06</td>\n",
       "      <td>0.0281</td>\n",
       "      <td>17312</td>\n",
       "      <td>2</td>\n",
       "      <td>Very High</td>\n",
       "    </tr>\n",
       "    <tr>\n",
       "      <th>1</th>\n",
       "      <td>4921</td>\n",
       "      <td>teresaellis</td>\n",
       "      <td>Twitter</td>\n",
       "      <td>999919</td>\n",
       "      <td>6</td>\n",
       "      <td>0.0834</td>\n",
       "      <td>411.63</td>\n",
       "      <td>0.0460</td>\n",
       "      <td>3975</td>\n",
       "      <td>4</td>\n",
       "      <td>Very High</td>\n",
       "    </tr>\n",
       "    <tr>\n",
       "      <th>2</th>\n",
       "      <td>5839</td>\n",
       "      <td>edwardthomas</td>\n",
       "      <td>TikTok</td>\n",
       "      <td>999739</td>\n",
       "      <td>7</td>\n",
       "      <td>0.0642</td>\n",
       "      <td>630.77</td>\n",
       "      <td>0.0325</td>\n",
       "      <td>35523</td>\n",
       "      <td>0</td>\n",
       "      <td>Very High</td>\n",
       "    </tr>\n",
       "    <tr>\n",
       "      <th>3</th>\n",
       "      <td>8686</td>\n",
       "      <td>alexandersamuel</td>\n",
       "      <td>Instagram</td>\n",
       "      <td>999726</td>\n",
       "      <td>3</td>\n",
       "      <td>0.0834</td>\n",
       "      <td>687.61</td>\n",
       "      <td>0.0205</td>\n",
       "      <td>11050</td>\n",
       "      <td>3</td>\n",
       "      <td>Very High</td>\n",
       "    </tr>\n",
       "    <tr>\n",
       "      <th>4</th>\n",
       "      <td>9685</td>\n",
       "      <td>sriley</td>\n",
       "      <td>Twitter</td>\n",
       "      <td>999442</td>\n",
       "      <td>3</td>\n",
       "      <td>0.0834</td>\n",
       "      <td>206.84</td>\n",
       "      <td>0.0225</td>\n",
       "      <td>12783</td>\n",
       "      <td>4</td>\n",
       "      <td>Very High</td>\n",
       "    </tr>\n",
       "    <tr>\n",
       "      <th>5</th>\n",
       "      <td>3966</td>\n",
       "      <td>lrodgers</td>\n",
       "      <td>Instagram</td>\n",
       "      <td>999351</td>\n",
       "      <td>1</td>\n",
       "      <td>0.0834</td>\n",
       "      <td>565.07</td>\n",
       "      <td>0.0335</td>\n",
       "      <td>12391</td>\n",
       "      <td>3</td>\n",
       "      <td>Very High</td>\n",
       "    </tr>\n",
       "    <tr>\n",
       "      <th>6</th>\n",
       "      <td>4235</td>\n",
       "      <td>andradewesley</td>\n",
       "      <td>TikTok</td>\n",
       "      <td>999234</td>\n",
       "      <td>5</td>\n",
       "      <td>0.0834</td>\n",
       "      <td>872.77</td>\n",
       "      <td>0.0481</td>\n",
       "      <td>17188</td>\n",
       "      <td>0</td>\n",
       "      <td>Very High</td>\n",
       "    </tr>\n",
       "    <tr>\n",
       "      <th>7</th>\n",
       "      <td>3040</td>\n",
       "      <td>toneill</td>\n",
       "      <td>LinkedIn</td>\n",
       "      <td>999055</td>\n",
       "      <td>4</td>\n",
       "      <td>0.0642</td>\n",
       "      <td>799.49</td>\n",
       "      <td>0.0174</td>\n",
       "      <td>21862</td>\n",
       "      <td>1</td>\n",
       "      <td>Very High</td>\n",
       "    </tr>\n",
       "    <tr>\n",
       "      <th>8</th>\n",
       "      <td>6360</td>\n",
       "      <td>andrewgregory</td>\n",
       "      <td>LinkedIn</td>\n",
       "      <td>998968</td>\n",
       "      <td>7</td>\n",
       "      <td>0.1020</td>\n",
       "      <td>797.64</td>\n",
       "      <td>0.0351</td>\n",
       "      <td>15552</td>\n",
       "      <td>1</td>\n",
       "      <td>Very High</td>\n",
       "    </tr>\n",
       "    <tr>\n",
       "      <th>9</th>\n",
       "      <td>2160</td>\n",
       "      <td>ashleycooper</td>\n",
       "      <td>LinkedIn</td>\n",
       "      <td>998925</td>\n",
       "      <td>6</td>\n",
       "      <td>0.0856</td>\n",
       "      <td>474.46</td>\n",
       "      <td>0.0156</td>\n",
       "      <td>45956</td>\n",
       "      <td>1</td>\n",
       "      <td>Very High</td>\n",
       "    </tr>\n",
       "    <tr>\n",
       "      <th>10</th>\n",
       "      <td>2576</td>\n",
       "      <td>williamwyatt</td>\n",
       "      <td>TikTok</td>\n",
       "      <td>998623</td>\n",
       "      <td>6</td>\n",
       "      <td>0.0856</td>\n",
       "      <td>477.98</td>\n",
       "      <td>0.0250</td>\n",
       "      <td>43299</td>\n",
       "      <td>0</td>\n",
       "      <td>Very High</td>\n",
       "    </tr>\n",
       "    <tr>\n",
       "      <th>11</th>\n",
       "      <td>7577</td>\n",
       "      <td>peggymunoz</td>\n",
       "      <td>Twitter</td>\n",
       "      <td>998216</td>\n",
       "      <td>6</td>\n",
       "      <td>0.0642</td>\n",
       "      <td>456.61</td>\n",
       "      <td>0.0456</td>\n",
       "      <td>22037</td>\n",
       "      <td>4</td>\n",
       "      <td>Very High</td>\n",
       "    </tr>\n",
       "    <tr>\n",
       "      <th>12</th>\n",
       "      <td>7351</td>\n",
       "      <td>patricknoble</td>\n",
       "      <td>Facebook</td>\n",
       "      <td>997915</td>\n",
       "      <td>3</td>\n",
       "      <td>0.0834</td>\n",
       "      <td>429.01</td>\n",
       "      <td>0.0182</td>\n",
       "      <td>25985</td>\n",
       "      <td>2</td>\n",
       "      <td>Very High</td>\n",
       "    </tr>\n",
       "    <tr>\n",
       "      <th>13</th>\n",
       "      <td>2190</td>\n",
       "      <td>jbrown</td>\n",
       "      <td>Instagram</td>\n",
       "      <td>997844</td>\n",
       "      <td>5</td>\n",
       "      <td>0.0642</td>\n",
       "      <td>505.61</td>\n",
       "      <td>0.0202</td>\n",
       "      <td>14717</td>\n",
       "      <td>3</td>\n",
       "      <td>Very High</td>\n",
       "    </tr>\n",
       "    <tr>\n",
       "      <th>14</th>\n",
       "      <td>1690</td>\n",
       "      <td>chavezjason</td>\n",
       "      <td>Facebook</td>\n",
       "      <td>997512</td>\n",
       "      <td>7</td>\n",
       "      <td>0.0834</td>\n",
       "      <td>993.20</td>\n",
       "      <td>0.0397</td>\n",
       "      <td>45717</td>\n",
       "      <td>2</td>\n",
       "      <td>Very High</td>\n",
       "    </tr>\n",
       "  </tbody>\n",
       "</table>\n",
       "</div>"
      ],
      "text/plain": [
       "    Account ID         Username   Platform  Follower Count  Posts Per Week  \\\n",
       "0         2404           eric65   Facebook          999982               6   \n",
       "1         4921      teresaellis    Twitter          999919               6   \n",
       "2         5839     edwardthomas     TikTok          999739               7   \n",
       "3         8686  alexandersamuel  Instagram          999726               3   \n",
       "4         9685           sriley    Twitter          999442               3   \n",
       "5         3966         lrodgers  Instagram          999351               1   \n",
       "6         4235    andradewesley     TikTok          999234               5   \n",
       "7         3040          toneill   LinkedIn          999055               4   \n",
       "8         6360    andrewgregory   LinkedIn          998968               7   \n",
       "9         2160     ashleycooper   LinkedIn          998925               6   \n",
       "10        2576     williamwyatt     TikTok          998623               6   \n",
       "11        7577       peggymunoz    Twitter          998216               6   \n",
       "12        7351     patricknoble   Facebook          997915               3   \n",
       "13        2190           jbrown  Instagram          997844               5   \n",
       "14        1690      chavezjason   Facebook          997512               7   \n",
       "\n",
       "    Engagement Rate  Ad Spend (USD)  Conversion Rate  Campaign Reach  \\\n",
       "0            0.0642          884.06           0.0281           17312   \n",
       "1            0.0834          411.63           0.0460            3975   \n",
       "2            0.0642          630.77           0.0325           35523   \n",
       "3            0.0834          687.61           0.0205           11050   \n",
       "4            0.0834          206.84           0.0225           12783   \n",
       "5            0.0834          565.07           0.0335           12391   \n",
       "6            0.0834          872.77           0.0481           17188   \n",
       "7            0.0642          799.49           0.0174           21862   \n",
       "8            0.1020          797.64           0.0351           15552   \n",
       "9            0.0856          474.46           0.0156           45956   \n",
       "10           0.0856          477.98           0.0250           43299   \n",
       "11           0.0642          456.61           0.0456           22037   \n",
       "12           0.0834          429.01           0.0182           25985   \n",
       "13           0.0642          505.61           0.0202           14717   \n",
       "14           0.0834          993.20           0.0397           45717   \n",
       "\n",
       "    Platform_Code Follower_Bin  \n",
       "0               2    Very High  \n",
       "1               4    Very High  \n",
       "2               0    Very High  \n",
       "3               3    Very High  \n",
       "4               4    Very High  \n",
       "5               3    Very High  \n",
       "6               0    Very High  \n",
       "7               1    Very High  \n",
       "8               1    Very High  \n",
       "9               1    Very High  \n",
       "10              0    Very High  \n",
       "11              4    Very High  \n",
       "12              2    Very High  \n",
       "13              3    Very High  \n",
       "14              2    Very High  "
      ]
     },
     "execution_count": 6,
     "metadata": {},
     "output_type": "execute_result"
    }
   ],
   "source": [
    "followers = df.sort_values(by='Follower Count', ascending=False).groupby('Platform', observed=False).head(3).reset_index(drop=True)\n",
    "print(followers['Follower Count'].min())\n",
    "followers"
   ]
  },
  {
   "cell_type": "markdown",
   "metadata": {},
   "source": [
    "#### Задание 5\n",
    "\n",
    "Хочется посчитать какую-то метрику. Мы хотим посмотреть, на отношение разности суммы подписчиков аккаунтов с высокой и низкой конверсией к суммарному охвату рекламы на каждой платформе. То есть, мы делим аккаунты на две группы: высокая и низка конверсия. Затем мы смотрим на то, на сколько сильно влияние аккаунтов с высокой конверсией по сравнению с аккаунтами с низкой конверсией. \n",
    "\n",
    "Давайте определим *Conversion Influence* следущим образом:\n",
    "\n",
    "$$Conversion Influence = \\frac{Total Follower\\ Count (High) - Total Follower\\ Count (Low)}{Total Campaign Reach (High)+Total Campaign Reach (Low)}$$\n",
    "\n",
    "Считать эту метрику мы будет для каждой `Platform`. В этой формуле High - это значения всех сэмплов датасета, в которых `Conversion Rate` больше медианы, а `Low` - не более медианы. `Total Feature` - это суммарное количество значений `Feature` либо по `High` сэмплам, либо по `Low`.\n",
    "\n",
    "Чтобы постоянно не пересчитывать, где High. где Low, сделайте новую колонку в датасете `Conversion_Category`. Положите в нее для каждой строки либо High, либо Low.\n",
    "\n",
    "Выведите платформу с самым большим `Conversion Influence`.\n",
    "\n",
    "**Hint**: данное задание не про *groupby*, а скорее про [pd.pivot_table](https://pandas.pydata.org/pandas-docs/stable/reference/api/pandas.pivot_table.html). Сделайте сводную таблицу, по которой уже можно посчитать суммы, а затем подставить их в формулы."
   ]
  },
  {
   "cell_type": "code",
   "execution_count": 7,
   "metadata": {},
   "outputs": [
    {
     "name": "stdout",
     "output_type": "stream",
     "text": [
      "Twitter 1.0908724546727178\n"
     ]
    }
   ],
   "source": [
    "df['Conversion_Category'] = np.where(df['Conversion Rate'] > df['Conversion Rate'].median(), 'High', 'Low')\n",
    "df['Conversion_Category'] = df['Conversion_Category'].astype('category')\n",
    "\n",
    "pivot_table = pd.pivot_table(df, \n",
    "                             values=['Follower Count', 'Campaign Reach'], \n",
    "                             index='Platform', \n",
    "                             columns='Conversion_Category', \n",
    "                             aggfunc='sum', \n",
    "                             fill_value=0,\n",
    "                             observed=False)\n",
    "pivot_table['Conversion Influence'] = ((pivot_table['Follower Count', 'High'] - pivot_table['Follower Count', 'Low']) / \n",
    "                                        (pivot_table['Campaign Reach', 'High'] + pivot_table['Campaign Reach', 'Low']))\n",
    "\n",
    "pivot_table[pivot_table['Conversion Influence'] == pivot_table['Conversion Influence'].max()]\n",
    "print(pivot_table['Conversion Influence'].idxmax(), pivot_table['Conversion Influence'].max())"
   ]
  },
  {
   "cell_type": "markdown",
   "metadata": {},
   "source": [
    "#### Задание 6\n",
    "\n",
    "Мы знаем, что вам понравилось считать метрики по формуле. Давайте закрепим этот успех. Теперь для каждой платформы посчитаем, на сколько эффективна реклама в разрезе трех последовательных записей в датасете. \n",
    "\n",
    "Для каждой платформы отсортируйте записи в порядке убывания `Posts Per Week`. Будто бы аккаунты, которые постят чаще, используют более \"активные\" стратегии по рекламе. Теперь посчитайте *скользущие суммы с окном 3* по `Campaign Reach` и `Ad Spend (USD)`. Скользящая сумма с окном N - это вы идете по массиву, берете все последовательные тройки записей и суммируете их. Для первых двух записей троек не найдется. Для них скользящее среднее - NaN, что нам не помешает. \n",
    "\n",
    "Теперь для каждого окна посчитайте \n",
    "\n",
    "$$Rolling Efficiency Ratio = \\frac{Rolling Sum of Campaign Reach}{Rolling Sum of Ad Spend}$$\n",
    "\n",
    "По сути, для каждого окна вы посчитаете сколько пользователе привлеклось за один доллар, потреченный на рекламу, в данном окне. Понятно, что значений будет столько, сколько окон. Нам интересно максимально значение такой эффективности для каждой платформы.\n",
    "\n",
    "В качестве ответа выведите название платформы с наибольшей максимальной эффективность и наименьшей (два названия, не одно, не три, ровно два).\n",
    "\n",
    "**Hint**: окна можно делать через [pd.DataFrame.rolling](https://pandas.pydata.org/pandas-docs/stable/reference/api/pandas.DataFrame.rolling.html)."
   ]
  },
  {
   "cell_type": "code",
   "execution_count": 8,
   "metadata": {},
   "outputs": [
    {
     "name": "stdout",
     "output_type": "stream",
     "text": [
      "Наибольшая эффективность: Facebook\n",
      "Наименьшая эффективность: TikTok\n"
     ]
    }
   ],
   "source": [
    "df_sorted = df.sort_values(by=['Platform', 'Posts Per Week'], ascending=[True, False])\n",
    "\n",
    "df_sorted['Rolling Sum Reach'] = df_sorted.groupby('Platform', observed=False)['Campaign Reach'].rolling(window=3).sum().reset_index(level=0, drop=True)\n",
    "df_sorted['Rolling Sum Spend'] = df_sorted.groupby('Platform', observed=False)['Ad Spend (USD)'].rolling(window=3).sum().reset_index(level=0, drop=True)\n",
    "df_sorted['Rolling Efficiency Ratio'] = df_sorted['Rolling Sum Reach'] / df_sorted['Rolling Sum Spend']\n",
    "\n",
    "rers_platforms = df_sorted.groupby('Platform', observed=False)['Rolling Efficiency Ratio'].max()\n",
    "\n",
    "print(f'Наибольшая эффективность: {rers_platforms.idxmax()}\\nНаименьшая эффективность: {rers_platforms.idxmin()}')\n"
   ]
  },
  {
   "cell_type": "markdown",
   "metadata": {},
   "source": [
    "#### Задание 7\n",
    "\n",
    "Это еще не все прекрасные функции pandas, которые мы хотим вам показать. Теперь вы посчитаете, сколько аккаунтов на каждой платформе одновременно лучшие по `Engagement Rate` и `Conversion Rate`.\n",
    "\n",
    "Сделайте два отдельных суб-сета. В одном оставьте для каждой платфмормы один топовый аккаунт по `Engagement Rate`, в другом - по `Conversion Rate`. Соедините эти два подмножества по столбцу `Platform` так, что в одно строке есть описание сразу двух аккаунтов-лидеров. Теперь посмотрите равны ли имена аккаунтов в одной строке. Выведите количество строк, в которых названия аккаунтов совпадают."
   ]
  },
  {
   "cell_type": "code",
   "execution_count": 9,
   "metadata": {},
   "outputs": [
    {
     "name": "stdout",
     "output_type": "stream",
     "text": [
      "0\n"
     ]
    }
   ],
   "source": [
    "subset_engagement = df.loc[df.groupby('Platform', observed=False)['Engagement Rate'].idxmax()]\n",
    "subset_conversion = df.loc[df.groupby('Platform', observed=False)['Conversion Rate'].idxmax()]\n",
    "\n",
    "merged = pd.merge(subset_engagement[['Platform', 'Username']], subset_conversion[['Platform', 'Username']], on='Platform', suffixes=(' (top of Engagement)', ' (top of Conversion)'))\n",
    "print(merged[merged['Username (top of Engagement)'] == merged['Username (top of Conversion)']].shape[0])"
   ]
  },
  {
   "cell_type": "markdown",
   "metadata": {},
   "source": [
    "#### Задание 8\n",
    "\n",
    "Давайте теперь что-то попроще сделаем. Например, посчитаем отношение суммарного количества подписчиков на аккаунтах с высокой конверсией к такой же сумме в аккаунтах с низкой конверсией (очевидно, для каждой платформы). По сути, мы просто хотим получить число, которое характеризует, на сколько сильно аккаунты с высокой конверсией \"доминируют\" над аккаунтами с низкой конверсией в плане количества подписчиков.\n",
    "\n",
    "Высокой конверсией будем считать конверсию больше средней. Остальное - низкая. Посчитайте суммы подписчиков для каждой платформы, поделите одно на другое и выведите разницу между самым большим значением и самым маленьким, а также платформы, которые соотвутствуют этим значениям.\n",
    "\n",
    "Используйте магическую команду `%%time`, чтобы замерить, сколько времени ушло на исполнение вашего pandas-скрипта."
   ]
  },
  {
   "cell_type": "code",
   "execution_count": 26,
   "metadata": {},
   "outputs": [],
   "source": [
    "import time\n",
    "execution_times_task8 = []\n",
    "execution_times_task9 = []\n",
    "# измерим время нескольких запусков, чтобы сравнить"
   ]
  },
  {
   "cell_type": "code",
   "execution_count": 29,
   "metadata": {},
   "outputs": [
    {
     "name": "stdout",
     "output_type": "stream",
     "text": [
      "Максимальное значение: 1.0368734301945974, Платформа: Twitter\n",
      "Минимальное значение: 0.8599860168074398, Платформа: Instagram\n",
      "Разность: 0.17688741338715763\n",
      "------------------------------\n",
      "time = 7.29845801834017 ms\n",
      "CPU times: user 6.75 ms, sys: 3.16 ms, total: 9.9 ms\n",
      "Wall time: 7.4 ms\n"
     ]
    }
   ],
   "source": [
    "%%time\n",
    "start_time8 = time.perf_counter()\n",
    "#---------------------------------------------------------\n",
    "\n",
    "followers_sums_low = df[df['Conversion Rate'] <= df['Conversion Rate'].mean()][['Platform', 'Follower Count']].groupby('Platform', observed=False).sum()\n",
    "followers_sums_high = df[df['Conversion Rate'] > df['Conversion Rate'].mean()][['Platform', 'Follower Count']].groupby('Platform', observed=False).sum()\n",
    "\n",
    "followers_sums = followers_sums_low.merge(followers_sums_high, on='Platform', suffixes=[' (low)', ' (high)'])\n",
    "followers_sums['high / low'] = followers_sums['Follower Count (high)'] / followers_sums['Follower Count (low)']\n",
    "\n",
    "print(\n",
    "f'''Максимальное значение: {followers_sums['high / low'].max()}, Платформа: {followers_sums['high / low'].idxmax()}\n",
    "Минимальное значение: {followers_sums['high / low'].min()}, Платформа: {followers_sums['high / low'].idxmin()}\n",
    "Разность: {followers_sums['high / low'].max() - followers_sums['high / low'].min()}\n",
    "{30 * '-'}'''\n",
    ")\n",
    "#---------------------------------------------------------\n",
    "end_time8 = time.perf_counter()\n",
    "time_diff8 = end_time8 - start_time8\n",
    "execution_times_task8.append(time_diff8 * 1000)\n",
    "print(f'time = {time_diff8 * 1000} ms')"
   ]
  },
  {
   "cell_type": "markdown",
   "metadata": {},
   "source": [
    "#### Задание 9\n",
    "\n",
    "А теперь решите задание 8 чисто питоном. Никаких функций и методов pandas. Только питоновские циклы. Замерьте время выполнения кода. Наконец, сравните время в задании 8 и 9. Напишите ниже, кто же победил: чистый python и pandas?\n",
    "\n",
    "**Hint**: Чтобы итерироваться по датафрейму, можно из него сделать генератор через [pd.DataFrame.iterrows](https://pandas.pydata.org/pandas-docs/stable/reference/api/pandas.DataFrame.iterrows.html) или [pd.DataFrame.itertuples](https://pandas.pydata.org/pandas-docs/stable/reference/api/pandas.DataFrame.itertuples.html#pandas.DataFrame.itertuples). К слову, это не все способы итерироваться по датафрейму."
   ]
  },
  {
   "cell_type": "code",
   "execution_count": 21,
   "metadata": {},
   "outputs": [
    {
     "name": "stdout",
     "output_type": "stream",
     "text": [
      "CPU times: user 27.8 ms, sys: 3.58 ms, total: 31.4 ms\n",
      "Wall time: 30.5 ms\n"
     ]
    },
    {
     "data": {
      "text/plain": [
       "'наверное несправедливо замерять время работы вместе с преобразованием данных, \\nтак как в прошлом задании работать с данными можно было без преобразования'"
      ]
     },
     "execution_count": 21,
     "metadata": {},
     "output_type": "execute_result"
    }
   ],
   "source": [
    "%%time\n",
    "dict_data = df.to_dict() \n",
    "'''наверное несправедливо замерять время работы вместе с преобразованием данных, \n",
    "так как в прошлом задании работать с данными можно было без преобразования'''"
   ]
  },
  {
   "cell_type": "code",
   "execution_count": 65,
   "metadata": {},
   "outputs": [
    {
     "name": "stdout",
     "output_type": "stream",
     "text": [
      "Максимальное значение: 1.0368734301945974, Платформа: Twitter\n",
      "Минимальное значение: 0.8599860168074398, Платформа: Instagram\n",
      "Разность: 0.17688741338715763\n",
      "------------------------------\n",
      "time = 5.306374994688667 ms\n",
      "CPU times: user 5.27 ms, sys: 241 μs, total: 5.51 ms\n",
      "Wall time: 5.43 ms\n"
     ]
    }
   ],
   "source": [
    "%%time\n",
    "start_time9 = time.perf_counter()\n",
    "#---------------------------------------------------------\n",
    "conver_rate_mean = sum(dict_data['Conversion Rate'].values()) / len(dict_data['Conversion Rate'].values())\n",
    "\n",
    "fsl = dict.fromkeys(set(dict_data['Platform'].values()), 0) #followers_sums_low\n",
    "fsh = dict.fromkeys(set(dict_data['Platform'].values()), 0) #followers_sums_high\n",
    "\n",
    "for i in range(0, len(dict_data['Account ID'])):\n",
    "    if dict_data['Conversion Rate'][i] > conver_rate_mean:\n",
    "        fsh[dict_data['Platform'][i]] += dict_data['Follower Count'][i]\n",
    "    else:\n",
    "        fsl[dict_data['Platform'][i]] += dict_data['Follower Count'][i]\n",
    "\n",
    "fs = {key: fsh[key] / fsl[key] for key in fsh.keys() & fsl}\n",
    "print(\n",
    "f'''Максимальное значение: {max(fs.values())}, Платформа: {max(fs, key=fs.get)}\n",
    "Минимальное значение: {min(fs.values())}, Платформа: {min(fs, key=fs.get)}\n",
    "Разность: {max(fs.values()) - min(fs.values())}\n",
    "{30 * '-'}'''\n",
    ")\n",
    "#---------------------------------------------------------\n",
    "end_time9 = time.perf_counter()\n",
    "time_diff9 = end_time9 - start_time9\n",
    "execution_times_task9.append(time_diff9 * 1000)\n",
    "print(f'time = {time_diff9 * 1000} ms')"
   ]
  },
  {
   "cell_type": "code",
   "execution_count": 66,
   "metadata": {},
   "outputs": [
    {
     "data": {
      "image/png": "[encoded data removed]",
      "text/plain": [
       "<Figure size 1500x500 with 1 Axes>"
      ]
     },
     "metadata": {},
     "output_type": "display_data"
    }
   ],
   "source": [
    "import matplotlib.pyplot as plt\n",
    "\n",
    "num_of_run = np.arange(1, min(len(execution_times_task8), len(execution_times_task9)) + 1) \n",
    "\n",
    "width = 0.3  \n",
    "plt.figure(figsize=(15, 5)) \n",
    "\n",
    "plt.bar(num_of_run - width / 2, execution_times_task8[:num_of_run[-1]], width, label='Задача 8', color='blue')\n",
    "plt.bar(num_of_run + width / 2, execution_times_task9[:num_of_run[-1]], width, label='Задача 9', color='orange')\n",
    "\n",
    "plt.xlabel('Номер запуска')\n",
    "plt.ylabel('Время, ms')\n",
    "plt.xticks(num_of_run)\n",
    "plt.legend()\n",
    "\n",
    "plt.show()"
   ]
  },
  {
   "cell_type": "markdown",
   "metadata": {},
   "source": [
    "**А победителем является**: чистый Python"
   ]
  },
  {
   "cell_type": "markdown",
   "metadata": {},
   "source": [
    "#### Задание 10\n",
    "\n",
    "Крайне серьезное задание. Отнеситесь к нему соответствующе. В ячейке ниже напишите ваш любимый анекдот или мем (только без баянов, окей?). Можно плохие. Помните, это задание на полный балл. Проверяющий работу ассистент должен улыбнуться.\n",
    "\n",
    "Если вставляете картинку, то убедитесь, что вы ее не подгружаете локально. А то будет неудобно - потерять балл на этом задании, когда надо было выложить картинку на облако и прокинуть ссылку. И нет, нельзя сюда просто ссылку вставить. Либо ищите, как вставить картинку, либо смешной анекдот. Есть всего два стула - выбирайте..."
   ]
  },
  {
   "cell_type": "markdown",
   "metadata": {},
   "source": [
    "## Анекдот:\n",
    "Два мужика. Один другому говорит:   \n",
    "– Спорим на 100 рублей, я свой глаз укушу.   \n",
    "Второй думает “ну как это можно? ”   \n",
    "– Спорим.   \n",
    "Мужик достает у себя стеклянный глаз и кусает.   \n",
    "– А спорим на 100 рублей, я второй глаз укушу.   \n",
    "Второй думает “он же не слепой вроде”   \n",
    "– Спорим.   \n",
    "Мужик достает у себя вставные челюсти и кусает второй глаз. И снова:    \n",
    "– А спорим на десятку, я тебя обоссу и духами пахнуть будет.   \n",
    "Второй думает “быть такого не может”   \n",
    "– Спорим.    \n",
    "Мужик обоссал приятеля. Духами не запахло.    \n",
    "Второй говорит:    \n",
    "– Вот видишь!    \n",
    "Первый:    \n",
    "– Я иногда и проигрываю.    "
   ]
  }
 ],
 "metadata": {
  "kernelspec": {
   "display_name": ".venv",
   "language": "python",
   "name": "python3"
  },
  "language_info": {
   "codemirror_mode": {
    "name": "ipython",
    "version": 3
   },
   "file_extension": ".py",
   "mimetype": "text/x-python",
   "name": "python",
   "nbconvert_exporter": "python",
   "pygments_lexer": "ipython3",
   "version": "3.13.2"
  }
 },
 "nbformat": 4,
 "nbformat_minor": 4
}
