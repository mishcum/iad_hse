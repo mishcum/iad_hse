{
  "cells": [
    {
      "cell_type": "markdown",
      "id": "047674ee",
      "metadata": {
        "id": "047674ee"
      },
      "source": [
        "# Часть 1 Бустинг (5 баллов)"
      ]
    },
    {
      "cell_type": "markdown",
      "id": "d8461109",
      "metadata": {
        "id": "d8461109"
      },
      "source": [
        "В этой части будем предсказывать зарплату data scientist-ов в зависимости  от ряда факторов с помощью градиентного бустинга."
      ]
    },
    {
      "cell_type": "markdown",
      "id": "1651e8dd",
      "metadata": {
        "id": "1651e8dd"
      },
      "source": [
        "В датасете есть следующие признаки:\n",
        "\n",
        "\n",
        "\n",
        "* work_year: The number of years of work experience in the field of data science.\n",
        "\n",
        "* experience_level: The level of experience, such as Junior, Senior, or Lead.\n",
        "\n",
        "* employment_type: The type of employment, such as Full-time or Contract.\n",
        "\n",
        "* job_title: The specific job title or role, such as Data Analyst or Data Scientist.\n",
        "\n",
        "* salary: The salary amount for the given job.\n",
        "\n",
        "* salary_currency: The currency in which the salary is denoted.\n",
        "\n",
        "* salary_in_usd: The equivalent salary amount converted to US dollars (USD) for comparison purposes.\n",
        "\n",
        "* employee_residence: The country or region where the employee resides.\n",
        "\n",
        "* remote_ratio: The percentage of remote work offered in the job.\n",
        "\n",
        "* company_location: The location of the company or organization.\n",
        "\n",
        "* company_size: The company's size is categorized as Small, Medium, or Large."
      ]
    },
    {
      "cell_type": "code",
      "execution_count": 104,
      "id": "dbf7595c",
      "metadata": {
        "colab": {
          "base_uri": "https://localhost:8080/",
          "height": 330
        },
        "id": "dbf7595c",
        "outputId": "1b27c9f2-85d2-4971-a592-6b4aaba9f94a"
      },
      "outputs": [
        {
          "data": {
            "application/vnd.microsoft.datawrangler.viewer.v0+json": {
              "columns": [
                {
                  "name": "index",
                  "rawType": "int64",
                  "type": "integer"
                },
                {
                  "name": "work_year",
                  "rawType": "int64",
                  "type": "integer"
                },
                {
                  "name": "experience_level",
                  "rawType": "object",
                  "type": "string"
                },
                {
                  "name": "employment_type",
                  "rawType": "object",
                  "type": "string"
                },
                {
                  "name": "job_title",
                  "rawType": "object",
                  "type": "string"
                },
                {
                  "name": "salary",
                  "rawType": "int64",
                  "type": "integer"
                },
                {
                  "name": "salary_currency",
                  "rawType": "object",
                  "type": "string"
                },
                {
                  "name": "salary_in_usd",
                  "rawType": "int64",
                  "type": "integer"
                },
                {
                  "name": "employee_residence",
                  "rawType": "object",
                  "type": "string"
                },
                {
                  "name": "remote_ratio",
                  "rawType": "int64",
                  "type": "integer"
                },
                {
                  "name": "company_location",
                  "rawType": "object",
                  "type": "string"
                },
                {
                  "name": "company_size",
                  "rawType": "object",
                  "type": "string"
                }
              ],
              "ref": "e16356c5-4563-4287-91fc-66b8f676f9f9",
              "rows": [
                [
                  "0",
                  "2023",
                  "SE",
                  "FT",
                  "Principal Data Scientist",
                  "80000",
                  "EUR",
                  "85847",
                  "ES",
                  "100",
                  "ES",
                  "L"
                ],
                [
                  "1",
                  "2023",
                  "MI",
                  "CT",
                  "ML Engineer",
                  "30000",
                  "USD",
                  "30000",
                  "US",
                  "100",
                  "US",
                  "S"
                ],
                [
                  "2",
                  "2023",
                  "MI",
                  "CT",
                  "ML Engineer",
                  "25500",
                  "USD",
                  "25500",
                  "US",
                  "100",
                  "US",
                  "S"
                ],
                [
                  "3",
                  "2023",
                  "SE",
                  "FT",
                  "Data Scientist",
                  "175000",
                  "USD",
                  "175000",
                  "CA",
                  "100",
                  "CA",
                  "M"
                ],
                [
                  "4",
                  "2023",
                  "SE",
                  "FT",
                  "Data Scientist",
                  "120000",
                  "USD",
                  "120000",
                  "CA",
                  "100",
                  "CA",
                  "M"
                ]
              ],
              "shape": {
                "columns": 11,
                "rows": 5
              }
            },
            "text/html": [
              "<div>\n",
              "<style scoped>\n",
              "    .dataframe tbody tr th:only-of-type {\n",
              "        vertical-align: middle;\n",
              "    }\n",
              "\n",
              "    .dataframe tbody tr th {\n",
              "        vertical-align: top;\n",
              "    }\n",
              "\n",
              "    .dataframe thead th {\n",
              "        text-align: right;\n",
              "    }\n",
              "</style>\n",
              "<table border=\"1\" class=\"dataframe\">\n",
              "  <thead>\n",
              "    <tr style=\"text-align: right;\">\n",
              "      <th></th>\n",
              "      <th>work_year</th>\n",
              "      <th>experience_level</th>\n",
              "      <th>employment_type</th>\n",
              "      <th>job_title</th>\n",
              "      <th>salary</th>\n",
              "      <th>salary_currency</th>\n",
              "      <th>salary_in_usd</th>\n",
              "      <th>employee_residence</th>\n",
              "      <th>remote_ratio</th>\n",
              "      <th>company_location</th>\n",
              "      <th>company_size</th>\n",
              "    </tr>\n",
              "  </thead>\n",
              "  <tbody>\n",
              "    <tr>\n",
              "      <th>0</th>\n",
              "      <td>2023</td>\n",
              "      <td>SE</td>\n",
              "      <td>FT</td>\n",
              "      <td>Principal Data Scientist</td>\n",
              "      <td>80000</td>\n",
              "      <td>EUR</td>\n",
              "      <td>85847</td>\n",
              "      <td>ES</td>\n",
              "      <td>100</td>\n",
              "      <td>ES</td>\n",
              "      <td>L</td>\n",
              "    </tr>\n",
              "    <tr>\n",
              "      <th>1</th>\n",
              "      <td>2023</td>\n",
              "      <td>MI</td>\n",
              "      <td>CT</td>\n",
              "      <td>ML Engineer</td>\n",
              "      <td>30000</td>\n",
              "      <td>USD</td>\n",
              "      <td>30000</td>\n",
              "      <td>US</td>\n",
              "      <td>100</td>\n",
              "      <td>US</td>\n",
              "      <td>S</td>\n",
              "    </tr>\n",
              "    <tr>\n",
              "      <th>2</th>\n",
              "      <td>2023</td>\n",
              "      <td>MI</td>\n",
              "      <td>CT</td>\n",
              "      <td>ML Engineer</td>\n",
              "      <td>25500</td>\n",
              "      <td>USD</td>\n",
              "      <td>25500</td>\n",
              "      <td>US</td>\n",
              "      <td>100</td>\n",
              "      <td>US</td>\n",
              "      <td>S</td>\n",
              "    </tr>\n",
              "    <tr>\n",
              "      <th>3</th>\n",
              "      <td>2023</td>\n",
              "      <td>SE</td>\n",
              "      <td>FT</td>\n",
              "      <td>Data Scientist</td>\n",
              "      <td>175000</td>\n",
              "      <td>USD</td>\n",
              "      <td>175000</td>\n",
              "      <td>CA</td>\n",
              "      <td>100</td>\n",
              "      <td>CA</td>\n",
              "      <td>M</td>\n",
              "    </tr>\n",
              "    <tr>\n",
              "      <th>4</th>\n",
              "      <td>2023</td>\n",
              "      <td>SE</td>\n",
              "      <td>FT</td>\n",
              "      <td>Data Scientist</td>\n",
              "      <td>120000</td>\n",
              "      <td>USD</td>\n",
              "      <td>120000</td>\n",
              "      <td>CA</td>\n",
              "      <td>100</td>\n",
              "      <td>CA</td>\n",
              "      <td>M</td>\n",
              "    </tr>\n",
              "  </tbody>\n",
              "</table>\n",
              "</div>"
            ],
            "text/plain": [
              "   work_year experience_level employment_type                 job_title  \\\n",
              "0       2023               SE              FT  Principal Data Scientist   \n",
              "1       2023               MI              CT               ML Engineer   \n",
              "2       2023               MI              CT               ML Engineer   \n",
              "3       2023               SE              FT            Data Scientist   \n",
              "4       2023               SE              FT            Data Scientist   \n",
              "\n",
              "   salary salary_currency  salary_in_usd employee_residence  remote_ratio  \\\n",
              "0   80000             EUR          85847                 ES           100   \n",
              "1   30000             USD          30000                 US           100   \n",
              "2   25500             USD          25500                 US           100   \n",
              "3  175000             USD         175000                 CA           100   \n",
              "4  120000             USD         120000                 CA           100   \n",
              "\n",
              "  company_location company_size  \n",
              "0               ES            L  \n",
              "1               US            S  \n",
              "2               US            S  \n",
              "3               CA            M  \n",
              "4               CA            M  "
            ]
          },
          "execution_count": 104,
          "metadata": {},
          "output_type": "execute_result"
        }
      ],
      "source": [
        "import pandas as pd\n",
        "import numpy as np\n",
        "\n",
        "df = pd.read_csv(\"ds_salaries.csv\")\n",
        "df.head()"
      ]
    },
    {
      "cell_type": "markdown",
      "id": "6696e77a",
      "metadata": {
        "id": "6696e77a"
      },
      "source": [
        "## Задание 1 (0.5 балла) Подготовка"
      ]
    },
    {
      "cell_type": "markdown",
      "id": "0cb13dc7",
      "metadata": {
        "id": "0cb13dc7"
      },
      "source": [
        "\n",
        "\n",
        "*   Разделите выборку на train, val, test (80%, 10%, 10%)\n",
        "*   Выдерите salary_in_usd в качестве таргета\n",
        "*   Найдите и удалите признак, из-за которого возможен лик в данных\n"
      ]
    },
    {
      "cell_type": "code",
      "execution_count": 105,
      "id": "ea19d56a",
      "metadata": {},
      "outputs": [],
      "source": [
        "df.drop('salary', axis=1, inplace=True) # лик\n",
        "X = df.drop('salary_in_usd', axis=1)\n",
        "y = df['salary_in_usd']"
      ]
    },
    {
      "cell_type": "code",
      "execution_count": 106,
      "id": "HJNGYRCjYG8A",
      "metadata": {
        "id": "HJNGYRCjYG8A"
      },
      "outputs": [],
      "source": [
        "from sklearn.model_selection import train_test_split\n",
        "\n",
        "X_train, X_test, y_train, y_test = train_test_split(X, y, test_size=0.2, random_state=123)\n",
        "X_test, X_val, y_test, y_val = train_test_split(X_test, y_test, test_size=0.5, random_state=123)"
      ]
    },
    {
      "cell_type": "markdown",
      "id": "f63cb01a",
      "metadata": {
        "id": "f63cb01a"
      },
      "source": [
        "## Задание 2 (0.5 балла) Линейная модель"
      ]
    },
    {
      "cell_type": "markdown",
      "id": "647a5cad",
      "metadata": {
        "id": "647a5cad"
      },
      "source": [
        "\n",
        "*   Закодируйте категориальные  признаки с помощью OneHotEncoder\n",
        "*   Обучите модель линейной регрессии\n",
        "*   Оцените  качество через MAPE и RMSE\n"
      ]
    },
    {
      "cell_type": "code",
      "execution_count": 107,
      "id": "71675bf4",
      "metadata": {},
      "outputs": [
        {
          "data": {
            "application/vnd.microsoft.datawrangler.viewer.v0+json": {
              "columns": [
                {
                  "name": "index",
                  "rawType": "int64",
                  "type": "integer"
                },
                {
                  "name": "work_year",
                  "rawType": "int64",
                  "type": "integer"
                },
                {
                  "name": "experience_level",
                  "rawType": "object",
                  "type": "string"
                },
                {
                  "name": "employment_type",
                  "rawType": "object",
                  "type": "string"
                },
                {
                  "name": "job_title",
                  "rawType": "object",
                  "type": "string"
                },
                {
                  "name": "salary_currency",
                  "rawType": "object",
                  "type": "string"
                },
                {
                  "name": "employee_residence",
                  "rawType": "object",
                  "type": "string"
                },
                {
                  "name": "remote_ratio",
                  "rawType": "int64",
                  "type": "integer"
                },
                {
                  "name": "company_location",
                  "rawType": "object",
                  "type": "string"
                },
                {
                  "name": "company_size",
                  "rawType": "object",
                  "type": "string"
                }
              ],
              "ref": "7e0c500f-bb1a-441b-b551-326852c4099f",
              "rows": [
                [
                  "206",
                  "2023",
                  "MI",
                  "FT",
                  "Data Engineer",
                  "USD",
                  "US",
                  "0",
                  "US",
                  "M"
                ],
                [
                  "1199",
                  "2023",
                  "SE",
                  "FT",
                  "Machine Learning Engineer",
                  "USD",
                  "US",
                  "0",
                  "US",
                  "M"
                ],
                [
                  "1290",
                  "2023",
                  "MI",
                  "FT",
                  "Data Analyst",
                  "USD",
                  "US",
                  "100",
                  "US",
                  "M"
                ],
                [
                  "1173",
                  "2023",
                  "MI",
                  "FT",
                  "Data Engineer",
                  "USD",
                  "US",
                  "0",
                  "US",
                  "M"
                ],
                [
                  "1130",
                  "2023",
                  "SE",
                  "FT",
                  "Machine Learning Engineer",
                  "USD",
                  "US",
                  "100",
                  "US",
                  "M"
                ],
                [
                  "1747",
                  "2023",
                  "SE",
                  "FT",
                  "Research Scientist",
                  "USD",
                  "US",
                  "0",
                  "US",
                  "M"
                ],
                [
                  "1864",
                  "2022",
                  "SE",
                  "FT",
                  "Machine Learning Software Engineer",
                  "USD",
                  "CA",
                  "100",
                  "CA",
                  "M"
                ],
                [
                  "2129",
                  "2022",
                  "SE",
                  "FT",
                  "Data Scientist",
                  "USD",
                  "US",
                  "0",
                  "US",
                  "M"
                ],
                [
                  "689",
                  "2023",
                  "MI",
                  "FT",
                  "Data Scientist",
                  "USD",
                  "US",
                  "0",
                  "US",
                  "M"
                ],
                [
                  "2933",
                  "2022",
                  "MI",
                  "CT",
                  "Analytics Engineer",
                  "USD",
                  "BO",
                  "50",
                  "BO",
                  "M"
                ],
                [
                  "823",
                  "2023",
                  "SE",
                  "FT",
                  "Data Scientist",
                  "USD",
                  "US",
                  "0",
                  "US",
                  "M"
                ],
                [
                  "729",
                  "2023",
                  "MI",
                  "FT",
                  "ML Engineer",
                  "USD",
                  "US",
                  "0",
                  "US",
                  "M"
                ],
                [
                  "3295",
                  "2022",
                  "SE",
                  "FT",
                  "Data Scientist",
                  "USD",
                  "US",
                  "0",
                  "US",
                  "M"
                ],
                [
                  "854",
                  "2023",
                  "SE",
                  "FT",
                  "Data Analyst",
                  "USD",
                  "US",
                  "0",
                  "US",
                  "M"
                ],
                [
                  "3681",
                  "2020",
                  "MI",
                  "FT",
                  "Data Analyst",
                  "USD",
                  "PK",
                  "50",
                  "PK",
                  "L"
                ],
                [
                  "3706",
                  "2020",
                  "MI",
                  "FT",
                  "Data Scientist",
                  "EUR",
                  "FR",
                  "50",
                  "FR",
                  "S"
                ],
                [
                  "2538",
                  "2022",
                  "SE",
                  "FT",
                  "Data Analyst",
                  "EUR",
                  "ES",
                  "0",
                  "ES",
                  "M"
                ],
                [
                  "3726",
                  "2020",
                  "SE",
                  "FT",
                  "Principal Data Scientist",
                  "EUR",
                  "DE",
                  "100",
                  "DE",
                  "M"
                ],
                [
                  "2614",
                  "2022",
                  "SE",
                  "FT",
                  "Data Engineer",
                  "USD",
                  "US",
                  "0",
                  "US",
                  "M"
                ],
                [
                  "2331",
                  "2022",
                  "SE",
                  "FT",
                  "Research Scientist",
                  "USD",
                  "US",
                  "100",
                  "US",
                  "M"
                ],
                [
                  "2091",
                  "2022",
                  "SE",
                  "FT",
                  "Data Engineer",
                  "USD",
                  "US",
                  "0",
                  "US",
                  "M"
                ],
                [
                  "3600",
                  "2020",
                  "EN",
                  "FT",
                  "Data Analyst",
                  "USD",
                  "US",
                  "100",
                  "US",
                  "L"
                ],
                [
                  "1723",
                  "2023",
                  "SE",
                  "FT",
                  "Data Engineer",
                  "USD",
                  "US",
                  "0",
                  "US",
                  "M"
                ],
                [
                  "1949",
                  "2022",
                  "SE",
                  "FT",
                  "Data Engineer",
                  "USD",
                  "US",
                  "0",
                  "US",
                  "M"
                ],
                [
                  "379",
                  "2023",
                  "SE",
                  "FT",
                  "Data Engineer",
                  "USD",
                  "US",
                  "0",
                  "US",
                  "M"
                ],
                [
                  "251",
                  "2023",
                  "EN",
                  "FT",
                  "Data Engineer",
                  "USD",
                  "US",
                  "0",
                  "US",
                  "M"
                ],
                [
                  "2152",
                  "2022",
                  "SE",
                  "FT",
                  "ML Engineer",
                  "USD",
                  "US",
                  "100",
                  "US",
                  "M"
                ],
                [
                  "3368",
                  "2022",
                  "EN",
                  "FT",
                  "Data Analyst",
                  "USD",
                  "CA",
                  "0",
                  "CA",
                  "M"
                ],
                [
                  "2935",
                  "2022",
                  "SE",
                  "FT",
                  "Data Scientist",
                  "USD",
                  "US",
                  "100",
                  "US",
                  "M"
                ],
                [
                  "2510",
                  "2022",
                  "SE",
                  "FT",
                  "Data Engineer",
                  "USD",
                  "US",
                  "0",
                  "US",
                  "M"
                ],
                [
                  "384",
                  "2023",
                  "SE",
                  "FT",
                  "Data Engineer",
                  "USD",
                  "US",
                  "0",
                  "US",
                  "M"
                ],
                [
                  "58",
                  "2023",
                  "EX",
                  "FT",
                  "Data Scientist",
                  "USD",
                  "US",
                  "0",
                  "US",
                  "M"
                ],
                [
                  "1518",
                  "2023",
                  "MI",
                  "FT",
                  "Data Analyst",
                  "USD",
                  "US",
                  "0",
                  "US",
                  "M"
                ],
                [
                  "1717",
                  "2023",
                  "SE",
                  "FT",
                  "Data Scientist",
                  "USD",
                  "US",
                  "100",
                  "US",
                  "M"
                ],
                [
                  "3175",
                  "2022",
                  "SE",
                  "FT",
                  "Data Analyst",
                  "USD",
                  "US",
                  "0",
                  "US",
                  "M"
                ],
                [
                  "2565",
                  "2022",
                  "SE",
                  "FT",
                  "Data Analyst",
                  "USD",
                  "US",
                  "100",
                  "US",
                  "M"
                ],
                [
                  "1892",
                  "2022",
                  "EN",
                  "FT",
                  "Product Data Analyst",
                  "USD",
                  "US",
                  "100",
                  "US",
                  "M"
                ],
                [
                  "3014",
                  "2022",
                  "EN",
                  "FT",
                  "Machine Learning Engineer",
                  "GBP",
                  "GB",
                  "100",
                  "GB",
                  "S"
                ],
                [
                  "1276",
                  "2023",
                  "MI",
                  "FT",
                  "Data Analyst",
                  "USD",
                  "US",
                  "0",
                  "US",
                  "M"
                ],
                [
                  "18",
                  "2023",
                  "SE",
                  "FT",
                  "Data Scientist",
                  "USD",
                  "US",
                  "0",
                  "US",
                  "M"
                ],
                [
                  "2097",
                  "2022",
                  "SE",
                  "FT",
                  "Analytics Engineer",
                  "USD",
                  "US",
                  "100",
                  "US",
                  "M"
                ],
                [
                  "1542",
                  "2023",
                  "MI",
                  "FT",
                  "Data Engineer",
                  "USD",
                  "US",
                  "0",
                  "US",
                  "M"
                ],
                [
                  "605",
                  "2023",
                  "MI",
                  "FT",
                  "Data Analyst",
                  "USD",
                  "US",
                  "100",
                  "US",
                  "M"
                ],
                [
                  "3733",
                  "2021",
                  "SE",
                  "FT",
                  "Principal Data Scientist",
                  "USD",
                  "US",
                  "100",
                  "US",
                  "L"
                ],
                [
                  "1740",
                  "2023",
                  "SE",
                  "FT",
                  "Data Engineer",
                  "USD",
                  "US",
                  "100",
                  "US",
                  "M"
                ],
                [
                  "344",
                  "2023",
                  "SE",
                  "FT",
                  "Data Engineer",
                  "USD",
                  "US",
                  "100",
                  "US",
                  "M"
                ],
                [
                  "1376",
                  "2023",
                  "SE",
                  "FT",
                  "Data Engineer",
                  "USD",
                  "US",
                  "0",
                  "US",
                  "M"
                ],
                [
                  "1392",
                  "2023",
                  "SE",
                  "FT",
                  "Data Analyst",
                  "USD",
                  "US",
                  "0",
                  "US",
                  "M"
                ],
                [
                  "1980",
                  "2022",
                  "SE",
                  "FT",
                  "Data Engineer",
                  "USD",
                  "US",
                  "100",
                  "US",
                  "M"
                ],
                [
                  "3063",
                  "2021",
                  "SE",
                  "FT",
                  "Cloud Data Architect",
                  "USD",
                  "US",
                  "50",
                  "US",
                  "L"
                ]
              ],
              "shape": {
                "columns": 9,
                "rows": 3004
              }
            },
            "text/html": [
              "<div>\n",
              "<style scoped>\n",
              "    .dataframe tbody tr th:only-of-type {\n",
              "        vertical-align: middle;\n",
              "    }\n",
              "\n",
              "    .dataframe tbody tr th {\n",
              "        vertical-align: top;\n",
              "    }\n",
              "\n",
              "    .dataframe thead th {\n",
              "        text-align: right;\n",
              "    }\n",
              "</style>\n",
              "<table border=\"1\" class=\"dataframe\">\n",
              "  <thead>\n",
              "    <tr style=\"text-align: right;\">\n",
              "      <th></th>\n",
              "      <th>work_year</th>\n",
              "      <th>experience_level</th>\n",
              "      <th>employment_type</th>\n",
              "      <th>job_title</th>\n",
              "      <th>salary_currency</th>\n",
              "      <th>employee_residence</th>\n",
              "      <th>remote_ratio</th>\n",
              "      <th>company_location</th>\n",
              "      <th>company_size</th>\n",
              "    </tr>\n",
              "  </thead>\n",
              "  <tbody>\n",
              "    <tr>\n",
              "      <th>206</th>\n",
              "      <td>2023</td>\n",
              "      <td>MI</td>\n",
              "      <td>FT</td>\n",
              "      <td>Data Engineer</td>\n",
              "      <td>USD</td>\n",
              "      <td>US</td>\n",
              "      <td>0</td>\n",
              "      <td>US</td>\n",
              "      <td>M</td>\n",
              "    </tr>\n",
              "    <tr>\n",
              "      <th>1199</th>\n",
              "      <td>2023</td>\n",
              "      <td>SE</td>\n",
              "      <td>FT</td>\n",
              "      <td>Machine Learning Engineer</td>\n",
              "      <td>USD</td>\n",
              "      <td>US</td>\n",
              "      <td>0</td>\n",
              "      <td>US</td>\n",
              "      <td>M</td>\n",
              "    </tr>\n",
              "    <tr>\n",
              "      <th>1290</th>\n",
              "      <td>2023</td>\n",
              "      <td>MI</td>\n",
              "      <td>FT</td>\n",
              "      <td>Data Analyst</td>\n",
              "      <td>USD</td>\n",
              "      <td>US</td>\n",
              "      <td>100</td>\n",
              "      <td>US</td>\n",
              "      <td>M</td>\n",
              "    </tr>\n",
              "    <tr>\n",
              "      <th>1173</th>\n",
              "      <td>2023</td>\n",
              "      <td>MI</td>\n",
              "      <td>FT</td>\n",
              "      <td>Data Engineer</td>\n",
              "      <td>USD</td>\n",
              "      <td>US</td>\n",
              "      <td>0</td>\n",
              "      <td>US</td>\n",
              "      <td>M</td>\n",
              "    </tr>\n",
              "    <tr>\n",
              "      <th>1130</th>\n",
              "      <td>2023</td>\n",
              "      <td>SE</td>\n",
              "      <td>FT</td>\n",
              "      <td>Machine Learning Engineer</td>\n",
              "      <td>USD</td>\n",
              "      <td>US</td>\n",
              "      <td>100</td>\n",
              "      <td>US</td>\n",
              "      <td>M</td>\n",
              "    </tr>\n",
              "    <tr>\n",
              "      <th>...</th>\n",
              "      <td>...</td>\n",
              "      <td>...</td>\n",
              "      <td>...</td>\n",
              "      <td>...</td>\n",
              "      <td>...</td>\n",
              "      <td>...</td>\n",
              "      <td>...</td>\n",
              "      <td>...</td>\n",
              "      <td>...</td>\n",
              "    </tr>\n",
              "    <tr>\n",
              "      <th>1122</th>\n",
              "      <td>2023</td>\n",
              "      <td>MI</td>\n",
              "      <td>FT</td>\n",
              "      <td>Data Infrastructure Engineer</td>\n",
              "      <td>USD</td>\n",
              "      <td>US</td>\n",
              "      <td>100</td>\n",
              "      <td>US</td>\n",
              "      <td>M</td>\n",
              "    </tr>\n",
              "    <tr>\n",
              "      <th>1346</th>\n",
              "      <td>2023</td>\n",
              "      <td>EN</td>\n",
              "      <td>FT</td>\n",
              "      <td>Data Engineer</td>\n",
              "      <td>EUR</td>\n",
              "      <td>DE</td>\n",
              "      <td>100</td>\n",
              "      <td>DE</td>\n",
              "      <td>L</td>\n",
              "    </tr>\n",
              "    <tr>\n",
              "      <th>3454</th>\n",
              "      <td>2022</td>\n",
              "      <td>MI</td>\n",
              "      <td>FT</td>\n",
              "      <td>Principal Data Analyst</td>\n",
              "      <td>USD</td>\n",
              "      <td>CA</td>\n",
              "      <td>100</td>\n",
              "      <td>CA</td>\n",
              "      <td>S</td>\n",
              "    </tr>\n",
              "    <tr>\n",
              "      <th>3437</th>\n",
              "      <td>2022</td>\n",
              "      <td>SE</td>\n",
              "      <td>FT</td>\n",
              "      <td>Head of Data</td>\n",
              "      <td>USD</td>\n",
              "      <td>MY</td>\n",
              "      <td>100</td>\n",
              "      <td>US</td>\n",
              "      <td>M</td>\n",
              "    </tr>\n",
              "    <tr>\n",
              "      <th>3582</th>\n",
              "      <td>2021</td>\n",
              "      <td>SE</td>\n",
              "      <td>FT</td>\n",
              "      <td>Lead Data Engineer</td>\n",
              "      <td>USD</td>\n",
              "      <td>US</td>\n",
              "      <td>0</td>\n",
              "      <td>US</td>\n",
              "      <td>L</td>\n",
              "    </tr>\n",
              "  </tbody>\n",
              "</table>\n",
              "<p>3004 rows × 9 columns</p>\n",
              "</div>"
            ],
            "text/plain": [
              "      work_year experience_level employment_type  \\\n",
              "206        2023               MI              FT   \n",
              "1199       2023               SE              FT   \n",
              "1290       2023               MI              FT   \n",
              "1173       2023               MI              FT   \n",
              "1130       2023               SE              FT   \n",
              "...         ...              ...             ...   \n",
              "1122       2023               MI              FT   \n",
              "1346       2023               EN              FT   \n",
              "3454       2022               MI              FT   \n",
              "3437       2022               SE              FT   \n",
              "3582       2021               SE              FT   \n",
              "\n",
              "                         job_title salary_currency employee_residence  \\\n",
              "206                  Data Engineer             USD                 US   \n",
              "1199     Machine Learning Engineer             USD                 US   \n",
              "1290                  Data Analyst             USD                 US   \n",
              "1173                 Data Engineer             USD                 US   \n",
              "1130     Machine Learning Engineer             USD                 US   \n",
              "...                            ...             ...                ...   \n",
              "1122  Data Infrastructure Engineer             USD                 US   \n",
              "1346                 Data Engineer             EUR                 DE   \n",
              "3454        Principal Data Analyst             USD                 CA   \n",
              "3437                  Head of Data             USD                 MY   \n",
              "3582            Lead Data Engineer             USD                 US   \n",
              "\n",
              "      remote_ratio company_location company_size  \n",
              "206              0               US            M  \n",
              "1199             0               US            M  \n",
              "1290           100               US            M  \n",
              "1173             0               US            M  \n",
              "1130           100               US            M  \n",
              "...            ...              ...          ...  \n",
              "1122           100               US            M  \n",
              "1346           100               DE            L  \n",
              "3454           100               CA            S  \n",
              "3437           100               US            M  \n",
              "3582             0               US            L  \n",
              "\n",
              "[3004 rows x 9 columns]"
            ]
          },
          "execution_count": 107,
          "metadata": {},
          "output_type": "execute_result"
        }
      ],
      "source": [
        "X_train"
      ]
    },
    {
      "cell_type": "code",
      "execution_count": 108,
      "id": "DcfWqlvYk0ru",
      "metadata": {
        "id": "DcfWqlvYk0ru"
      },
      "outputs": [],
      "source": [
        "from sklearn.linear_model import LinearRegression\n",
        "from sklearn.metrics import mean_absolute_percentage_error, mean_squared_error, mean_absolute_error\n",
        "from sklearn.preprocessing import OneHotEncoder\n",
        "from sklearn.compose import ColumnTransformer"
      ]
    },
    {
      "cell_type": "code",
      "execution_count": 109,
      "id": "a28e0d4c",
      "metadata": {},
      "outputs": [
        {
          "name": "stderr",
          "output_type": "stream",
          "text": [
            "/Users/mishasmacbook/Desktop/HSE/datas/.venv/lib/python3.13/site-packages/sklearn/preprocessing/_encoders.py:246: UserWarning: Found unknown categories in columns [2, 3, 4, 6] during transform. These unknown categories will be encoded as all zeros\n",
            "  warnings.warn(\n",
            "/Users/mishasmacbook/Desktop/HSE/datas/.venv/lib/python3.13/site-packages/sklearn/preprocessing/_encoders.py:246: UserWarning: Found unknown categories in columns [2, 4, 6] during transform. These unknown categories will be encoded as all zeros\n",
            "  warnings.warn(\n"
          ]
        }
      ],
      "source": [
        "categorical_features = ['experience_level', 'employment_type', 'job_title', 'salary_currency', 'employee_residence', 'remote_ratio',\n",
        "       'company_location', 'company_size']\n",
        "\n",
        "ct = ColumnTransformer(\n",
        "    transformers=[\n",
        "        ('cat', OneHotEncoder(handle_unknown='ignore', sparse_output=False, drop='first'), categorical_features)\n",
        "    ],\n",
        "    remainder='passthrough'\n",
        ")\n",
        "\n",
        "X_train = ct.fit_transform(X_train)\n",
        "X_test = ct.transform(X_test)\n",
        "X_val = ct.transform(X_val)"
      ]
    },
    {
      "cell_type": "code",
      "execution_count": 111,
      "id": "bd4032b8",
      "metadata": {},
      "outputs": [],
      "source": [
        "lr = LinearRegression(n_jobs=-1).fit(X_train, y_train)"
      ]
    },
    {
      "cell_type": "code",
      "execution_count": 112,
      "id": "617680b1",
      "metadata": {},
      "outputs": [
        {
          "name": "stdout",
          "output_type": "stream",
          "text": [
            "MAPE on train set: 0.31\n",
            "MAPE on test set: 0.44\n",
            "RMSE on train set: 45607.36\n",
            "RMSE on test set: 45305.41\n"
          ]
        }
      ],
      "source": [
        "print(f'MAPE on train set: {mean_absolute_percentage_error(y_train, lr.predict(X_train)):.2f}')\n",
        "print(f'MAPE on test set: {mean_absolute_percentage_error(y_test, lr.predict(X_test)):.2f}')\n",
        "print(f'RMSE on train set: {mean_squared_error(y_train, lr.predict(X_train))**.5:.2f}')\n",
        "print(f'RMSE on test set: {mean_squared_error(y_test, lr.predict(X_test))**.5:.2f}')"
      ]
    },
    {
      "cell_type": "markdown",
      "id": "3578292c",
      "metadata": {
        "id": "3578292c"
      },
      "source": [
        "## Задание 3 (0.5 балла) XGboost"
      ]
    },
    {
      "cell_type": "markdown",
      "id": "3RJuwwoty9w1",
      "metadata": {
        "id": "3RJuwwoty9w1"
      },
      "source": [
        "Начнем с библиотеки xgboost.\n",
        "\n",
        "Обучите модель `XGBRegressor` на тех же данных, что линейную модель, подобрав оптимальные гиперпараметры (`max_depth, learning_rate, n_estimators, gamma`, etc.) по валидационной выборке. Оцените качество итоговой модели (MAPE, RMSE), скорость обучения и скорость предсказания."
      ]
    },
    {
      "cell_type": "code",
      "execution_count": null,
      "id": "285f7af9",
      "metadata": {},
      "outputs": [
        {
          "name": "stdout",
          "output_type": "stream",
          "text": [
            "Fitting 5 folds for each of 1000 candidates, totalling 5000 fits\n",
            "Лучшие параметры: {'subsample': 1.0, 'reg_lambda': 1.0, 'reg_alpha': 0.2, 'n_estimators': 700, 'max_depth': 9, 'learning_rate': 0.01, 'gamma': 0.05, 'colsample_bytree': 1.0}\n",
            "Лучшее значение ошибки: 0.34683587551116946\n"
          ]
        }
      ],
      "source": [
        "from xgboost.sklearn import XGBRegressor\n",
        "from sklearn.model_selection import RandomizedSearchCV\n",
        "\n",
        "param_grid = {\n",
        "    'max_depth': [2, 3, 4, 5, 6, 7, 8, 9, 10, 11, 12],\n",
        "    'learning_rate': [0.01, 0.03, 0.05, 0.07, 0.1, 0.15, 0.2],\n",
        "    'n_estimators': [200, 300, 500, 700, 900, 1100],\n",
        "    'subsample': [0.5, 0.6, 0.7, 0.8, 0.9, 1.0],\n",
        "    'colsample_bytree': [0.6, 0.7, 0.8, 0.9, 1.0],\n",
        "    'gamma': [0, 0.05, 0.1, 0.2, 0.3, 0.4],\n",
        "    'reg_alpha': [0, 0.1, 0.2, 0.3, 0.4, 0.5],\n",
        "    'reg_lambda': [0.5, 1.0, 1.5, 2.0]\n",
        "}\n",
        "\n",
        "xgb = XGBRegressor(objective='reg:squarederror', random_state=123)\n",
        "random_search = RandomizedSearchCV(estimator=xgb, param_distributions=param_grid, scoring='neg_mean_absolute_percentage_error', cv=5, verbose=1, n_iter=1000, random_state=123, n_jobs=-1)\n",
        "random_search.fit(X_val, y_val)\n",
        "\n",
        "print('Лучшие параметры:', random_search.best_params_)\n",
        "print('Лучшее значение ошибки:', -random_search.best_score_)"
      ]
    },
    {
      "cell_type": "code",
      "execution_count": null,
      "id": "a99b43b9",
      "metadata": {},
      "outputs": [
        {
          "name": "stdout",
          "output_type": "stream",
          "text": [
            "Время обучения: 1.76 секунд\n",
            "Время предсказания: 0.00174 секунд\n",
            "MAPE on train set: 0.29\n",
            "MAPE on test set: 0.40\n",
            "RMSE on train set: 42315.03\n",
            "RMSE on test set: 43321.08\n"
          ]
        }
      ],
      "source": [
        "import time\n",
        "t = time.time()\n",
        "xgb = XGBRegressor(**random_search.best_params_, objective='reg:squarederror', random_state=123).fit(X_train, y_train)\n",
        "print(f'Время обучения: {time.time() - t:.2f} секунд')\n",
        "\n",
        "t = time.time()\n",
        "xgb.predict(X_test)\n",
        "print(f'Время предсказания: {time.time() - t:.5f} секунд')\n",
        "\n",
        "print(f'MAPE on train set: {mean_absolute_percentage_error(y_train, xgb.predict(X_train)):.2f}')\n",
        "print(f'MAPE on test set: {mean_absolute_percentage_error(y_test, xgb.predict(X_test)):.2f}')\n",
        "print(f'RMSE on train set: {mean_squared_error(y_train, xgb.predict(X_train))**.5:.2f}')\n",
        "print(f'RMSE on test set: {mean_squared_error(y_test, xgb.predict(X_test))**.5:.2f}')"
      ]
    },
    {
      "cell_type": "markdown",
      "id": "RmWp9wxu318i",
      "metadata": {
        "id": "RmWp9wxu318i"
      },
      "source": [
        "## Задание 4 (1 балл) CatBoost"
      ]
    },
    {
      "cell_type": "markdown",
      "id": "bDWqieZk3-rv",
      "metadata": {
        "id": "bDWqieZk3-rv"
      },
      "source": [
        "Теперь библиотека CatBoost.\n",
        "\n",
        "Обучите модель `CatBoostRegressor`, подобрав оптимальные гиперпараметры (`depth, learning_rate, iterations`, etc.) по валидационной выборке. Оцените качество итоговой модели (MAPE, RMSE), скорость обучения и скорость предсказания."
      ]
    },
    {
      "cell_type": "code",
      "execution_count": null,
      "id": "mbhrOOPJ4X9C",
      "metadata": {
        "id": "mbhrOOPJ4X9C"
      },
      "outputs": [],
      "source": [
        "from catboost import CatBoostRegressor\n",
        "\n",
        "params = {\n",
        "    'depth' : # -- YOUR CODE HERE -- ,\n",
        "    'learning_rate' : # -- YOUR CODE HERE -- ,\n",
        "    'iterations' : # -- YOUR CODE HERE -- ,\n",
        "    # -- YOUR CODE HERE --\n",
        "}\n",
        "\n",
        "# -- YOUR CODE HERE --"
      ]
    },
    {
      "cell_type": "code",
      "execution_count": null,
      "id": "Ztdt39FZVruJ",
      "metadata": {
        "id": "Ztdt39FZVruJ"
      },
      "outputs": [],
      "source": [
        "# -- YOUR CODE HERE --\n",
        "\n",
        "print('MAPE: ', # -- YOUR CODE HERE -- )\n",
        "print('RMSE: ', # -- YOUR CODE HERE -- )"
      ]
    },
    {
      "cell_type": "markdown",
      "id": "ruUNeGOk4lho",
      "metadata": {
        "id": "ruUNeGOk4lho"
      },
      "source": [
        "Для применения catboost моделей не обязательно сначала кодировать категориальные признаки, модель может кодировать их сама. Обучите catboost с подбором оптимальных гиперпараметров снова, используя pool для передачи данных в модель с указанием какие признаки категориальные, а какие нет с помощью параметра cat_features. Оцените качество и время. Стало ли лучше?"
      ]
    },
    {
      "cell_type": "code",
      "execution_count": null,
      "id": "5vQr1f9P6cQ5",
      "metadata": {
        "id": "5vQr1f9P6cQ5"
      },
      "outputs": [],
      "source": [
        "from catboost import Pool\n",
        "\n",
        "# -- YOUR CODE HERE --"
      ]
    },
    {
      "cell_type": "markdown",
      "id": "eA0djixU7L8c",
      "metadata": {
        "id": "eA0djixU7L8c"
      },
      "source": [
        "**Ответ:** # -- YOUR ANSWER HERE --"
      ]
    },
    {
      "cell_type": "markdown",
      "id": "a881ad9d",
      "metadata": {
        "id": "a881ad9d"
      },
      "source": [
        "## Задание 5 (0.5 балла) LightGBM"
      ]
    },
    {
      "cell_type": "markdown",
      "id": "a35f87a6",
      "metadata": {
        "id": "a35f87a6"
      },
      "source": [
        "И наконец библиотека LightGBM - используйте `LGBMRegressor`, снова подберите гиперпараметры, оцените качество и скорость.\n"
      ]
    },
    {
      "cell_type": "code",
      "execution_count": null,
      "id": "pMxY8Owp78Ow",
      "metadata": {
        "id": "pMxY8Owp78Ow"
      },
      "outputs": [],
      "source": [
        "from lightgbm import LGBMRegressor\n",
        "\n",
        "\n",
        "params = {\n",
        "    'max_depth' : # -- YOUR CODE HERE -- ,\n",
        "    'learning_rate' : # -- YOUR CODE HERE -- ,\n",
        "    'n_estimators' : # -- YOUR CODE HERE -- ,\n",
        "    # -- YOUR CODE HERE --\n",
        "}\n",
        "\n",
        "# -- YOUR CODE HERE --"
      ]
    },
    {
      "cell_type": "code",
      "execution_count": null,
      "id": "M2-WvfIrV556",
      "metadata": {
        "id": "M2-WvfIrV556"
      },
      "outputs": [],
      "source": [
        "# -- YOUR CODE HERE --\n",
        "\n",
        "print('MAPE: ', # -- YOUR CODE HERE -- )\n",
        "print('RMSE: ', # -- YOUR CODE HERE -- )"
      ]
    },
    {
      "cell_type": "markdown",
      "id": "7c56d873",
      "metadata": {
        "id": "7c56d873"
      },
      "source": [
        "## Задание 6 (2 балла) Сравнение и выводы"
      ]
    },
    {
      "cell_type": "markdown",
      "id": "3a2c1148",
      "metadata": {
        "id": "3a2c1148"
      },
      "source": [
        "Сравните модели бустинга и сделайте про них выводы, какая из моделей показала лучший/худший результат по качеству, скорости обучения и скорости предсказания? Как отличаются гиперпараметры для разных моделей?"
      ]
    },
    {
      "cell_type": "markdown",
      "id": "gzelUdAl-V9u",
      "metadata": {
        "id": "gzelUdAl-V9u"
      },
      "source": [
        "**Ответ:** # -- YOUR ANSWER HERE --"
      ]
    },
    {
      "cell_type": "markdown",
      "id": "fokm4x1WmxQr",
      "metadata": {
        "id": "fokm4x1WmxQr"
      },
      "source": [
        "# Часть 2 Кластеризация (5 баллов)"
      ]
    },
    {
      "cell_type": "markdown",
      "id": "UZBpHMoNm1Sa",
      "metadata": {
        "id": "UZBpHMoNm1Sa"
      },
      "source": [
        "Будем работать с данными о том, каких исполнителей слушают пользователи музыкального сервиса.\n",
        "\n",
        "Каждая строка таблицы - информация об одном пользователе. Каждый столбец - это исполнитель (The Beatles, Radiohead, etc.)\n",
        "\n",
        "Для каждой пары (пользователь, исполнитель) в таблице стоит число - доля прослушивания этого исполнителя этим пользователем.\n"
      ]
    },
    {
      "cell_type": "code",
      "execution_count": null,
      "id": "nGa-xYikoogL",
      "metadata": {
        "colab": {
          "base_uri": "https://localhost:8080/",
          "height": 290
        },
        "id": "nGa-xYikoogL",
        "outputId": "78cf46ec-1aae-4cb9-a457-5a7a47a16248"
      },
      "outputs": [
        {
          "data": {
            "application/vnd.google.colaboratory.intrinsic+json": {
              "type": "dataframe",
              "variable_name": "ratings"
            },
            "text/html": [
              "\n",
              "  <div id=\"df-a00c7b2f-8f24-4287-9a73-64f6367eee44\" class=\"colab-df-container\">\n",
              "    <div>\n",
              "<style scoped>\n",
              "    .dataframe tbody tr th:only-of-type {\n",
              "        vertical-align: middle;\n",
              "    }\n",
              "\n",
              "    .dataframe tbody tr th {\n",
              "        vertical-align: top;\n",
              "    }\n",
              "\n",
              "    .dataframe thead th {\n",
              "        text-align: right;\n",
              "    }\n",
              "</style>\n",
              "<table border=\"1\" class=\"dataframe\">\n",
              "  <thead>\n",
              "    <tr style=\"text-align: right;\">\n",
              "      <th></th>\n",
              "      <th>user</th>\n",
              "      <th>the beatles</th>\n",
              "      <th>radiohead</th>\n",
              "      <th>deathcab for cutie</th>\n",
              "      <th>coldplay</th>\n",
              "      <th>modest mouse</th>\n",
              "      <th>sufjan stevens</th>\n",
              "      <th>dylan. bob</th>\n",
              "      <th>red hot clili peppers</th>\n",
              "      <th>pink fluid</th>\n",
              "      <th>...</th>\n",
              "      <th>municipal waste</th>\n",
              "      <th>townes van zandt</th>\n",
              "      <th>curtis mayfield</th>\n",
              "      <th>jewel</th>\n",
              "      <th>lamb</th>\n",
              "      <th>michal w. smith</th>\n",
              "      <th>群星</th>\n",
              "      <th>agalloch</th>\n",
              "      <th>meshuggah</th>\n",
              "      <th>yellowcard</th>\n",
              "    </tr>\n",
              "  </thead>\n",
              "  <tbody>\n",
              "    <tr>\n",
              "      <th>0</th>\n",
              "      <td>0</td>\n",
              "      <td>NaN</td>\n",
              "      <td>0.020417</td>\n",
              "      <td>NaN</td>\n",
              "      <td>NaN</td>\n",
              "      <td>NaN</td>\n",
              "      <td>NaN</td>\n",
              "      <td>NaN</td>\n",
              "      <td>0.030496</td>\n",
              "      <td>NaN</td>\n",
              "      <td>...</td>\n",
              "      <td>NaN</td>\n",
              "      <td>NaN</td>\n",
              "      <td>NaN</td>\n",
              "      <td>NaN</td>\n",
              "      <td>NaN</td>\n",
              "      <td>NaN</td>\n",
              "      <td>NaN</td>\n",
              "      <td>NaN</td>\n",
              "      <td>NaN</td>\n",
              "      <td>NaN</td>\n",
              "    </tr>\n",
              "    <tr>\n",
              "      <th>1</th>\n",
              "      <td>1</td>\n",
              "      <td>NaN</td>\n",
              "      <td>0.184962</td>\n",
              "      <td>0.024561</td>\n",
              "      <td>NaN</td>\n",
              "      <td>NaN</td>\n",
              "      <td>0.136341</td>\n",
              "      <td>NaN</td>\n",
              "      <td>NaN</td>\n",
              "      <td>NaN</td>\n",
              "      <td>...</td>\n",
              "      <td>NaN</td>\n",
              "      <td>NaN</td>\n",
              "      <td>NaN</td>\n",
              "      <td>NaN</td>\n",
              "      <td>NaN</td>\n",
              "      <td>NaN</td>\n",
              "      <td>NaN</td>\n",
              "      <td>NaN</td>\n",
              "      <td>NaN</td>\n",
              "      <td>NaN</td>\n",
              "    </tr>\n",
              "    <tr>\n",
              "      <th>2</th>\n",
              "      <td>2</td>\n",
              "      <td>NaN</td>\n",
              "      <td>NaN</td>\n",
              "      <td>0.028635</td>\n",
              "      <td>NaN</td>\n",
              "      <td>NaN</td>\n",
              "      <td>NaN</td>\n",
              "      <td>0.024559</td>\n",
              "      <td>NaN</td>\n",
              "      <td>NaN</td>\n",
              "      <td>...</td>\n",
              "      <td>NaN</td>\n",
              "      <td>NaN</td>\n",
              "      <td>NaN</td>\n",
              "      <td>NaN</td>\n",
              "      <td>NaN</td>\n",
              "      <td>NaN</td>\n",
              "      <td>NaN</td>\n",
              "      <td>NaN</td>\n",
              "      <td>NaN</td>\n",
              "      <td>NaN</td>\n",
              "    </tr>\n",
              "    <tr>\n",
              "      <th>3</th>\n",
              "      <td>3</td>\n",
              "      <td>NaN</td>\n",
              "      <td>NaN</td>\n",
              "      <td>NaN</td>\n",
              "      <td>NaN</td>\n",
              "      <td>NaN</td>\n",
              "      <td>NaN</td>\n",
              "      <td>NaN</td>\n",
              "      <td>NaN</td>\n",
              "      <td>NaN</td>\n",
              "      <td>...</td>\n",
              "      <td>NaN</td>\n",
              "      <td>NaN</td>\n",
              "      <td>NaN</td>\n",
              "      <td>NaN</td>\n",
              "      <td>NaN</td>\n",
              "      <td>NaN</td>\n",
              "      <td>NaN</td>\n",
              "      <td>NaN</td>\n",
              "      <td>NaN</td>\n",
              "      <td>NaN</td>\n",
              "    </tr>\n",
              "    <tr>\n",
              "      <th>4</th>\n",
              "      <td>4</td>\n",
              "      <td>0.043529</td>\n",
              "      <td>0.086281</td>\n",
              "      <td>0.034590</td>\n",
              "      <td>0.016712</td>\n",
              "      <td>0.015935</td>\n",
              "      <td>NaN</td>\n",
              "      <td>NaN</td>\n",
              "      <td>NaN</td>\n",
              "      <td>NaN</td>\n",
              "      <td>...</td>\n",
              "      <td>NaN</td>\n",
              "      <td>NaN</td>\n",
              "      <td>NaN</td>\n",
              "      <td>NaN</td>\n",
              "      <td>NaN</td>\n",
              "      <td>NaN</td>\n",
              "      <td>NaN</td>\n",
              "      <td>NaN</td>\n",
              "      <td>NaN</td>\n",
              "      <td>NaN</td>\n",
              "    </tr>\n",
              "  </tbody>\n",
              "</table>\n",
              "<p>5 rows × 1001 columns</p>\n",
              "</div>\n",
              "    <div class=\"colab-df-buttons\">\n",
              "\n",
              "  <div class=\"colab-df-container\">\n",
              "    <button class=\"colab-df-convert\" onclick=\"convertToInteractive('df-a00c7b2f-8f24-4287-9a73-64f6367eee44')\"\n",
              "            title=\"Convert this dataframe to an interactive table.\"\n",
              "            style=\"display:none;\">\n",
              "\n",
              "  <svg xmlns=\"http://www.w3.org/2000/svg\" height=\"24px\" viewBox=\"0 -960 960 960\">\n",
              "    <path d=\"M120-120v-720h720v720H120Zm60-500h600v-160H180v160Zm220 220h160v-160H400v160Zm0 220h160v-160H400v160ZM180-400h160v-160H180v160Zm440 0h160v-160H620v160ZM180-180h160v-160H180v160Zm440 0h160v-160H620v160Z\"/>\n",
              "  </svg>\n",
              "    </button>\n",
              "\n",
              "  <style>\n",
              "    .colab-df-container {\n",
              "      display:flex;\n",
              "      gap: 12px;\n",
              "    }\n",
              "\n",
              "    .colab-df-convert {\n",
              "      background-color: #E8F0FE;\n",
              "      border: none;\n",
              "      border-radius: 50%;\n",
              "      cursor: pointer;\n",
              "      display: none;\n",
              "      fill: #1967D2;\n",
              "      height: 32px;\n",
              "      padding: 0 0 0 0;\n",
              "      width: 32px;\n",
              "    }\n",
              "\n",
              "    .colab-df-convert:hover {\n",
              "      background-color: #E2EBFA;\n",
              "      box-shadow: 0px 1px 2px rgba(60, 64, 67, 0.3), 0px 1px 3px 1px rgba(60, 64, 67, 0.15);\n",
              "      fill: #174EA6;\n",
              "    }\n",
              "\n",
              "    .colab-df-buttons div {\n",
              "      margin-bottom: 4px;\n",
              "    }\n",
              "\n",
              "    [theme=dark] .colab-df-convert {\n",
              "      background-color: #3B4455;\n",
              "      fill: #D2E3FC;\n",
              "    }\n",
              "\n",
              "    [theme=dark] .colab-df-convert:hover {\n",
              "      background-color: #434B5C;\n",
              "      box-shadow: 0px 1px 3px 1px rgba(0, 0, 0, 0.15);\n",
              "      filter: drop-shadow(0px 1px 2px rgba(0, 0, 0, 0.3));\n",
              "      fill: #FFFFFF;\n",
              "    }\n",
              "  </style>\n",
              "\n",
              "    <script>\n",
              "      const buttonEl =\n",
              "        document.querySelector('#df-a00c7b2f-8f24-4287-9a73-64f6367eee44 button.colab-df-convert');\n",
              "      buttonEl.style.display =\n",
              "        google.colab.kernel.accessAllowed ? 'block' : 'none';\n",
              "\n",
              "      async function convertToInteractive(key) {\n",
              "        const element = document.querySelector('#df-a00c7b2f-8f24-4287-9a73-64f6367eee44');\n",
              "        const dataTable =\n",
              "          await google.colab.kernel.invokeFunction('convertToInteractive',\n",
              "                                                    [key], {});\n",
              "        if (!dataTable) return;\n",
              "\n",
              "        const docLinkHtml = 'Like what you see? Visit the ' +\n",
              "          '<a target=\"_blank\" href=https://colab.research.google.com/notebooks/data_table.ipynb>data table notebook</a>'\n",
              "          + ' to learn more about interactive tables.';\n",
              "        element.innerHTML = '';\n",
              "        dataTable['output_type'] = 'display_data';\n",
              "        await google.colab.output.renderOutput(dataTable, element);\n",
              "        const docLink = document.createElement('div');\n",
              "        docLink.innerHTML = docLinkHtml;\n",
              "        element.appendChild(docLink);\n",
              "      }\n",
              "    </script>\n",
              "  </div>\n",
              "\n",
              "\n",
              "<div id=\"df-fe53a2e0-002e-44a4-95a6-9ddd6f28a261\">\n",
              "  <button class=\"colab-df-quickchart\" onclick=\"quickchart('df-fe53a2e0-002e-44a4-95a6-9ddd6f28a261')\"\n",
              "            title=\"Suggest charts\"\n",
              "            style=\"display:none;\">\n",
              "\n",
              "<svg xmlns=\"http://www.w3.org/2000/svg\" height=\"24px\"viewBox=\"0 0 24 24\"\n",
              "     width=\"24px\">\n",
              "    <g>\n",
              "        <path d=\"M19 3H5c-1.1 0-2 .9-2 2v14c0 1.1.9 2 2 2h14c1.1 0 2-.9 2-2V5c0-1.1-.9-2-2-2zM9 17H7v-7h2v7zm4 0h-2V7h2v10zm4 0h-2v-4h2v4z\"/>\n",
              "    </g>\n",
              "</svg>\n",
              "  </button>\n",
              "\n",
              "<style>\n",
              "  .colab-df-quickchart {\n",
              "      --bg-color: #E8F0FE;\n",
              "      --fill-color: #1967D2;\n",
              "      --hover-bg-color: #E2EBFA;\n",
              "      --hover-fill-color: #174EA6;\n",
              "      --disabled-fill-color: #AAA;\n",
              "      --disabled-bg-color: #DDD;\n",
              "  }\n",
              "\n",
              "  [theme=dark] .colab-df-quickchart {\n",
              "      --bg-color: #3B4455;\n",
              "      --fill-color: #D2E3FC;\n",
              "      --hover-bg-color: #434B5C;\n",
              "      --hover-fill-color: #FFFFFF;\n",
              "      --disabled-bg-color: #3B4455;\n",
              "      --disabled-fill-color: #666;\n",
              "  }\n",
              "\n",
              "  .colab-df-quickchart {\n",
              "    background-color: var(--bg-color);\n",
              "    border: none;\n",
              "    border-radius: 50%;\n",
              "    cursor: pointer;\n",
              "    display: none;\n",
              "    fill: var(--fill-color);\n",
              "    height: 32px;\n",
              "    padding: 0;\n",
              "    width: 32px;\n",
              "  }\n",
              "\n",
              "  .colab-df-quickchart:hover {\n",
              "    background-color: var(--hover-bg-color);\n",
              "    box-shadow: 0 1px 2px rgba(60, 64, 67, 0.3), 0 1px 3px 1px rgba(60, 64, 67, 0.15);\n",
              "    fill: var(--button-hover-fill-color);\n",
              "  }\n",
              "\n",
              "  .colab-df-quickchart-complete:disabled,\n",
              "  .colab-df-quickchart-complete:disabled:hover {\n",
              "    background-color: var(--disabled-bg-color);\n",
              "    fill: var(--disabled-fill-color);\n",
              "    box-shadow: none;\n",
              "  }\n",
              "\n",
              "  .colab-df-spinner {\n",
              "    border: 2px solid var(--fill-color);\n",
              "    border-color: transparent;\n",
              "    border-bottom-color: var(--fill-color);\n",
              "    animation:\n",
              "      spin 1s steps(1) infinite;\n",
              "  }\n",
              "\n",
              "  @keyframes spin {\n",
              "    0% {\n",
              "      border-color: transparent;\n",
              "      border-bottom-color: var(--fill-color);\n",
              "      border-left-color: var(--fill-color);\n",
              "    }\n",
              "    20% {\n",
              "      border-color: transparent;\n",
              "      border-left-color: var(--fill-color);\n",
              "      border-top-color: var(--fill-color);\n",
              "    }\n",
              "    30% {\n",
              "      border-color: transparent;\n",
              "      border-left-color: var(--fill-color);\n",
              "      border-top-color: var(--fill-color);\n",
              "      border-right-color: var(--fill-color);\n",
              "    }\n",
              "    40% {\n",
              "      border-color: transparent;\n",
              "      border-right-color: var(--fill-color);\n",
              "      border-top-color: var(--fill-color);\n",
              "    }\n",
              "    60% {\n",
              "      border-color: transparent;\n",
              "      border-right-color: var(--fill-color);\n",
              "    }\n",
              "    80% {\n",
              "      border-color: transparent;\n",
              "      border-right-color: var(--fill-color);\n",
              "      border-bottom-color: var(--fill-color);\n",
              "    }\n",
              "    90% {\n",
              "      border-color: transparent;\n",
              "      border-bottom-color: var(--fill-color);\n",
              "    }\n",
              "  }\n",
              "</style>\n",
              "\n",
              "  <script>\n",
              "    async function quickchart(key) {\n",
              "      const quickchartButtonEl =\n",
              "        document.querySelector('#' + key + ' button');\n",
              "      quickchartButtonEl.disabled = true;  // To prevent multiple clicks.\n",
              "      quickchartButtonEl.classList.add('colab-df-spinner');\n",
              "      try {\n",
              "        const charts = await google.colab.kernel.invokeFunction(\n",
              "            'suggestCharts', [key], {});\n",
              "      } catch (error) {\n",
              "        console.error('Error during call to suggestCharts:', error);\n",
              "      }\n",
              "      quickchartButtonEl.classList.remove('colab-df-spinner');\n",
              "      quickchartButtonEl.classList.add('colab-df-quickchart-complete');\n",
              "    }\n",
              "    (() => {\n",
              "      let quickchartButtonEl =\n",
              "        document.querySelector('#df-fe53a2e0-002e-44a4-95a6-9ddd6f28a261 button');\n",
              "      quickchartButtonEl.style.display =\n",
              "        google.colab.kernel.accessAllowed ? 'block' : 'none';\n",
              "    })();\n",
              "  </script>\n",
              "</div>\n",
              "    </div>\n",
              "  </div>\n"
            ],
            "text/plain": [
              "   user  the beatles  radiohead  deathcab for cutie  coldplay  modest mouse  \\\n",
              "0     0          NaN   0.020417                 NaN       NaN           NaN   \n",
              "1     1          NaN   0.184962            0.024561       NaN           NaN   \n",
              "2     2          NaN        NaN            0.028635       NaN           NaN   \n",
              "3     3          NaN        NaN                 NaN       NaN           NaN   \n",
              "4     4     0.043529   0.086281            0.034590  0.016712      0.015935   \n",
              "\n",
              "   sufjan stevens  dylan. bob  red hot clili peppers  pink fluid  ...  \\\n",
              "0             NaN         NaN               0.030496         NaN  ...   \n",
              "1        0.136341         NaN                    NaN         NaN  ...   \n",
              "2             NaN    0.024559                    NaN         NaN  ...   \n",
              "3             NaN         NaN                    NaN         NaN  ...   \n",
              "4             NaN         NaN                    NaN         NaN  ...   \n",
              "\n",
              "   municipal waste  townes van zandt  curtis mayfield  jewel  lamb  \\\n",
              "0              NaN               NaN              NaN    NaN   NaN   \n",
              "1              NaN               NaN              NaN    NaN   NaN   \n",
              "2              NaN               NaN              NaN    NaN   NaN   \n",
              "3              NaN               NaN              NaN    NaN   NaN   \n",
              "4              NaN               NaN              NaN    NaN   NaN   \n",
              "\n",
              "   michal w. smith  群星  agalloch  meshuggah  yellowcard  \n",
              "0              NaN NaN       NaN        NaN         NaN  \n",
              "1              NaN NaN       NaN        NaN         NaN  \n",
              "2              NaN NaN       NaN        NaN         NaN  \n",
              "3              NaN NaN       NaN        NaN         NaN  \n",
              "4              NaN NaN       NaN        NaN         NaN  \n",
              "\n",
              "[5 rows x 1001 columns]"
            ]
          },
          "execution_count": 64,
          "metadata": {},
          "output_type": "execute_result"
        }
      ],
      "source": [
        "import pandas as pd\n",
        "ratings = pd.read_excel(\"https://github.com/evgpat/edu_stepik_rec_sys/blob/main/datasets/sample_matrix.xlsx?raw=true\", engine='openpyxl')\n",
        "ratings.head()"
      ]
    },
    {
      "cell_type": "markdown",
      "id": "sGeCPjTAoxWs",
      "metadata": {
        "id": "sGeCPjTAoxWs"
      },
      "source": [
        "Будем строить кластеризацию исполнителей: если двух исполнителей слушало много людей примерно одинаковую долю своего времени (то есть векторы близки в пространстве), то, возможно исполнители похожи. Эта информация может быть полезна при построении рекомендательных систем."
      ]
    },
    {
      "cell_type": "markdown",
      "id": "R37mE-R2_3Wj",
      "metadata": {
        "id": "R37mE-R2_3Wj"
      },
      "source": [
        "## Задание 1 (0.5 балла) Подготовка"
      ]
    },
    {
      "cell_type": "markdown",
      "id": "orn7K6q8plA5",
      "metadata": {
        "id": "orn7K6q8plA5"
      },
      "source": [
        "Транспонируем матрицу ratings, чтобы по строкам стояли исполнители."
      ]
    },
    {
      "cell_type": "code",
      "execution_count": null,
      "id": "KU6ljPlCpiwH",
      "metadata": {
        "id": "KU6ljPlCpiwH"
      },
      "outputs": [],
      "source": [
        "# -- YOUR CODE HERE --"
      ]
    },
    {
      "cell_type": "markdown",
      "id": "WEKrlEhMpkhF",
      "metadata": {
        "id": "WEKrlEhMpkhF"
      },
      "source": [
        "Выкиньте строку под названием `user`."
      ]
    },
    {
      "cell_type": "code",
      "execution_count": null,
      "id": "yAaV1q9TpuMh",
      "metadata": {
        "id": "yAaV1q9TpuMh"
      },
      "outputs": [],
      "source": [
        "# -- YOUR CODE HERE --"
      ]
    },
    {
      "cell_type": "markdown",
      "id": "Z823IqqPpv_s",
      "metadata": {
        "id": "Z823IqqPpv_s"
      },
      "source": [
        "В таблице много пропусков, так как пользователи слушают не всех-всех исполнителей, чья музыка представлена в сервисе, а некоторое подмножество (обычно около 30 исполнителей)\n",
        "\n",
        "\n",
        "Доля исполнителя в музыке, прослушанной  пользователем, равна 0, если пользователь никогда не слушал музыку данного музыканта, поэтому заполните пропуски нулями.\n",
        "\n"
      ]
    },
    {
      "cell_type": "code",
      "execution_count": null,
      "id": "XRdHzXJUsOeS",
      "metadata": {
        "colab": {
          "base_uri": "https://localhost:8080/",
          "height": 110
        },
        "id": "XRdHzXJUsOeS",
        "outputId": "499ea6da-ce25-4a04-8827-79306a3c39b2"
      },
      "outputs": [
        {
          "data": {
            "application/vnd.google.colaboratory.intrinsic+json": {
              "type": "dataframe"
            },
            "text/html": [
              "\n",
              "  <div id=\"df-0d83694c-1e33-4b70-a123-7723884bec3e\" class=\"colab-df-container\">\n",
              "    <div>\n",
              "<style scoped>\n",
              "    .dataframe tbody tr th:only-of-type {\n",
              "        vertical-align: middle;\n",
              "    }\n",
              "\n",
              "    .dataframe tbody tr th {\n",
              "        vertical-align: top;\n",
              "    }\n",
              "\n",
              "    .dataframe thead th {\n",
              "        text-align: right;\n",
              "    }\n",
              "</style>\n",
              "<table border=\"1\" class=\"dataframe\">\n",
              "  <thead>\n",
              "    <tr style=\"text-align: right;\">\n",
              "      <th></th>\n",
              "      <th>0</th>\n",
              "      <th>1</th>\n",
              "      <th>2</th>\n",
              "      <th>3</th>\n",
              "      <th>4</th>\n",
              "      <th>5</th>\n",
              "      <th>6</th>\n",
              "      <th>7</th>\n",
              "      <th>8</th>\n",
              "      <th>9</th>\n",
              "      <th>...</th>\n",
              "      <th>4990</th>\n",
              "      <th>4991</th>\n",
              "      <th>4992</th>\n",
              "      <th>4993</th>\n",
              "      <th>4994</th>\n",
              "      <th>4995</th>\n",
              "      <th>4996</th>\n",
              "      <th>4997</th>\n",
              "      <th>4998</th>\n",
              "      <th>4999</th>\n",
              "    </tr>\n",
              "  </thead>\n",
              "  <tbody>\n",
              "    <tr>\n",
              "      <th>ben harper</th>\n",
              "      <td>0.0</td>\n",
              "      <td>0.0</td>\n",
              "      <td>0.0</td>\n",
              "      <td>0.0</td>\n",
              "      <td>0.0</td>\n",
              "      <td>0.0</td>\n",
              "      <td>0.0</td>\n",
              "      <td>0.0</td>\n",
              "      <td>0.0</td>\n",
              "      <td>0.0</td>\n",
              "      <td>...</td>\n",
              "      <td>0.0</td>\n",
              "      <td>0.0</td>\n",
              "      <td>0.0</td>\n",
              "      <td>0.0</td>\n",
              "      <td>0.0</td>\n",
              "      <td>0.0</td>\n",
              "      <td>0.0</td>\n",
              "      <td>0.0</td>\n",
              "      <td>0.0</td>\n",
              "      <td>0.0</td>\n",
              "    </tr>\n",
              "  </tbody>\n",
              "</table>\n",
              "<p>1 rows × 5000 columns</p>\n",
              "</div>\n",
              "    <div class=\"colab-df-buttons\">\n",
              "\n",
              "  <div class=\"colab-df-container\">\n",
              "    <button class=\"colab-df-convert\" onclick=\"convertToInteractive('df-0d83694c-1e33-4b70-a123-7723884bec3e')\"\n",
              "            title=\"Convert this dataframe to an interactive table.\"\n",
              "            style=\"display:none;\">\n",
              "\n",
              "  <svg xmlns=\"http://www.w3.org/2000/svg\" height=\"24px\" viewBox=\"0 -960 960 960\">\n",
              "    <path d=\"M120-120v-720h720v720H120Zm60-500h600v-160H180v160Zm220 220h160v-160H400v160Zm0 220h160v-160H400v160ZM180-400h160v-160H180v160Zm440 0h160v-160H620v160ZM180-180h160v-160H180v160Zm440 0h160v-160H620v160Z\"/>\n",
              "  </svg>\n",
              "    </button>\n",
              "\n",
              "  <style>\n",
              "    .colab-df-container {\n",
              "      display:flex;\n",
              "      gap: 12px;\n",
              "    }\n",
              "\n",
              "    .colab-df-convert {\n",
              "      background-color: #E8F0FE;\n",
              "      border: none;\n",
              "      border-radius: 50%;\n",
              "      cursor: pointer;\n",
              "      display: none;\n",
              "      fill: #1967D2;\n",
              "      height: 32px;\n",
              "      padding: 0 0 0 0;\n",
              "      width: 32px;\n",
              "    }\n",
              "\n",
              "    .colab-df-convert:hover {\n",
              "      background-color: #E2EBFA;\n",
              "      box-shadow: 0px 1px 2px rgba(60, 64, 67, 0.3), 0px 1px 3px 1px rgba(60, 64, 67, 0.15);\n",
              "      fill: #174EA6;\n",
              "    }\n",
              "\n",
              "    .colab-df-buttons div {\n",
              "      margin-bottom: 4px;\n",
              "    }\n",
              "\n",
              "    [theme=dark] .colab-df-convert {\n",
              "      background-color: #3B4455;\n",
              "      fill: #D2E3FC;\n",
              "    }\n",
              "\n",
              "    [theme=dark] .colab-df-convert:hover {\n",
              "      background-color: #434B5C;\n",
              "      box-shadow: 0px 1px 3px 1px rgba(0, 0, 0, 0.15);\n",
              "      filter: drop-shadow(0px 1px 2px rgba(0, 0, 0, 0.3));\n",
              "      fill: #FFFFFF;\n",
              "    }\n",
              "  </style>\n",
              "\n",
              "    <script>\n",
              "      const buttonEl =\n",
              "        document.querySelector('#df-0d83694c-1e33-4b70-a123-7723884bec3e button.colab-df-convert');\n",
              "      buttonEl.style.display =\n",
              "        google.colab.kernel.accessAllowed ? 'block' : 'none';\n",
              "\n",
              "      async function convertToInteractive(key) {\n",
              "        const element = document.querySelector('#df-0d83694c-1e33-4b70-a123-7723884bec3e');\n",
              "        const dataTable =\n",
              "          await google.colab.kernel.invokeFunction('convertToInteractive',\n",
              "                                                    [key], {});\n",
              "        if (!dataTable) return;\n",
              "\n",
              "        const docLinkHtml = 'Like what you see? Visit the ' +\n",
              "          '<a target=\"_blank\" href=https://colab.research.google.com/notebooks/data_table.ipynb>data table notebook</a>'\n",
              "          + ' to learn more about interactive tables.';\n",
              "        element.innerHTML = '';\n",
              "        dataTable['output_type'] = 'display_data';\n",
              "        await google.colab.output.renderOutput(dataTable, element);\n",
              "        const docLink = document.createElement('div');\n",
              "        docLink.innerHTML = docLinkHtml;\n",
              "        element.appendChild(docLink);\n",
              "      }\n",
              "    </script>\n",
              "  </div>\n",
              "\n",
              "    </div>\n",
              "  </div>\n"
            ],
            "text/plain": [
              "            0     1     2     3     4     5     6     7     8     9     ...  \\\n",
              "ben harper   0.0   0.0   0.0   0.0   0.0   0.0   0.0   0.0   0.0   0.0  ...   \n",
              "\n",
              "            4990  4991  4992  4993  4994  4995  4996  4997  4998  4999  \n",
              "ben harper   0.0   0.0   0.0   0.0   0.0   0.0   0.0   0.0   0.0   0.0  \n",
              "\n",
              "[1 rows x 5000 columns]"
            ]
          },
          "execution_count": 67,
          "metadata": {},
          "output_type": "execute_result"
        }
      ],
      "source": [
        "# -- YOUR CODE HERE --\n",
        "ratings.sample()"
      ]
    },
    {
      "cell_type": "markdown",
      "id": "0_1D0JnmAAjL",
      "metadata": {
        "id": "0_1D0JnmAAjL"
      },
      "source": [
        "## Задание 2 (0.5 балла) Первая кластеризация"
      ]
    },
    {
      "cell_type": "markdown",
      "id": "ARuDv5grstBl",
      "metadata": {
        "id": "ARuDv5grstBl"
      },
      "source": [
        "Примените KMeans с 5ю кластерами, сохраните полученные лейблы"
      ]
    },
    {
      "cell_type": "code",
      "execution_count": null,
      "id": "r2HxwIN5ssoO",
      "metadata": {
        "id": "r2HxwIN5ssoO"
      },
      "outputs": [],
      "source": [
        "from sklearn.cluster import KMeans\n",
        "\n",
        "# -- YOUR CODE HERE --"
      ]
    },
    {
      "cell_type": "markdown",
      "id": "aoWre3460SVi",
      "metadata": {
        "id": "aoWre3460SVi"
      },
      "source": [
        "Выведите размеры кластеров. Полезной ли получилась кластеризация? Почему KMeans может выдать такой результат?"
      ]
    },
    {
      "cell_type": "code",
      "execution_count": null,
      "id": "zsGGw7ha1OhP",
      "metadata": {
        "id": "zsGGw7ha1OhP"
      },
      "outputs": [],
      "source": [
        "# -- YOUR CODE HERE --"
      ]
    },
    {
      "cell_type": "markdown",
      "id": "lCcSpb2o11nZ",
      "metadata": {
        "id": "lCcSpb2o11nZ"
      },
      "source": [
        "**Ответ:** # -- YOUR ANSWER HERE --"
      ]
    },
    {
      "cell_type": "markdown",
      "id": "HDLIxdWBAMql",
      "metadata": {
        "id": "HDLIxdWBAMql"
      },
      "source": [
        "## Задание 3 (0.5 балла) Объяснение результатов"
      ]
    },
    {
      "cell_type": "markdown",
      "id": "Z0LPwxlK6PX3",
      "metadata": {
        "id": "Z0LPwxlK6PX3"
      },
      "source": [
        "При кластеризации получилось $\\geq 1$ кластера размера 1. Выведите исполнителей, которые составляют такие кластеры. Среди них должна быть группа The Beatles."
      ]
    },
    {
      "cell_type": "code",
      "execution_count": null,
      "id": "GpopP65iUXiJ",
      "metadata": {
        "id": "GpopP65iUXiJ"
      },
      "outputs": [],
      "source": [
        "# -- YOUR CODE HERE --"
      ]
    },
    {
      "cell_type": "markdown",
      "id": "brfvihta6yyG",
      "metadata": {
        "id": "brfvihta6yyG"
      },
      "source": [
        "Изучите данные, почему именно The Beatles выделяется?\n",
        "\n",
        "Подсказка: посмотрите на долю пользователей, которые слушают каждого исполнителя, среднюю долю прослушивания."
      ]
    },
    {
      "cell_type": "code",
      "execution_count": null,
      "id": "xnK6DL-aUdPi",
      "metadata": {
        "id": "xnK6DL-aUdPi"
      },
      "outputs": [],
      "source": [
        "# -- YOUR CODE HERE --"
      ]
    },
    {
      "cell_type": "markdown",
      "id": "QzYYFir870jG",
      "metadata": {
        "id": "QzYYFir870jG"
      },
      "source": [
        "**Ответ:** # -- YOUR ANSWER HERE --"
      ]
    },
    {
      "cell_type": "markdown",
      "id": "faW2kZFjAS9X",
      "metadata": {
        "id": "faW2kZFjAS9X"
      },
      "source": [
        "## Задание 4 (0.5 балла) Улучшение кластеризации"
      ]
    },
    {
      "cell_type": "markdown",
      "id": "Yzz3BbBw9KKt",
      "metadata": {
        "id": "Yzz3BbBw9KKt"
      },
      "source": [
        "Попытаемся избавиться от этой проблемы: нормализуйте данные при помощи `normalize`."
      ]
    },
    {
      "cell_type": "code",
      "execution_count": null,
      "id": "zg_crbGI9RNG",
      "metadata": {
        "id": "zg_crbGI9RNG"
      },
      "outputs": [],
      "source": [
        "from sklearn.preprocessing import normalize\n",
        "\n",
        "# -- YOUR CODE HERE --"
      ]
    },
    {
      "cell_type": "markdown",
      "id": "vFlwI4ec-SuY",
      "metadata": {
        "id": "vFlwI4ec-SuY"
      },
      "source": [
        "Примените KMeans с 5ю кластерами на преобразованной матрице, посмотрите на их размеры. Стало ли лучше? Может ли кластеризация быть полезной теперь?"
      ]
    },
    {
      "cell_type": "code",
      "execution_count": null,
      "id": "6ic3WvMdUfwb",
      "metadata": {
        "id": "6ic3WvMdUfwb"
      },
      "outputs": [],
      "source": [
        "# -- YOUR CODE HERE --"
      ]
    },
    {
      "cell_type": "markdown",
      "id": "Xj9fyDKd-bzk",
      "metadata": {
        "id": "Xj9fyDKd-bzk"
      },
      "source": [
        "**Ответ** # -- YOUR ANSWER HERE --"
      ]
    },
    {
      "cell_type": "markdown",
      "id": "zFsXACPxAhyv",
      "metadata": {
        "id": "zFsXACPxAhyv"
      },
      "source": [
        "## Задание 5 (1 балл) Центроиды"
      ]
    },
    {
      "cell_type": "markdown",
      "id": "qG5cISdzu7Jh",
      "metadata": {
        "id": "qG5cISdzu7Jh"
      },
      "source": [
        "Выведите для каждого кластера названия топ-10 исполнителей, ближайших к центроиду по косинусной мере. Проинтерпретируйте результат. Что можно сказать о смысле кластеров?"
      ]
    },
    {
      "cell_type": "code",
      "execution_count": null,
      "id": "Q3gI8OlKuCG6",
      "metadata": {
        "id": "Q3gI8OlKuCG6"
      },
      "outputs": [],
      "source": [
        "from scipy.spatial.distance import cosine\n",
        "\n",
        "\n",
        "centroids = km.cluster_centers_\n",
        "\n",
        "# -- YOUR CODE HERE --"
      ]
    },
    {
      "cell_type": "markdown",
      "id": "GwioYtvAxqxT",
      "metadata": {
        "id": "GwioYtvAxqxT"
      },
      "source": [
        "**Ответ:** # -- YOUR ANSWER HERE --"
      ]
    },
    {
      "cell_type": "markdown",
      "id": "TkBh9Dk2C_el",
      "metadata": {
        "id": "TkBh9Dk2C_el"
      },
      "source": [
        "## Задание 6 (1 балл) Визуализация"
      ]
    },
    {
      "cell_type": "markdown",
      "id": "GzP-OoAZDony",
      "metadata": {
        "id": "GzP-OoAZDony"
      },
      "source": [
        "Хотелось бы как-то визуализировать полученную кластеризацию. Постройте точечные графики `plt.scatter` для нескольких пар признаков исполнителей, покрасив точки в цвета кластеров. Почему визуализации получились такими? Хорошо ли они отражают разделение на кластеры? Почему?"
      ]
    },
    {
      "cell_type": "code",
      "execution_count": null,
      "id": "HyVqnEQ3DWgm",
      "metadata": {
        "id": "HyVqnEQ3DWgm"
      },
      "outputs": [],
      "source": [
        "import matplotlib.pyplot as plt\n",
        "\n",
        "# -- YOUR CODE HERE --"
      ]
    },
    {
      "cell_type": "markdown",
      "id": "O5t7YabAFPe4",
      "metadata": {
        "id": "O5t7YabAFPe4"
      },
      "source": [
        "**Ответ:** # -- YOUR ANSWER HERE --"
      ]
    },
    {
      "cell_type": "markdown",
      "id": "ZuPjFHu4GuHK",
      "metadata": {
        "id": "ZuPjFHu4GuHK"
      },
      "source": [
        "Для визуализации данных высокой размерности существует метод t-SNE (стохастическое вложение соседей с t-распределением). Данный метод является нелинейным методом снижения размерности: каждый объект высокой размерности будет моделироваться объектов более низкой (например, 2) размерности таким образом, чтобы похожие объекты моделировались близкими, непохожие - далекими с большой вероятностью.\n",
        "\n",
        "Примените `TSNE` из библиотеки `sklearn` и визуализируйте полученные объекты, покрасив их в цвета их кластеров"
      ]
    },
    {
      "cell_type": "code",
      "execution_count": null,
      "id": "CVNPXKvcH7uV",
      "metadata": {
        "id": "CVNPXKvcH7uV"
      },
      "outputs": [],
      "source": [
        "from sklearn.manifold import TSNE\n",
        "\n",
        "# -- YOUR CODE HERE --"
      ]
    },
    {
      "cell_type": "markdown",
      "id": "Mi1frYgFJCrT",
      "metadata": {
        "id": "Mi1frYgFJCrT"
      },
      "source": [
        "## Задание 7 (1 балл) Подбор гиперпараметров"
      ]
    },
    {
      "cell_type": "markdown",
      "id": "7UKDZt-bAokD",
      "metadata": {
        "id": "7UKDZt-bAokD"
      },
      "source": [
        "Подберите оптимальное количество кластеров (максимум 100 кластеров) с использованием индекса Силуэта. Зафиксируйте `random_state=42`"
      ]
    },
    {
      "cell_type": "code",
      "execution_count": null,
      "id": "S4CxV_XJAy0A",
      "metadata": {
        "id": "S4CxV_XJAy0A"
      },
      "outputs": [],
      "source": [
        "from sklearn.metrics import silhouette_score\n",
        "\n",
        "# -- YOUR CODE HERE --"
      ]
    },
    {
      "cell_type": "markdown",
      "id": "J81KdOFtJORV",
      "metadata": {
        "id": "J81KdOFtJORV"
      },
      "source": [
        "Выведите исполнителей, ближайших с центроидам (аналогично заданию 5). Как соотносятся результаты? Остался ли смысл кластеров прежним? Расскажите про смысл 1-2 интересных кластеров, если он изменился и кластеров слишком много, чтобы рассказать про все."
      ]
    },
    {
      "cell_type": "code",
      "execution_count": null,
      "id": "HMY-058kBqO0",
      "metadata": {
        "id": "HMY-058kBqO0"
      },
      "outputs": [],
      "source": [
        "# -- YOUR CODE HERE --"
      ]
    },
    {
      "cell_type": "markdown",
      "id": "LeWEK2QsJkiX",
      "metadata": {
        "id": "LeWEK2QsJkiX"
      },
      "source": [
        "**Ответ:** # -- YOUR ANSWER HERE --"
      ]
    },
    {
      "cell_type": "markdown",
      "id": "YluT0kiGPe4j",
      "metadata": {
        "id": "YluT0kiGPe4j"
      },
      "source": [
        "Сделайте t-SNE визуализацию полученной кластеризации."
      ]
    },
    {
      "cell_type": "code",
      "execution_count": null,
      "id": "00rY7Z6XPfPa",
      "metadata": {
        "id": "00rY7Z6XPfPa"
      },
      "outputs": [],
      "source": [
        "# -- YOUR CODE HERE --"
      ]
    },
    {
      "cell_type": "markdown",
      "id": "Eo8H1sNqQqiF",
      "metadata": {
        "id": "Eo8H1sNqQqiF"
      },
      "source": [
        "Если кластеров получилось слишком много и визуально цвета плохо отличаются, покрасьте только какой-нибудь интересный кластер из задания выше (`c = (labels == i)`). Хорошо ли этот кластер отражается в визуализации?"
      ]
    },
    {
      "cell_type": "code",
      "execution_count": null,
      "id": "E4oXA3qTQwWT",
      "metadata": {
        "id": "E4oXA3qTQwWT"
      },
      "outputs": [],
      "source": [
        "# -- YOUR CODE HERE --"
      ]
    },
    {
      "cell_type": "markdown",
      "id": "SHxur6z7Q0fu",
      "metadata": {
        "id": "SHxur6z7Q0fu"
      },
      "source": [
        "**Ответ:** # -- YOUR ANSWER HERE --"
      ]
    }
  ],
  "metadata": {
    "colab": {
      "provenance": []
    },
    "kernelspec": {
      "display_name": ".venv",
      "language": "python",
      "name": "python3"
    },
    "language_info": {
      "codemirror_mode": {
        "name": "ipython",
        "version": 3
      },
      "file_extension": ".py",
      "mimetype": "text/x-python",
      "name": "python",
      "nbconvert_exporter": "python",
      "pygments_lexer": "ipython3",
      "version": "3.13.2"
    }
  },
  "nbformat": 4,
  "nbformat_minor": 5
}
